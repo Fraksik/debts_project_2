{
 "cells": [
  {
   "cell_type": "markdown",
   "metadata": {},
   "source": [
    "# Исследование надёжности заёмщиков\n",
    "\n",
    "Заказчик — кредитный отдел банка. Нужно разобраться, влияет ли семейное положение и количество детей клиента на факт погашения кредита в срок. Входные данные от банка — статистика о платёжеспособности клиентов.\n",
    "\n",
    "Результаты исследования будут учтены при построении модели **кредитного скоринга** — специальной системы, которая оценивает способность потенциального заёмщика вернуть кредит банку."
   ]
  },
  {
   "cell_type": "markdown",
   "metadata": {},
   "source": [
    "## Шаг 1. Откройте файл с данными и изучите общую информацию"
   ]
  },
  {
   "cell_type": "code",
   "execution_count": 1,
   "metadata": {},
   "outputs": [],
   "source": [
    "import pandas as pd\n",
    "df = pd.read_csv('datasets/data.csv')"
   ]
  },
  {
   "cell_type": "code",
   "execution_count": 2,
   "metadata": {},
   "outputs": [
    {
     "name": "stdout",
     "output_type": "stream",
     "text": [
      "<class 'pandas.core.frame.DataFrame'>\n",
      "RangeIndex: 21525 entries, 0 to 21524\n",
      "Data columns (total 12 columns):\n",
      " #   Column            Non-Null Count  Dtype  \n",
      "---  ------            --------------  -----  \n",
      " 0   children          21525 non-null  int64  \n",
      " 1   days_employed     19351 non-null  float64\n",
      " 2   dob_years         21525 non-null  int64  \n",
      " 3   education         21525 non-null  object \n",
      " 4   education_id      21525 non-null  int64  \n",
      " 5   family_status     21525 non-null  object \n",
      " 6   family_status_id  21525 non-null  int64  \n",
      " 7   gender            21525 non-null  object \n",
      " 8   income_type       21525 non-null  object \n",
      " 9   debt              21525 non-null  int64  \n",
      " 10  total_income      19351 non-null  float64\n",
      " 11  purpose           21525 non-null  object \n",
      "dtypes: float64(2), int64(5), object(5)\n",
      "memory usage: 2.0+ MB\n"
     ]
    }
   ],
   "source": [
    "df.info()"
   ]
  },
  {
   "cell_type": "markdown",
   "metadata": {},
   "source": [
    "В таблице 12 колонок и 21525 строк.  \n",
    "  \n",
    "В материалах к заданию описаны значения столбцов:\n",
    "* `children` — количество детей в семье - **int**\n",
    "* `days_employed` — общий трудовой стаж в днях - **float**\n",
    "* `dob_years` — возраст клиента в годах - **int**\n",
    "* `education` — уровень образования клиента - **object**\n",
    "* `education_id` — идентификатор уровня образования - **int**\n",
    "* `family_status` — семейное положение - **object**\n",
    "* `family_status_id` — идентификатор семейного положения - **int**\n",
    "* `gender` — пол клиента - **object**\n",
    "* `income_type` — тип занятости - **object**\n",
    "* `debt` — имел ли задолженность по возврату кредитов - **int**\n",
    "* `total_income` — ежемесячный доход - **float**\n",
    "* `purpose` — цель получения кредита - **object**  \n",
    "  \n",
    "\n",
    "В названиях колонок нарушений стиля не наблюдается.  \n",
    "  \n",
    "В столбцах `days_employed` и `total_income` меньшее кол-во строк по сравнению с остальной таблицей. В них могут присутствовать пропущенные значения.  "
   ]
  },
  {
   "cell_type": "code",
   "execution_count": 3,
   "metadata": {},
   "outputs": [
    {
     "data": {
      "text/html": [
       "<div>\n",
       "<style scoped>\n",
       "    .dataframe tbody tr th:only-of-type {\n",
       "        vertical-align: middle;\n",
       "    }\n",
       "\n",
       "    .dataframe tbody tr th {\n",
       "        vertical-align: top;\n",
       "    }\n",
       "\n",
       "    .dataframe thead th {\n",
       "        text-align: right;\n",
       "    }\n",
       "</style>\n",
       "<table border=\"1\" class=\"dataframe\">\n",
       "  <thead>\n",
       "    <tr style=\"text-align: right;\">\n",
       "      <th></th>\n",
       "      <th>children</th>\n",
       "      <th>days_employed</th>\n",
       "      <th>dob_years</th>\n",
       "      <th>education</th>\n",
       "      <th>education_id</th>\n",
       "      <th>family_status</th>\n",
       "      <th>family_status_id</th>\n",
       "      <th>gender</th>\n",
       "      <th>income_type</th>\n",
       "      <th>debt</th>\n",
       "      <th>total_income</th>\n",
       "      <th>purpose</th>\n",
       "    </tr>\n",
       "  </thead>\n",
       "  <tbody>\n",
       "    <tr>\n",
       "      <th>0</th>\n",
       "      <td>1</td>\n",
       "      <td>-8437.673028</td>\n",
       "      <td>42</td>\n",
       "      <td>высшее</td>\n",
       "      <td>0</td>\n",
       "      <td>женат / замужем</td>\n",
       "      <td>0</td>\n",
       "      <td>F</td>\n",
       "      <td>сотрудник</td>\n",
       "      <td>0</td>\n",
       "      <td>253875.639453</td>\n",
       "      <td>покупка жилья</td>\n",
       "    </tr>\n",
       "    <tr>\n",
       "      <th>1</th>\n",
       "      <td>1</td>\n",
       "      <td>-4024.803754</td>\n",
       "      <td>36</td>\n",
       "      <td>среднее</td>\n",
       "      <td>1</td>\n",
       "      <td>женат / замужем</td>\n",
       "      <td>0</td>\n",
       "      <td>F</td>\n",
       "      <td>сотрудник</td>\n",
       "      <td>0</td>\n",
       "      <td>112080.014102</td>\n",
       "      <td>приобретение автомобиля</td>\n",
       "    </tr>\n",
       "    <tr>\n",
       "      <th>2</th>\n",
       "      <td>0</td>\n",
       "      <td>-5623.422610</td>\n",
       "      <td>33</td>\n",
       "      <td>Среднее</td>\n",
       "      <td>1</td>\n",
       "      <td>женат / замужем</td>\n",
       "      <td>0</td>\n",
       "      <td>M</td>\n",
       "      <td>сотрудник</td>\n",
       "      <td>0</td>\n",
       "      <td>145885.952297</td>\n",
       "      <td>покупка жилья</td>\n",
       "    </tr>\n",
       "    <tr>\n",
       "      <th>3</th>\n",
       "      <td>3</td>\n",
       "      <td>-4124.747207</td>\n",
       "      <td>32</td>\n",
       "      <td>среднее</td>\n",
       "      <td>1</td>\n",
       "      <td>женат / замужем</td>\n",
       "      <td>0</td>\n",
       "      <td>M</td>\n",
       "      <td>сотрудник</td>\n",
       "      <td>0</td>\n",
       "      <td>267628.550329</td>\n",
       "      <td>дополнительное образование</td>\n",
       "    </tr>\n",
       "    <tr>\n",
       "      <th>4</th>\n",
       "      <td>0</td>\n",
       "      <td>340266.072047</td>\n",
       "      <td>53</td>\n",
       "      <td>среднее</td>\n",
       "      <td>1</td>\n",
       "      <td>гражданский брак</td>\n",
       "      <td>1</td>\n",
       "      <td>F</td>\n",
       "      <td>пенсионер</td>\n",
       "      <td>0</td>\n",
       "      <td>158616.077870</td>\n",
       "      <td>сыграть свадьбу</td>\n",
       "    </tr>\n",
       "  </tbody>\n",
       "</table>\n",
       "</div>"
      ],
      "text/plain": [
       "   children  days_employed  dob_years education  education_id  \\\n",
       "0         1   -8437.673028         42    высшее             0   \n",
       "1         1   -4024.803754         36   среднее             1   \n",
       "2         0   -5623.422610         33   Среднее             1   \n",
       "3         3   -4124.747207         32   среднее             1   \n",
       "4         0  340266.072047         53   среднее             1   \n",
       "\n",
       "      family_status  family_status_id gender income_type  debt   total_income  \\\n",
       "0   женат / замужем                 0      F   сотрудник     0  253875.639453   \n",
       "1   женат / замужем                 0      F   сотрудник     0  112080.014102   \n",
       "2   женат / замужем                 0      M   сотрудник     0  145885.952297   \n",
       "3   женат / замужем                 0      M   сотрудник     0  267628.550329   \n",
       "4  гражданский брак                 1      F   пенсионер     0  158616.077870   \n",
       "\n",
       "                      purpose  \n",
       "0               покупка жилья  \n",
       "1     приобретение автомобиля  \n",
       "2               покупка жилья  \n",
       "3  дополнительное образование  \n",
       "4             сыграть свадьбу  "
      ]
     },
     "execution_count": 3,
     "metadata": {},
     "output_type": "execute_result"
    }
   ],
   "source": [
    "df.head()"
   ]
  },
  {
   "cell_type": "markdown",
   "metadata": {},
   "source": [
    "**Вывод**"
   ]
  },
  {
   "cell_type": "markdown",
   "metadata": {},
   "source": [
    "В каждой строке таблицы - данные о клиенте банка. В таблице указана личная информация о клиенте:  \n",
    "* кол-во детей\n",
    "* уровень образования\n",
    "* возраст\n",
    "* семейное положение\n",
    "* пол  \n",
    "  \n",
    "Так же указана финансовая активность клиента:  \n",
    "* общий трудовой стаж\n",
    "* тип занятости\n",
    "* была ли задолжность по возрату кредита\n",
    "* ежемесячный доход\n",
    "* цель получения кредита  \n",
    "  \n",
    "Данных достаточно для проверки гипотез о влиянии семейного положения и кол-ва детей.  \n",
    "На первый взгляд потребуется обработка данных:  \n",
    "1. решить вопросы с пустыми значениями\n",
    "2. изменить тип данных в столбцах `days_employed` и `total_income` на **int**\n",
    "3. убрать дубликаты в `education`\n",
    "4. просмотреть список значений в столбце `purpose`, отвечающем за цель кридита и применить к ним лемматизацию\n",
    "5. применить категоризацию к таблице, выделив из нее данные для создания словарей на основе столбцов `family_status` и `education`"
   ]
  },
  {
   "cell_type": "markdown",
   "metadata": {},
   "source": [
    "## Шаг 2. Предобработка данных"
   ]
  },
  {
   "cell_type": "markdown",
   "metadata": {},
   "source": [
    "### Обработка пропусков"
   ]
  },
  {
   "cell_type": "markdown",
   "metadata": {},
   "source": [
    "Для начала узнаем в каких столбцах присутствуют пропущенные значения."
   ]
  },
  {
   "cell_type": "code",
   "execution_count": 4,
   "metadata": {},
   "outputs": [
    {
     "data": {
      "text/plain": [
       "children               0\n",
       "days_employed       2174\n",
       "dob_years              0\n",
       "education              0\n",
       "education_id           0\n",
       "family_status          0\n",
       "family_status_id       0\n",
       "gender                 0\n",
       "income_type            0\n",
       "debt                   0\n",
       "total_income        2174\n",
       "purpose                0\n",
       "dtype: int64"
      ]
     },
     "execution_count": 4,
     "metadata": {},
     "output_type": "execute_result"
    }
   ],
   "source": [
    "df.isna().sum()"
   ]
  },
  {
   "cell_type": "markdown",
   "metadata": {},
   "source": [
    "В столбцах `days_employed` и `total_income` есть пропущенные значение и их равное кол-во. Учитывая, что эти столбцы отвечают за **трудовой стаж** и **ежемесячный доход**, возможно в этих строках указаны безработные, индивидуальные предприниматели или студенты.    \n",
    "Проверим 2 гипотезы:  \n",
    "* клиенты без стажа и клиенты без ежемесячного дохода - это одни и те же клиенты\n",
    "* клиенты без стажа и ежемесячного дохода - это студенты, индивидуальные предприниматели или безработные"
   ]
  },
  {
   "cell_type": "code",
   "execution_count": 5,
   "metadata": {},
   "outputs": [],
   "source": [
    "df_dropna = df.dropna(subset=['days_employed'], inplace=False)"
   ]
  },
  {
   "cell_type": "code",
   "execution_count": 6,
   "metadata": {},
   "outputs": [
    {
     "data": {
      "text/plain": [
       "children            0\n",
       "days_employed       0\n",
       "dob_years           0\n",
       "education           0\n",
       "education_id        0\n",
       "family_status       0\n",
       "family_status_id    0\n",
       "gender              0\n",
       "income_type         0\n",
       "debt                0\n",
       "total_income        0\n",
       "purpose             0\n",
       "dtype: int64"
      ]
     },
     "execution_count": 6,
     "metadata": {},
     "output_type": "execute_result"
    }
   ],
   "source": [
    "df_dropna.isna().sum()"
   ]
  },
  {
   "cell_type": "markdown",
   "metadata": {},
   "source": [
    "**Гипотеза подтвердилась**, пропущенные значения в столбцах `days_employed` и `total_income` относятся к одним и тем же строкам, но удалять эти строки не имеет смысла, т.к. они **не критичны для проверки 2х основных гипотез этого проекта**. По этой причине заполним их значением `0`, которое вполне соответствует типу данных в столбцах.  \n",
    "Но нам придется учитывать этот `0` при проверке третьей гипотезы, касающейся уровня дохода."
   ]
  },
  {
   "cell_type": "code",
   "execution_count": 7,
   "metadata": {},
   "outputs": [
    {
     "data": {
      "text/plain": [
       "children            0\n",
       "days_employed       0\n",
       "dob_years           0\n",
       "education           0\n",
       "education_id        0\n",
       "family_status       0\n",
       "family_status_id    0\n",
       "gender              0\n",
       "income_type         0\n",
       "debt                0\n",
       "total_income        0\n",
       "purpose             0\n",
       "dtype: int64"
      ]
     },
     "execution_count": 7,
     "metadata": {},
     "output_type": "execute_result"
    }
   ],
   "source": [
    "df = df.fillna(0)\n",
    "df.isna().sum()"
   ]
  },
  {
   "cell_type": "code",
   "execution_count": 8,
   "metadata": {},
   "outputs": [
    {
     "data": {
      "text/html": [
       "<div>\n",
       "<style scoped>\n",
       "    .dataframe tbody tr th:only-of-type {\n",
       "        vertical-align: middle;\n",
       "    }\n",
       "\n",
       "    .dataframe tbody tr th {\n",
       "        vertical-align: top;\n",
       "    }\n",
       "\n",
       "    .dataframe thead th {\n",
       "        text-align: right;\n",
       "    }\n",
       "</style>\n",
       "<table border=\"1\" class=\"dataframe\">\n",
       "  <thead>\n",
       "    <tr style=\"text-align: right;\">\n",
       "      <th></th>\n",
       "      <th>children</th>\n",
       "      <th>days_employed</th>\n",
       "      <th>dob_years</th>\n",
       "      <th>education</th>\n",
       "      <th>education_id</th>\n",
       "      <th>family_status</th>\n",
       "      <th>family_status_id</th>\n",
       "      <th>gender</th>\n",
       "      <th>debt</th>\n",
       "      <th>total_income</th>\n",
       "      <th>purpose</th>\n",
       "    </tr>\n",
       "    <tr>\n",
       "      <th>income_type</th>\n",
       "      <th></th>\n",
       "      <th></th>\n",
       "      <th></th>\n",
       "      <th></th>\n",
       "      <th></th>\n",
       "      <th></th>\n",
       "      <th></th>\n",
       "      <th></th>\n",
       "      <th></th>\n",
       "      <th></th>\n",
       "      <th></th>\n",
       "    </tr>\n",
       "  </thead>\n",
       "  <tbody>\n",
       "    <tr>\n",
       "      <th>госслужащий</th>\n",
       "      <td>147</td>\n",
       "      <td>147</td>\n",
       "      <td>147</td>\n",
       "      <td>147</td>\n",
       "      <td>147</td>\n",
       "      <td>147</td>\n",
       "      <td>147</td>\n",
       "      <td>147</td>\n",
       "      <td>147</td>\n",
       "      <td>147</td>\n",
       "      <td>147</td>\n",
       "    </tr>\n",
       "    <tr>\n",
       "      <th>компаньон</th>\n",
       "      <td>508</td>\n",
       "      <td>508</td>\n",
       "      <td>508</td>\n",
       "      <td>508</td>\n",
       "      <td>508</td>\n",
       "      <td>508</td>\n",
       "      <td>508</td>\n",
       "      <td>508</td>\n",
       "      <td>508</td>\n",
       "      <td>508</td>\n",
       "      <td>508</td>\n",
       "    </tr>\n",
       "    <tr>\n",
       "      <th>пенсионер</th>\n",
       "      <td>413</td>\n",
       "      <td>413</td>\n",
       "      <td>413</td>\n",
       "      <td>413</td>\n",
       "      <td>413</td>\n",
       "      <td>413</td>\n",
       "      <td>413</td>\n",
       "      <td>413</td>\n",
       "      <td>413</td>\n",
       "      <td>413</td>\n",
       "      <td>413</td>\n",
       "    </tr>\n",
       "    <tr>\n",
       "      <th>предприниматель</th>\n",
       "      <td>1</td>\n",
       "      <td>1</td>\n",
       "      <td>1</td>\n",
       "      <td>1</td>\n",
       "      <td>1</td>\n",
       "      <td>1</td>\n",
       "      <td>1</td>\n",
       "      <td>1</td>\n",
       "      <td>1</td>\n",
       "      <td>1</td>\n",
       "      <td>1</td>\n",
       "    </tr>\n",
       "    <tr>\n",
       "      <th>сотрудник</th>\n",
       "      <td>1105</td>\n",
       "      <td>1105</td>\n",
       "      <td>1105</td>\n",
       "      <td>1105</td>\n",
       "      <td>1105</td>\n",
       "      <td>1105</td>\n",
       "      <td>1105</td>\n",
       "      <td>1105</td>\n",
       "      <td>1105</td>\n",
       "      <td>1105</td>\n",
       "      <td>1105</td>\n",
       "    </tr>\n",
       "  </tbody>\n",
       "</table>\n",
       "</div>"
      ],
      "text/plain": [
       "                 children  days_employed  dob_years  education  education_id  \\\n",
       "income_type                                                                    \n",
       "госслужащий           147            147        147        147           147   \n",
       "компаньон             508            508        508        508           508   \n",
       "пенсионер             413            413        413        413           413   \n",
       "предприниматель         1              1          1          1             1   \n",
       "сотрудник            1105           1105       1105       1105          1105   \n",
       "\n",
       "                 family_status  family_status_id  gender  debt  total_income  \\\n",
       "income_type                                                                    \n",
       "госслужащий                147               147     147   147           147   \n",
       "компаньон                  508               508     508   508           508   \n",
       "пенсионер                  413               413     413   413           413   \n",
       "предприниматель              1                 1       1     1             1   \n",
       "сотрудник                 1105              1105    1105  1105          1105   \n",
       "\n",
       "                 purpose  \n",
       "income_type               \n",
       "госслужащий          147  \n",
       "компаньон            508  \n",
       "пенсионер            413  \n",
       "предприниматель        1  \n",
       "сотрудник           1105  "
      ]
     },
     "execution_count": 8,
     "metadata": {},
     "output_type": "execute_result"
    }
   ],
   "source": [
    "df_no_income = df[df['days_employed'] == 0]\n",
    "df_no_income.groupby('income_type').count()"
   ]
  },
  {
   "cell_type": "markdown",
   "metadata": {},
   "source": [
    "**Гипотеза не подтвердилась**, клиенты без стажа и ежемесячного дохода имеют разный тип занятости и данные о них могли быть утеряны, либо не подтверждены нужными документами."
   ]
  },
  {
   "cell_type": "markdown",
   "metadata": {},
   "source": [
    "**Вывод**"
   ]
  },
  {
   "cell_type": "markdown",
   "metadata": {},
   "source": [
    "Пропущенные значения были обнаружены в столбцах `days_employed` и `total_income`. Мы выдвинули две гипотезы:  \n",
    "* клиенты без стажа и клиенты без ежемесячного дохода - это одни и те же клиенты\n",
    "* клиенты без стажа и ежемесячного дохода - это студенты, индивидуальные предприниматели или безработные  \n",
    "  \n",
    "Первая гипотеза подтвердилась - это действительно одни и те же строки, вторая была опровергнута - тип занятости у клиентов с незаполненными данными не позволяет сделать конкретных выводов и скорее всего является случайной ошибкой.  \n",
    "  \n",
    "Пустые значения в столбцах были заменены на `0`, т.к. их содержание не критично для проверки основной гипотезы, при этом полностью соответствует типу данных в столбцах."
   ]
  },
  {
   "cell_type": "markdown",
   "metadata": {},
   "source": [
    "### Замена типа данных"
   ]
  },
  {
   "cell_type": "markdown",
   "metadata": {},
   "source": [
    "Столбцы, в которых мы искали пропущенные значения `days_employed` и `total_income`, имеют тип данных **float**, который противоречит хранящейся в них информации.   \n",
    "* Количество рабочих дней не может быть дробным или отрицательным.\n",
    "* Ежемесячный доход так же можно округлить до целых чисел."
   ]
  },
  {
   "cell_type": "markdown",
   "metadata": {},
   "source": [
    "Для смены типа данных на **int** лучше всего подойдет метод astype()."
   ]
  },
  {
   "cell_type": "code",
   "execution_count": 9,
   "metadata": {},
   "outputs": [],
   "source": [
    "df['days_employed'] = df['days_employed'].astype(int)\n",
    "df['total_income'] = df['total_income'].astype(int)"
   ]
  },
  {
   "cell_type": "code",
   "execution_count": 10,
   "metadata": {},
   "outputs": [
    {
     "data": {
      "text/html": [
       "<div>\n",
       "<style scoped>\n",
       "    .dataframe tbody tr th:only-of-type {\n",
       "        vertical-align: middle;\n",
       "    }\n",
       "\n",
       "    .dataframe tbody tr th {\n",
       "        vertical-align: top;\n",
       "    }\n",
       "\n",
       "    .dataframe thead th {\n",
       "        text-align: right;\n",
       "    }\n",
       "</style>\n",
       "<table border=\"1\" class=\"dataframe\">\n",
       "  <thead>\n",
       "    <tr style=\"text-align: right;\">\n",
       "      <th></th>\n",
       "      <th>children</th>\n",
       "      <th>days_employed</th>\n",
       "      <th>dob_years</th>\n",
       "      <th>education</th>\n",
       "      <th>education_id</th>\n",
       "      <th>family_status</th>\n",
       "      <th>family_status_id</th>\n",
       "      <th>gender</th>\n",
       "      <th>income_type</th>\n",
       "      <th>debt</th>\n",
       "      <th>total_income</th>\n",
       "      <th>purpose</th>\n",
       "    </tr>\n",
       "  </thead>\n",
       "  <tbody>\n",
       "    <tr>\n",
       "      <th>0</th>\n",
       "      <td>1</td>\n",
       "      <td>-8437</td>\n",
       "      <td>42</td>\n",
       "      <td>высшее</td>\n",
       "      <td>0</td>\n",
       "      <td>женат / замужем</td>\n",
       "      <td>0</td>\n",
       "      <td>F</td>\n",
       "      <td>сотрудник</td>\n",
       "      <td>0</td>\n",
       "      <td>253875</td>\n",
       "      <td>покупка жилья</td>\n",
       "    </tr>\n",
       "    <tr>\n",
       "      <th>1</th>\n",
       "      <td>1</td>\n",
       "      <td>-4024</td>\n",
       "      <td>36</td>\n",
       "      <td>среднее</td>\n",
       "      <td>1</td>\n",
       "      <td>женат / замужем</td>\n",
       "      <td>0</td>\n",
       "      <td>F</td>\n",
       "      <td>сотрудник</td>\n",
       "      <td>0</td>\n",
       "      <td>112080</td>\n",
       "      <td>приобретение автомобиля</td>\n",
       "    </tr>\n",
       "    <tr>\n",
       "      <th>2</th>\n",
       "      <td>0</td>\n",
       "      <td>-5623</td>\n",
       "      <td>33</td>\n",
       "      <td>Среднее</td>\n",
       "      <td>1</td>\n",
       "      <td>женат / замужем</td>\n",
       "      <td>0</td>\n",
       "      <td>M</td>\n",
       "      <td>сотрудник</td>\n",
       "      <td>0</td>\n",
       "      <td>145885</td>\n",
       "      <td>покупка жилья</td>\n",
       "    </tr>\n",
       "    <tr>\n",
       "      <th>3</th>\n",
       "      <td>3</td>\n",
       "      <td>-4124</td>\n",
       "      <td>32</td>\n",
       "      <td>среднее</td>\n",
       "      <td>1</td>\n",
       "      <td>женат / замужем</td>\n",
       "      <td>0</td>\n",
       "      <td>M</td>\n",
       "      <td>сотрудник</td>\n",
       "      <td>0</td>\n",
       "      <td>267628</td>\n",
       "      <td>дополнительное образование</td>\n",
       "    </tr>\n",
       "    <tr>\n",
       "      <th>4</th>\n",
       "      <td>0</td>\n",
       "      <td>340266</td>\n",
       "      <td>53</td>\n",
       "      <td>среднее</td>\n",
       "      <td>1</td>\n",
       "      <td>гражданский брак</td>\n",
       "      <td>1</td>\n",
       "      <td>F</td>\n",
       "      <td>пенсионер</td>\n",
       "      <td>0</td>\n",
       "      <td>158616</td>\n",
       "      <td>сыграть свадьбу</td>\n",
       "    </tr>\n",
       "  </tbody>\n",
       "</table>\n",
       "</div>"
      ],
      "text/plain": [
       "   children  days_employed  dob_years education  education_id  \\\n",
       "0         1          -8437         42    высшее             0   \n",
       "1         1          -4024         36   среднее             1   \n",
       "2         0          -5623         33   Среднее             1   \n",
       "3         3          -4124         32   среднее             1   \n",
       "4         0         340266         53   среднее             1   \n",
       "\n",
       "      family_status  family_status_id gender income_type  debt  total_income  \\\n",
       "0   женат / замужем                 0      F   сотрудник     0        253875   \n",
       "1   женат / замужем                 0      F   сотрудник     0        112080   \n",
       "2   женат / замужем                 0      M   сотрудник     0        145885   \n",
       "3   женат / замужем                 0      M   сотрудник     0        267628   \n",
       "4  гражданский брак                 1      F   пенсионер     0        158616   \n",
       "\n",
       "                      purpose  \n",
       "0               покупка жилья  \n",
       "1     приобретение автомобиля  \n",
       "2               покупка жилья  \n",
       "3  дополнительное образование  \n",
       "4             сыграть свадьбу  "
      ]
     },
     "execution_count": 10,
     "metadata": {},
     "output_type": "execute_result"
    }
   ],
   "source": [
    "df.head()"
   ]
  },
  {
   "cell_type": "markdown",
   "metadata": {},
   "source": [
    "Тип данных в столбцах был изменен, но на этом проблемы со столбцом `days_employed` не кончились.  \n",
    "В глаза брасаются еще 2 момента:  \n",
    "* отрицательные значения\n",
    "* слишком большие значения\n",
    "\n",
    "Начнем с того, что уберем отрицательные значения, скорее всего это просто обычные значения, записанные по каким то причинам со знаком минус. Об этом можно судить по верхней части таблицы, где мы видим, что чем старше клиент, тем больше значение в трудовом стаже, не смотря на знак минус."
   ]
  },
  {
   "cell_type": "code",
   "execution_count": 11,
   "metadata": {},
   "outputs": [],
   "source": [
    "df['days_employed'] = df['days_employed'].abs()"
   ]
  },
  {
   "cell_type": "code",
   "execution_count": 12,
   "metadata": {},
   "outputs": [
    {
     "data": {
      "text/html": [
       "<div>\n",
       "<style scoped>\n",
       "    .dataframe tbody tr th:only-of-type {\n",
       "        vertical-align: middle;\n",
       "    }\n",
       "\n",
       "    .dataframe tbody tr th {\n",
       "        vertical-align: top;\n",
       "    }\n",
       "\n",
       "    .dataframe thead th {\n",
       "        text-align: right;\n",
       "    }\n",
       "</style>\n",
       "<table border=\"1\" class=\"dataframe\">\n",
       "  <thead>\n",
       "    <tr style=\"text-align: right;\">\n",
       "      <th></th>\n",
       "      <th>children</th>\n",
       "      <th>days_employed</th>\n",
       "      <th>dob_years</th>\n",
       "      <th>education</th>\n",
       "      <th>education_id</th>\n",
       "      <th>family_status</th>\n",
       "      <th>family_status_id</th>\n",
       "      <th>gender</th>\n",
       "      <th>income_type</th>\n",
       "      <th>debt</th>\n",
       "      <th>total_income</th>\n",
       "      <th>purpose</th>\n",
       "    </tr>\n",
       "  </thead>\n",
       "  <tbody>\n",
       "    <tr>\n",
       "      <th>0</th>\n",
       "      <td>1</td>\n",
       "      <td>8437</td>\n",
       "      <td>42</td>\n",
       "      <td>высшее</td>\n",
       "      <td>0</td>\n",
       "      <td>женат / замужем</td>\n",
       "      <td>0</td>\n",
       "      <td>F</td>\n",
       "      <td>сотрудник</td>\n",
       "      <td>0</td>\n",
       "      <td>253875</td>\n",
       "      <td>покупка жилья</td>\n",
       "    </tr>\n",
       "    <tr>\n",
       "      <th>1</th>\n",
       "      <td>1</td>\n",
       "      <td>4024</td>\n",
       "      <td>36</td>\n",
       "      <td>среднее</td>\n",
       "      <td>1</td>\n",
       "      <td>женат / замужем</td>\n",
       "      <td>0</td>\n",
       "      <td>F</td>\n",
       "      <td>сотрудник</td>\n",
       "      <td>0</td>\n",
       "      <td>112080</td>\n",
       "      <td>приобретение автомобиля</td>\n",
       "    </tr>\n",
       "    <tr>\n",
       "      <th>2</th>\n",
       "      <td>0</td>\n",
       "      <td>5623</td>\n",
       "      <td>33</td>\n",
       "      <td>Среднее</td>\n",
       "      <td>1</td>\n",
       "      <td>женат / замужем</td>\n",
       "      <td>0</td>\n",
       "      <td>M</td>\n",
       "      <td>сотрудник</td>\n",
       "      <td>0</td>\n",
       "      <td>145885</td>\n",
       "      <td>покупка жилья</td>\n",
       "    </tr>\n",
       "    <tr>\n",
       "      <th>3</th>\n",
       "      <td>3</td>\n",
       "      <td>4124</td>\n",
       "      <td>32</td>\n",
       "      <td>среднее</td>\n",
       "      <td>1</td>\n",
       "      <td>женат / замужем</td>\n",
       "      <td>0</td>\n",
       "      <td>M</td>\n",
       "      <td>сотрудник</td>\n",
       "      <td>0</td>\n",
       "      <td>267628</td>\n",
       "      <td>дополнительное образование</td>\n",
       "    </tr>\n",
       "    <tr>\n",
       "      <th>4</th>\n",
       "      <td>0</td>\n",
       "      <td>340266</td>\n",
       "      <td>53</td>\n",
       "      <td>среднее</td>\n",
       "      <td>1</td>\n",
       "      <td>гражданский брак</td>\n",
       "      <td>1</td>\n",
       "      <td>F</td>\n",
       "      <td>пенсионер</td>\n",
       "      <td>0</td>\n",
       "      <td>158616</td>\n",
       "      <td>сыграть свадьбу</td>\n",
       "    </tr>\n",
       "  </tbody>\n",
       "</table>\n",
       "</div>"
      ],
      "text/plain": [
       "   children  days_employed  dob_years education  education_id  \\\n",
       "0         1           8437         42    высшее             0   \n",
       "1         1           4024         36   среднее             1   \n",
       "2         0           5623         33   Среднее             1   \n",
       "3         3           4124         32   среднее             1   \n",
       "4         0         340266         53   среднее             1   \n",
       "\n",
       "      family_status  family_status_id gender income_type  debt  total_income  \\\n",
       "0   женат / замужем                 0      F   сотрудник     0        253875   \n",
       "1   женат / замужем                 0      F   сотрудник     0        112080   \n",
       "2   женат / замужем                 0      M   сотрудник     0        145885   \n",
       "3   женат / замужем                 0      M   сотрудник     0        267628   \n",
       "4  гражданский брак                 1      F   пенсионер     0        158616   \n",
       "\n",
       "                      purpose  \n",
       "0               покупка жилья  \n",
       "1     приобретение автомобиля  \n",
       "2               покупка жилья  \n",
       "3  дополнительное образование  \n",
       "4             сыграть свадьбу  "
      ]
     },
     "execution_count": 12,
     "metadata": {},
     "output_type": "execute_result"
    }
   ],
   "source": [
    "df.head()"
   ]
  },
  {
   "cell_type": "markdown",
   "metadata": {},
   "source": [
    "Теперь попробуем разобраться со слишком большими значениями в столбце `days_employed`.  \n",
    "Учитывая, что расчет идет в днях, попробуем взять за основу, что человек может иметь рабочий стаж свыше 60 лет в крайне редких случаях.  \n",
    "`60 \\* 365 = 21 900`  \n",
    "Округлим это значение до `22 000` и будем считать его максимальным допустимым стажем.  \n",
    "Посмотрим сколько клиентов имеют стаж выже допустимого."
   ]
  },
  {
   "cell_type": "code",
   "execution_count": 13,
   "metadata": {},
   "outputs": [
    {
     "name": "stdout",
     "output_type": "stream",
     "text": [
      "3445\n"
     ]
    }
   ],
   "source": [
    "df_long_experience = df[df['days_employed']>22000]\n",
    "print(df_long_experience['days_employed'].count())"
   ]
  },
  {
   "cell_type": "markdown",
   "metadata": {},
   "source": [
    "Группируем этих клиентов по типу занятости."
   ]
  },
  {
   "cell_type": "code",
   "execution_count": 14,
   "metadata": {},
   "outputs": [
    {
     "data": {
      "text/html": [
       "<div>\n",
       "<style scoped>\n",
       "    .dataframe tbody tr th:only-of-type {\n",
       "        vertical-align: middle;\n",
       "    }\n",
       "\n",
       "    .dataframe tbody tr th {\n",
       "        vertical-align: top;\n",
       "    }\n",
       "\n",
       "    .dataframe thead th {\n",
       "        text-align: right;\n",
       "    }\n",
       "</style>\n",
       "<table border=\"1\" class=\"dataframe\">\n",
       "  <thead>\n",
       "    <tr style=\"text-align: right;\">\n",
       "      <th></th>\n",
       "      <th>children</th>\n",
       "      <th>days_employed</th>\n",
       "      <th>dob_years</th>\n",
       "      <th>education</th>\n",
       "      <th>education_id</th>\n",
       "      <th>family_status</th>\n",
       "      <th>family_status_id</th>\n",
       "      <th>gender</th>\n",
       "      <th>debt</th>\n",
       "      <th>total_income</th>\n",
       "      <th>purpose</th>\n",
       "    </tr>\n",
       "    <tr>\n",
       "      <th>income_type</th>\n",
       "      <th></th>\n",
       "      <th></th>\n",
       "      <th></th>\n",
       "      <th></th>\n",
       "      <th></th>\n",
       "      <th></th>\n",
       "      <th></th>\n",
       "      <th></th>\n",
       "      <th></th>\n",
       "      <th></th>\n",
       "      <th></th>\n",
       "    </tr>\n",
       "  </thead>\n",
       "  <tbody>\n",
       "    <tr>\n",
       "      <th>безработный</th>\n",
       "      <td>2</td>\n",
       "      <td>2</td>\n",
       "      <td>2</td>\n",
       "      <td>2</td>\n",
       "      <td>2</td>\n",
       "      <td>2</td>\n",
       "      <td>2</td>\n",
       "      <td>2</td>\n",
       "      <td>2</td>\n",
       "      <td>2</td>\n",
       "      <td>2</td>\n",
       "    </tr>\n",
       "    <tr>\n",
       "      <th>пенсионер</th>\n",
       "      <td>3443</td>\n",
       "      <td>3443</td>\n",
       "      <td>3443</td>\n",
       "      <td>3443</td>\n",
       "      <td>3443</td>\n",
       "      <td>3443</td>\n",
       "      <td>3443</td>\n",
       "      <td>3443</td>\n",
       "      <td>3443</td>\n",
       "      <td>3443</td>\n",
       "      <td>3443</td>\n",
       "    </tr>\n",
       "  </tbody>\n",
       "</table>\n",
       "</div>"
      ],
      "text/plain": [
       "             children  days_employed  dob_years  education  education_id  \\\n",
       "income_type                                                                \n",
       "безработный         2              2          2          2             2   \n",
       "пенсионер        3443           3443       3443       3443          3443   \n",
       "\n",
       "             family_status  family_status_id  gender  debt  total_income  \\\n",
       "income_type                                                                \n",
       "безработный              2                 2       2     2             2   \n",
       "пенсионер             3443              3443    3443  3443          3443   \n",
       "\n",
       "             purpose  \n",
       "income_type           \n",
       "безработный        2  \n",
       "пенсионер       3443  "
      ]
     },
     "execution_count": 14,
     "metadata": {},
     "output_type": "execute_result"
    }
   ],
   "source": [
    "df_long_experience.groupby('income_type').count()"
   ]
  },
  {
   "cell_type": "markdown",
   "metadata": {},
   "source": [
    "Большая часть клиентов относится к пенсионерам, мы можем смело поставить им максимальный трудовой стаж. Безработным поставим 0, их всего 2 и это не повлияет на общую статистику."
   ]
  },
  {
   "cell_type": "code",
   "execution_count": 15,
   "metadata": {},
   "outputs": [
    {
     "data": {
      "text/plain": [
       "22000"
      ]
     },
     "execution_count": 15,
     "metadata": {},
     "output_type": "execute_result"
    }
   ],
   "source": [
    "df.loc[(df['days_employed']>22000) & (df['income_type']=='пенсионер'), 'days_employed'] = 22000\n",
    "df.loc[(df['days_employed']>22000) & (df['income_type']=='безработный'), 'days_employed'] = 0\n",
    "df['days_employed'].max()"
   ]
  },
  {
   "cell_type": "code",
   "execution_count": 16,
   "metadata": {},
   "outputs": [
    {
     "data": {
      "text/html": [
       "<div>\n",
       "<style scoped>\n",
       "    .dataframe tbody tr th:only-of-type {\n",
       "        vertical-align: middle;\n",
       "    }\n",
       "\n",
       "    .dataframe tbody tr th {\n",
       "        vertical-align: top;\n",
       "    }\n",
       "\n",
       "    .dataframe thead th {\n",
       "        text-align: right;\n",
       "    }\n",
       "</style>\n",
       "<table border=\"1\" class=\"dataframe\">\n",
       "  <thead>\n",
       "    <tr style=\"text-align: right;\">\n",
       "      <th></th>\n",
       "      <th>children</th>\n",
       "      <th>days_employed</th>\n",
       "      <th>dob_years</th>\n",
       "      <th>education</th>\n",
       "      <th>education_id</th>\n",
       "      <th>family_status</th>\n",
       "      <th>family_status_id</th>\n",
       "      <th>gender</th>\n",
       "      <th>income_type</th>\n",
       "      <th>debt</th>\n",
       "      <th>total_income</th>\n",
       "      <th>purpose</th>\n",
       "    </tr>\n",
       "  </thead>\n",
       "  <tbody>\n",
       "    <tr>\n",
       "      <th>0</th>\n",
       "      <td>1</td>\n",
       "      <td>8437</td>\n",
       "      <td>42</td>\n",
       "      <td>высшее</td>\n",
       "      <td>0</td>\n",
       "      <td>женат / замужем</td>\n",
       "      <td>0</td>\n",
       "      <td>F</td>\n",
       "      <td>сотрудник</td>\n",
       "      <td>0</td>\n",
       "      <td>253875</td>\n",
       "      <td>покупка жилья</td>\n",
       "    </tr>\n",
       "    <tr>\n",
       "      <th>1</th>\n",
       "      <td>1</td>\n",
       "      <td>4024</td>\n",
       "      <td>36</td>\n",
       "      <td>среднее</td>\n",
       "      <td>1</td>\n",
       "      <td>женат / замужем</td>\n",
       "      <td>0</td>\n",
       "      <td>F</td>\n",
       "      <td>сотрудник</td>\n",
       "      <td>0</td>\n",
       "      <td>112080</td>\n",
       "      <td>приобретение автомобиля</td>\n",
       "    </tr>\n",
       "    <tr>\n",
       "      <th>2</th>\n",
       "      <td>0</td>\n",
       "      <td>5623</td>\n",
       "      <td>33</td>\n",
       "      <td>Среднее</td>\n",
       "      <td>1</td>\n",
       "      <td>женат / замужем</td>\n",
       "      <td>0</td>\n",
       "      <td>M</td>\n",
       "      <td>сотрудник</td>\n",
       "      <td>0</td>\n",
       "      <td>145885</td>\n",
       "      <td>покупка жилья</td>\n",
       "    </tr>\n",
       "    <tr>\n",
       "      <th>3</th>\n",
       "      <td>3</td>\n",
       "      <td>4124</td>\n",
       "      <td>32</td>\n",
       "      <td>среднее</td>\n",
       "      <td>1</td>\n",
       "      <td>женат / замужем</td>\n",
       "      <td>0</td>\n",
       "      <td>M</td>\n",
       "      <td>сотрудник</td>\n",
       "      <td>0</td>\n",
       "      <td>267628</td>\n",
       "      <td>дополнительное образование</td>\n",
       "    </tr>\n",
       "    <tr>\n",
       "      <th>4</th>\n",
       "      <td>0</td>\n",
       "      <td>22000</td>\n",
       "      <td>53</td>\n",
       "      <td>среднее</td>\n",
       "      <td>1</td>\n",
       "      <td>гражданский брак</td>\n",
       "      <td>1</td>\n",
       "      <td>F</td>\n",
       "      <td>пенсионер</td>\n",
       "      <td>0</td>\n",
       "      <td>158616</td>\n",
       "      <td>сыграть свадьбу</td>\n",
       "    </tr>\n",
       "    <tr>\n",
       "      <th>5</th>\n",
       "      <td>0</td>\n",
       "      <td>926</td>\n",
       "      <td>27</td>\n",
       "      <td>высшее</td>\n",
       "      <td>0</td>\n",
       "      <td>гражданский брак</td>\n",
       "      <td>1</td>\n",
       "      <td>M</td>\n",
       "      <td>компаньон</td>\n",
       "      <td>0</td>\n",
       "      <td>255763</td>\n",
       "      <td>покупка жилья</td>\n",
       "    </tr>\n",
       "    <tr>\n",
       "      <th>6</th>\n",
       "      <td>0</td>\n",
       "      <td>2879</td>\n",
       "      <td>43</td>\n",
       "      <td>высшее</td>\n",
       "      <td>0</td>\n",
       "      <td>женат / замужем</td>\n",
       "      <td>0</td>\n",
       "      <td>F</td>\n",
       "      <td>компаньон</td>\n",
       "      <td>0</td>\n",
       "      <td>240525</td>\n",
       "      <td>операции с жильем</td>\n",
       "    </tr>\n",
       "    <tr>\n",
       "      <th>7</th>\n",
       "      <td>0</td>\n",
       "      <td>152</td>\n",
       "      <td>50</td>\n",
       "      <td>СРЕДНЕЕ</td>\n",
       "      <td>1</td>\n",
       "      <td>женат / замужем</td>\n",
       "      <td>0</td>\n",
       "      <td>M</td>\n",
       "      <td>сотрудник</td>\n",
       "      <td>0</td>\n",
       "      <td>135823</td>\n",
       "      <td>образование</td>\n",
       "    </tr>\n",
       "    <tr>\n",
       "      <th>8</th>\n",
       "      <td>2</td>\n",
       "      <td>6929</td>\n",
       "      <td>35</td>\n",
       "      <td>ВЫСШЕЕ</td>\n",
       "      <td>0</td>\n",
       "      <td>гражданский брак</td>\n",
       "      <td>1</td>\n",
       "      <td>F</td>\n",
       "      <td>сотрудник</td>\n",
       "      <td>0</td>\n",
       "      <td>95856</td>\n",
       "      <td>на проведение свадьбы</td>\n",
       "    </tr>\n",
       "    <tr>\n",
       "      <th>9</th>\n",
       "      <td>0</td>\n",
       "      <td>2188</td>\n",
       "      <td>41</td>\n",
       "      <td>среднее</td>\n",
       "      <td>1</td>\n",
       "      <td>женат / замужем</td>\n",
       "      <td>0</td>\n",
       "      <td>M</td>\n",
       "      <td>сотрудник</td>\n",
       "      <td>0</td>\n",
       "      <td>144425</td>\n",
       "      <td>покупка жилья для семьи</td>\n",
       "    </tr>\n",
       "  </tbody>\n",
       "</table>\n",
       "</div>"
      ],
      "text/plain": [
       "   children  days_employed  dob_years education  education_id  \\\n",
       "0         1           8437         42    высшее             0   \n",
       "1         1           4024         36   среднее             1   \n",
       "2         0           5623         33   Среднее             1   \n",
       "3         3           4124         32   среднее             1   \n",
       "4         0          22000         53   среднее             1   \n",
       "5         0            926         27    высшее             0   \n",
       "6         0           2879         43    высшее             0   \n",
       "7         0            152         50   СРЕДНЕЕ             1   \n",
       "8         2           6929         35    ВЫСШЕЕ             0   \n",
       "9         0           2188         41   среднее             1   \n",
       "\n",
       "      family_status  family_status_id gender income_type  debt  total_income  \\\n",
       "0   женат / замужем                 0      F   сотрудник     0        253875   \n",
       "1   женат / замужем                 0      F   сотрудник     0        112080   \n",
       "2   женат / замужем                 0      M   сотрудник     0        145885   \n",
       "3   женат / замужем                 0      M   сотрудник     0        267628   \n",
       "4  гражданский брак                 1      F   пенсионер     0        158616   \n",
       "5  гражданский брак                 1      M   компаньон     0        255763   \n",
       "6   женат / замужем                 0      F   компаньон     0        240525   \n",
       "7   женат / замужем                 0      M   сотрудник     0        135823   \n",
       "8  гражданский брак                 1      F   сотрудник     0         95856   \n",
       "9   женат / замужем                 0      M   сотрудник     0        144425   \n",
       "\n",
       "                      purpose  \n",
       "0               покупка жилья  \n",
       "1     приобретение автомобиля  \n",
       "2               покупка жилья  \n",
       "3  дополнительное образование  \n",
       "4             сыграть свадьбу  \n",
       "5               покупка жилья  \n",
       "6           операции с жильем  \n",
       "7                 образование  \n",
       "8       на проведение свадьбы  \n",
       "9     покупка жилья для семьи  "
      ]
     },
     "execution_count": 16,
     "metadata": {},
     "output_type": "execute_result"
    }
   ],
   "source": [
    "df.head(10)"
   ]
  },
  {
   "cell_type": "markdown",
   "metadata": {},
   "source": [
    "**Вывод**"
   ]
  },
  {
   "cell_type": "markdown",
   "metadata": {},
   "source": [
    "Тип данных в столбцах `days_employed` и `total_income` был заменен с **float** на **int**. Заодно мы немного подправили столбец `days_employed`, поменяв отрицательные значения на положительные и убрав слишком большой трудовой стаж.  "
   ]
  },
  {
   "cell_type": "markdown",
   "metadata": {},
   "source": [
    "### Обработка дубликатов"
   ]
  },
  {
   "cell_type": "markdown",
   "metadata": {},
   "source": [
    "Сперва справим все неявные дубликаты, т.к. значения в столбце `education` могут быть записаны по разному, они могут не проявиться при поиске явных дубликатов. После чего займемся явными.  \n",
    "Проверим какой список уникальных значений есть в столбцах."
   ]
  },
  {
   "cell_type": "code",
   "execution_count": 17,
   "metadata": {},
   "outputs": [
    {
     "data": {
      "text/plain": [
       "array(['высшее', 'среднее', 'Среднее', 'СРЕДНЕЕ', 'ВЫСШЕЕ',\n",
       "       'неоконченное высшее', 'начальное', 'Высшее',\n",
       "       'НЕОКОНЧЕННОЕ ВЫСШЕЕ', 'Неоконченное высшее', 'НАЧАЛЬНОЕ',\n",
       "       'Начальное', 'Ученая степень', 'УЧЕНАЯ СТЕПЕНЬ', 'ученая степень'],\n",
       "      dtype=object)"
      ]
     },
     "execution_count": 17,
     "metadata": {},
     "output_type": "execute_result"
    }
   ],
   "source": [
    "df['education'].unique()"
   ]
  },
  {
   "cell_type": "markdown",
   "metadata": {},
   "source": [
    "`education` - потребуется привести все значения к нижнему регистру. Причина появления дубликатов может крыться в человеческом факторе и отсутствии стандартов заполнения форм. В дальнейшем это можно исключить приводя данные к нижнему регистру при записи."
   ]
  },
  {
   "cell_type": "code",
   "execution_count": 18,
   "metadata": {},
   "outputs": [
    {
     "data": {
      "text/plain": [
       "array(['женат / замужем', 'гражданский брак', 'вдовец / вдова',\n",
       "       'в разводе', 'Не женат / не замужем'], dtype=object)"
      ]
     },
     "execution_count": 18,
     "metadata": {},
     "output_type": "execute_result"
    }
   ],
   "source": [
    "df['family_status'].unique()"
   ]
  },
  {
   "cell_type": "markdown",
   "metadata": {},
   "source": [
    "`family_status` - так же все буквы сделаем строчными."
   ]
  },
  {
   "cell_type": "code",
   "execution_count": 19,
   "metadata": {},
   "outputs": [
    {
     "data": {
      "text/plain": [
       "array([0, 1, 2, 3, 4])"
      ]
     },
     "execution_count": 19,
     "metadata": {},
     "output_type": "execute_result"
    }
   ],
   "source": [
    "df['education_id'].unique()"
   ]
  },
  {
   "cell_type": "markdown",
   "metadata": {},
   "source": [
    "`education_id` - преобразований не требуется."
   ]
  },
  {
   "cell_type": "code",
   "execution_count": 20,
   "metadata": {},
   "outputs": [
    {
     "data": {
      "text/plain": [
       "array([0, 1, 2, 3, 4])"
      ]
     },
     "execution_count": 20,
     "metadata": {},
     "output_type": "execute_result"
    }
   ],
   "source": [
    "df['family_status_id'].unique()"
   ]
  },
  {
   "cell_type": "markdown",
   "metadata": {},
   "source": [
    "`family_status_id` - преобразований не требуется."
   ]
  },
  {
   "cell_type": "code",
   "execution_count": 21,
   "metadata": {},
   "outputs": [
    {
     "data": {
      "text/plain": [
       "array(['F', 'M', 'XNA'], dtype=object)"
      ]
     },
     "execution_count": 21,
     "metadata": {},
     "output_type": "execute_result"
    }
   ],
   "source": [
    "df['gender'].unique()"
   ]
  },
  {
   "cell_type": "markdown",
   "metadata": {},
   "source": [
    "`gender` - преобразований не треубется, дубликатов нет."
   ]
  },
  {
   "cell_type": "code",
   "execution_count": 22,
   "metadata": {},
   "outputs": [
    {
     "data": {
      "text/plain": [
       "array(['сотрудник', 'пенсионер', 'компаньон', 'госслужащий',\n",
       "       'безработный', 'предприниматель', 'студент', 'в декрете'],\n",
       "      dtype=object)"
      ]
     },
     "execution_count": 22,
     "metadata": {},
     "output_type": "execute_result"
    }
   ],
   "source": [
    "df['income_type'].unique()"
   ]
  },
  {
   "cell_type": "markdown",
   "metadata": {},
   "source": [
    "`income_type` - преобразований не треубется, дубликатов нет."
   ]
  },
  {
   "cell_type": "code",
   "execution_count": 23,
   "metadata": {},
   "outputs": [
    {
     "data": {
      "text/plain": [
       "array([0, 1])"
      ]
     },
     "execution_count": 23,
     "metadata": {},
     "output_type": "execute_result"
    }
   ],
   "source": [
    "df['debt'].unique()"
   ]
  },
  {
   "cell_type": "markdown",
   "metadata": {},
   "source": [
    "`debt` - преобразований не треубется, дубликатов нет."
   ]
  },
  {
   "cell_type": "code",
   "execution_count": 24,
   "metadata": {},
   "outputs": [
    {
     "data": {
      "text/plain": [
       "array(['покупка жилья', 'приобретение автомобиля',\n",
       "       'дополнительное образование', 'сыграть свадьбу',\n",
       "       'операции с жильем', 'образование', 'на проведение свадьбы',\n",
       "       'покупка жилья для семьи', 'покупка недвижимости',\n",
       "       'покупка коммерческой недвижимости', 'покупка жилой недвижимости',\n",
       "       'строительство собственной недвижимости', 'недвижимость',\n",
       "       'строительство недвижимости', 'на покупку подержанного автомобиля',\n",
       "       'на покупку своего автомобиля',\n",
       "       'операции с коммерческой недвижимостью',\n",
       "       'строительство жилой недвижимости', 'жилье',\n",
       "       'операции со своей недвижимостью', 'автомобили',\n",
       "       'заняться образованием', 'сделка с подержанным автомобилем',\n",
       "       'получение образования', 'автомобиль', 'свадьба',\n",
       "       'получение дополнительного образования', 'покупка своего жилья',\n",
       "       'операции с недвижимостью', 'получение высшего образования',\n",
       "       'свой автомобиль', 'сделка с автомобилем',\n",
       "       'профильное образование', 'высшее образование',\n",
       "       'покупка жилья для сдачи', 'на покупку автомобиля', 'ремонт жилью',\n",
       "       'заняться высшим образованием'], dtype=object)"
      ]
     },
     "execution_count": 24,
     "metadata": {},
     "output_type": "execute_result"
    }
   ],
   "source": [
    "df['purpose'].unique()"
   ]
  },
  {
   "cell_type": "markdown",
   "metadata": {},
   "source": [
    "`purpose` - здесь очень много разных значений, столбец требует лемматизации."
   ]
  },
  {
   "cell_type": "code",
   "execution_count": 25,
   "metadata": {},
   "outputs": [
    {
     "data": {
      "text/plain": [
       "array([ 1,  0,  3,  2, -1,  4, 20,  5])"
      ]
     },
     "execution_count": 25,
     "metadata": {},
     "output_type": "execute_result"
    }
   ],
   "source": [
    "df['children'].unique()"
   ]
  },
  {
   "cell_type": "markdown",
   "metadata": {},
   "source": [
    "`children` - отрицательные значения заменим на 0, а значение в 20 скорре всего является опечаткой, его мы заменим на 2."
   ]
  },
  {
   "cell_type": "markdown",
   "metadata": {},
   "source": [
    "По итогу проверки удаление дубликатов требует столбец `education`.   <br>\n",
    "Столбец `family_status` нужно привести буквы к строчной форме. <br>\n",
    "Столбец `children` убрать отрицательные и слишком большие значения."
   ]
  },
  {
   "cell_type": "code",
   "execution_count": 26,
   "metadata": {},
   "outputs": [
    {
     "data": {
      "text/plain": [
       "array(['высшее', 'среднее', 'неоконченное высшее', 'начальное',\n",
       "       'ученая степень'], dtype=object)"
      ]
     },
     "execution_count": 26,
     "metadata": {},
     "output_type": "execute_result"
    }
   ],
   "source": [
    "df['education'] = df['education'].str.lower()\n",
    "df['education'].unique()"
   ]
  },
  {
   "cell_type": "code",
   "execution_count": 27,
   "metadata": {},
   "outputs": [
    {
     "data": {
      "text/plain": [
       "array(['женат / замужем', 'гражданский брак', 'вдовец / вдова',\n",
       "       'в разводе', 'не женат / не замужем'], dtype=object)"
      ]
     },
     "execution_count": 27,
     "metadata": {},
     "output_type": "execute_result"
    }
   ],
   "source": [
    "df['family_status'] = df['family_status'].str.lower()\n",
    "df['family_status'].unique()"
   ]
  },
  {
   "cell_type": "markdown",
   "metadata": {},
   "source": [
    "Вроде все получилось. <br>  Для проверки сравним кол-во уникальных значений `education` и `family_status` с колчиством уникальных значений соответствующих `ID`."
   ]
  },
  {
   "cell_type": "code",
   "execution_count": 28,
   "metadata": {},
   "outputs": [
    {
     "data": {
      "text/plain": [
       "True"
      ]
     },
     "execution_count": 28,
     "metadata": {},
     "output_type": "execute_result"
    }
   ],
   "source": [
    "len(df['education'].unique()) == len(df['education_id'].unique())"
   ]
  },
  {
   "cell_type": "code",
   "execution_count": 29,
   "metadata": {},
   "outputs": [
    {
     "data": {
      "text/plain": [
       "True"
      ]
     },
     "execution_count": 29,
     "metadata": {},
     "output_type": "execute_result"
    }
   ],
   "source": [
    "len(df['family_status'].unique()) == len(df['family_status_id'].unique())"
   ]
  },
  {
   "cell_type": "markdown",
   "metadata": {},
   "source": [
    "Остался столбец `children`. Удалим отрицательные значения и слишком большое значение 20 заменим на 2."
   ]
  },
  {
   "cell_type": "code",
   "execution_count": 30,
   "metadata": {},
   "outputs": [
    {
     "data": {
      "text/plain": [
       "array([1, 0, 3, 2, 4, 5])"
      ]
     },
     "execution_count": 30,
     "metadata": {},
     "output_type": "execute_result"
    }
   ],
   "source": [
    "df.loc[df['children'] < 0, 'children'] = 0\n",
    "df.loc[df['children'] == 20, 'children'] = 2\n",
    "df['children'].unique()"
   ]
  },
  {
   "cell_type": "markdown",
   "metadata": {},
   "source": [
    "После того, как мы удалили неявные дубликаты, удалим явные."
   ]
  },
  {
   "cell_type": "code",
   "execution_count": 31,
   "metadata": {},
   "outputs": [
    {
     "data": {
      "text/plain": [
       "71"
      ]
     },
     "execution_count": 31,
     "metadata": {},
     "output_type": "execute_result"
    }
   ],
   "source": [
    "df.duplicated().sum()"
   ]
  },
  {
   "cell_type": "code",
   "execution_count": 32,
   "metadata": {},
   "outputs": [],
   "source": [
    "df = df.drop_duplicates().reset_index(drop=True)"
   ]
  },
  {
   "cell_type": "code",
   "execution_count": 33,
   "metadata": {},
   "outputs": [
    {
     "data": {
      "text/plain": [
       "0"
      ]
     },
     "execution_count": 33,
     "metadata": {},
     "output_type": "execute_result"
    }
   ],
   "source": [
    "df.duplicated().sum()"
   ]
  },
  {
   "cell_type": "markdown",
   "metadata": {},
   "source": [
    "Явных дубликатов в таблице не осталось."
   ]
  },
  {
   "cell_type": "markdown",
   "metadata": {},
   "source": [
    "**Вывод**"
   ]
  },
  {
   "cell_type": "markdown",
   "metadata": {},
   "source": [
    "Дубликаты в `education` были удалены приведением значений столбца к нижнему регистру. <br>  Требуется сообщить команде разработки о необходимости приведения данных, попадающих в этот столбец к нижнему регистру при сохранении.\n",
    "  \n",
    "`family_status` так же был приведен к нижнему регистру. <br> Требуется сообщить команде разработки о необходимости приведения данных, попадающих в этот столбец к нижнему регистру при сохранении.  \n",
    "\n",
    "В столбце `children` были изменены ошибочные значения -1 и 20 на 0 и 2.  \n",
    "  \n",
    "После чего мы удалили явные дубликаты."
   ]
  },
  {
   "cell_type": "markdown",
   "metadata": {},
   "source": [
    "### Лемматизация"
   ]
  },
  {
   "cell_type": "markdown",
   "metadata": {},
   "source": [
    "Последний столбец `purpose`, содержащий в себе цели взятия кредита содержит большое кол-во уникальных записей. Попробуем лемматизировать его и понять сколько же реальных целей существует при взятии кредита."
   ]
  },
  {
   "cell_type": "markdown",
   "metadata": {},
   "source": [
    "Для начала подключим библиотеку."
   ]
  },
  {
   "cell_type": "code",
   "execution_count": 34,
   "metadata": {},
   "outputs": [],
   "source": [
    "from pymystem3 import Mystem\n",
    "m = Mystem()"
   ]
  },
  {
   "cell_type": "markdown",
   "metadata": {},
   "source": [
    "Далее передадим ей список уникальных значений из столбца `purpose`. Учитывая, что для лемматизации требуется текст, преобразуем список в текст."
   ]
  },
  {
   "cell_type": "code",
   "execution_count": 35,
   "metadata": {},
   "outputs": [
    {
     "data": {
      "text/plain": [
       "['покупка',\n",
       " ' ',\n",
       " 'жилье',\n",
       " ' ',\n",
       " 'приобретение',\n",
       " ' ',\n",
       " 'автомобиль',\n",
       " ' ',\n",
       " 'дополнительный',\n",
       " ' ',\n",
       " 'образование',\n",
       " ' ',\n",
       " 'сыграть',\n",
       " ' ',\n",
       " 'свадьба',\n",
       " ' ',\n",
       " 'операция',\n",
       " ' ',\n",
       " 'с',\n",
       " ' ',\n",
       " 'жилье',\n",
       " ' ',\n",
       " 'образование',\n",
       " ' ',\n",
       " 'на',\n",
       " ' ',\n",
       " 'проведение',\n",
       " ' ',\n",
       " 'свадьба',\n",
       " ' ',\n",
       " 'покупка',\n",
       " ' ',\n",
       " 'жилье',\n",
       " ' ',\n",
       " 'для',\n",
       " ' ',\n",
       " 'семья',\n",
       " ' ',\n",
       " 'покупка',\n",
       " ' ',\n",
       " 'недвижимость',\n",
       " ' ',\n",
       " 'покупка',\n",
       " ' ',\n",
       " 'коммерческий',\n",
       " ' ',\n",
       " 'недвижимость',\n",
       " ' ',\n",
       " 'покупка',\n",
       " ' ',\n",
       " 'жилой',\n",
       " ' ',\n",
       " 'недвижимость',\n",
       " ' ',\n",
       " 'строительство',\n",
       " ' ',\n",
       " 'собственный',\n",
       " ' ',\n",
       " 'недвижимость',\n",
       " ' ',\n",
       " 'недвижимость',\n",
       " ' ',\n",
       " 'строительство',\n",
       " ' ',\n",
       " 'недвижимость',\n",
       " ' ',\n",
       " 'на',\n",
       " ' ',\n",
       " 'покупка',\n",
       " ' ',\n",
       " 'подержать',\n",
       " ' ',\n",
       " 'автомобиль',\n",
       " ' ',\n",
       " 'на',\n",
       " ' ',\n",
       " 'покупка',\n",
       " ' ',\n",
       " 'свой',\n",
       " ' ',\n",
       " 'автомобиль',\n",
       " ' ',\n",
       " 'операция',\n",
       " ' ',\n",
       " 'с',\n",
       " ' ',\n",
       " 'коммерческий',\n",
       " ' ',\n",
       " 'недвижимость',\n",
       " ' ',\n",
       " 'строительство',\n",
       " ' ',\n",
       " 'жилой',\n",
       " ' ',\n",
       " 'недвижимость',\n",
       " ' ',\n",
       " 'жилье',\n",
       " ' ',\n",
       " 'операция',\n",
       " ' ',\n",
       " 'со',\n",
       " ' ',\n",
       " 'свой',\n",
       " ' ',\n",
       " 'недвижимость',\n",
       " ' ',\n",
       " 'автомобиль',\n",
       " ' ',\n",
       " 'заниматься',\n",
       " ' ',\n",
       " 'образование',\n",
       " ' ',\n",
       " 'сделка',\n",
       " ' ',\n",
       " 'с',\n",
       " ' ',\n",
       " 'подержать',\n",
       " ' ',\n",
       " 'автомобиль',\n",
       " ' ',\n",
       " 'получение',\n",
       " ' ',\n",
       " 'образование',\n",
       " ' ',\n",
       " 'автомобиль',\n",
       " ' ',\n",
       " 'свадьба',\n",
       " ' ',\n",
       " 'получение',\n",
       " ' ',\n",
       " 'дополнительный',\n",
       " ' ',\n",
       " 'образование',\n",
       " ' ',\n",
       " 'покупка',\n",
       " ' ',\n",
       " 'свой',\n",
       " ' ',\n",
       " 'жилье',\n",
       " ' ',\n",
       " 'операция',\n",
       " ' ',\n",
       " 'с',\n",
       " ' ',\n",
       " 'недвижимость',\n",
       " ' ',\n",
       " 'получение',\n",
       " ' ',\n",
       " 'высокий',\n",
       " ' ',\n",
       " 'образование',\n",
       " ' ',\n",
       " 'свой',\n",
       " ' ',\n",
       " 'автомобиль',\n",
       " ' ',\n",
       " 'сделка',\n",
       " ' ',\n",
       " 'с',\n",
       " ' ',\n",
       " 'автомобиль',\n",
       " ' ',\n",
       " 'профильный',\n",
       " ' ',\n",
       " 'образование',\n",
       " ' ',\n",
       " 'высокий',\n",
       " ' ',\n",
       " 'образование',\n",
       " ' ',\n",
       " 'покупка',\n",
       " ' ',\n",
       " 'жилье',\n",
       " ' ',\n",
       " 'для',\n",
       " ' ',\n",
       " 'сдача',\n",
       " ' ',\n",
       " 'на',\n",
       " ' ',\n",
       " 'покупка',\n",
       " ' ',\n",
       " 'автомобиль',\n",
       " ' ',\n",
       " 'ремонт',\n",
       " ' ',\n",
       " 'жилье',\n",
       " ' ',\n",
       " 'заниматься',\n",
       " ' ',\n",
       " 'высокий',\n",
       " ' ',\n",
       " 'образование',\n",
       " '\\n']"
      ]
     },
     "execution_count": 35,
     "metadata": {},
     "output_type": "execute_result"
    }
   ],
   "source": [
    "purpose_list = df['purpose'].unique()\n",
    "purpose_list = \" \".join(purpose_list)\n",
    "lemmas = m.lemmatize(purpose_list)\n",
    "lemmas"
   ]
  },
  {
   "cell_type": "markdown",
   "metadata": {},
   "source": [
    "Посчитаем сколько раз каждое слово повторяется в списке при помощи библиотеки `collections` и ее  класса `Counter`."
   ]
  },
  {
   "cell_type": "code",
   "execution_count": 36,
   "metadata": {},
   "outputs": [],
   "source": [
    "from collections import Counter"
   ]
  },
  {
   "cell_type": "code",
   "execution_count": 37,
   "metadata": {},
   "outputs": [],
   "source": [
    "lemmas_counter_list = Counter(lemmas)"
   ]
  },
  {
   "cell_type": "markdown",
   "metadata": {},
   "source": [
    "Сразу сортируем список для наглядности."
   ]
  },
  {
   "cell_type": "code",
   "execution_count": 38,
   "metadata": {
    "scrolled": true
   },
   "outputs": [
    {
     "data": {
      "text/plain": [
       "[(' ', 96),\n",
       " ('покупка', 10),\n",
       " ('недвижимость', 10),\n",
       " ('автомобиль', 9),\n",
       " ('образование', 9),\n",
       " ('жилье', 7),\n",
       " ('с', 5),\n",
       " ('операция', 4),\n",
       " ('на', 4),\n",
       " ('свой', 4),\n",
       " ('свадьба', 3),\n",
       " ('строительство', 3),\n",
       " ('получение', 3),\n",
       " ('высокий', 3),\n",
       " ('дополнительный', 2),\n",
       " ('для', 2),\n",
       " ('коммерческий', 2),\n",
       " ('жилой', 2),\n",
       " ('подержать', 2),\n",
       " ('заниматься', 2),\n",
       " ('сделка', 2),\n",
       " ('приобретение', 1),\n",
       " ('сыграть', 1),\n",
       " ('проведение', 1),\n",
       " ('семья', 1),\n",
       " ('собственный', 1),\n",
       " ('со', 1),\n",
       " ('профильный', 1),\n",
       " ('сдача', 1),\n",
       " ('ремонт', 1),\n",
       " ('\\n', 1)]"
      ]
     },
     "execution_count": 38,
     "metadata": {},
     "output_type": "execute_result"
    }
   ],
   "source": [
    "lemmas_counter_list.most_common()"
   ]
  },
  {
   "cell_type": "markdown",
   "metadata": {},
   "source": [
    "**Вывод**"
   ]
  },
  {
   "cell_type": "markdown",
   "metadata": {},
   "source": [
    "Лемматизация столбца, содержащего цели кредита выявила, что основными целями являются дорогостоящие покупки и траты.  \n",
    "Самые распространненые из них:  \n",
    "* покупка недвижимости\n",
    "* покупка автомобиля\n",
    "* оплата обучения\n",
    "* операция\n",
    "* свадьба"
   ]
  },
  {
   "cell_type": "markdown",
   "metadata": {},
   "source": [
    "### Категоризация данных"
   ]
  },
  {
   "cell_type": "markdown",
   "metadata": {},
   "source": [
    "Посмотрим еще раз на нашу таблицу."
   ]
  },
  {
   "cell_type": "code",
   "execution_count": 39,
   "metadata": {},
   "outputs": [
    {
     "data": {
      "text/html": [
       "<div>\n",
       "<style scoped>\n",
       "    .dataframe tbody tr th:only-of-type {\n",
       "        vertical-align: middle;\n",
       "    }\n",
       "\n",
       "    .dataframe tbody tr th {\n",
       "        vertical-align: top;\n",
       "    }\n",
       "\n",
       "    .dataframe thead th {\n",
       "        text-align: right;\n",
       "    }\n",
       "</style>\n",
       "<table border=\"1\" class=\"dataframe\">\n",
       "  <thead>\n",
       "    <tr style=\"text-align: right;\">\n",
       "      <th></th>\n",
       "      <th>children</th>\n",
       "      <th>days_employed</th>\n",
       "      <th>dob_years</th>\n",
       "      <th>education</th>\n",
       "      <th>education_id</th>\n",
       "      <th>family_status</th>\n",
       "      <th>family_status_id</th>\n",
       "      <th>gender</th>\n",
       "      <th>income_type</th>\n",
       "      <th>debt</th>\n",
       "      <th>total_income</th>\n",
       "      <th>purpose</th>\n",
       "    </tr>\n",
       "  </thead>\n",
       "  <tbody>\n",
       "    <tr>\n",
       "      <th>0</th>\n",
       "      <td>1</td>\n",
       "      <td>8437</td>\n",
       "      <td>42</td>\n",
       "      <td>высшее</td>\n",
       "      <td>0</td>\n",
       "      <td>женат / замужем</td>\n",
       "      <td>0</td>\n",
       "      <td>F</td>\n",
       "      <td>сотрудник</td>\n",
       "      <td>0</td>\n",
       "      <td>253875</td>\n",
       "      <td>покупка жилья</td>\n",
       "    </tr>\n",
       "    <tr>\n",
       "      <th>1</th>\n",
       "      <td>1</td>\n",
       "      <td>4024</td>\n",
       "      <td>36</td>\n",
       "      <td>среднее</td>\n",
       "      <td>1</td>\n",
       "      <td>женат / замужем</td>\n",
       "      <td>0</td>\n",
       "      <td>F</td>\n",
       "      <td>сотрудник</td>\n",
       "      <td>0</td>\n",
       "      <td>112080</td>\n",
       "      <td>приобретение автомобиля</td>\n",
       "    </tr>\n",
       "    <tr>\n",
       "      <th>2</th>\n",
       "      <td>0</td>\n",
       "      <td>5623</td>\n",
       "      <td>33</td>\n",
       "      <td>среднее</td>\n",
       "      <td>1</td>\n",
       "      <td>женат / замужем</td>\n",
       "      <td>0</td>\n",
       "      <td>M</td>\n",
       "      <td>сотрудник</td>\n",
       "      <td>0</td>\n",
       "      <td>145885</td>\n",
       "      <td>покупка жилья</td>\n",
       "    </tr>\n",
       "    <tr>\n",
       "      <th>3</th>\n",
       "      <td>3</td>\n",
       "      <td>4124</td>\n",
       "      <td>32</td>\n",
       "      <td>среднее</td>\n",
       "      <td>1</td>\n",
       "      <td>женат / замужем</td>\n",
       "      <td>0</td>\n",
       "      <td>M</td>\n",
       "      <td>сотрудник</td>\n",
       "      <td>0</td>\n",
       "      <td>267628</td>\n",
       "      <td>дополнительное образование</td>\n",
       "    </tr>\n",
       "    <tr>\n",
       "      <th>4</th>\n",
       "      <td>0</td>\n",
       "      <td>22000</td>\n",
       "      <td>53</td>\n",
       "      <td>среднее</td>\n",
       "      <td>1</td>\n",
       "      <td>гражданский брак</td>\n",
       "      <td>1</td>\n",
       "      <td>F</td>\n",
       "      <td>пенсионер</td>\n",
       "      <td>0</td>\n",
       "      <td>158616</td>\n",
       "      <td>сыграть свадьбу</td>\n",
       "    </tr>\n",
       "  </tbody>\n",
       "</table>\n",
       "</div>"
      ],
      "text/plain": [
       "   children  days_employed  dob_years education  education_id  \\\n",
       "0         1           8437         42    высшее             0   \n",
       "1         1           4024         36   среднее             1   \n",
       "2         0           5623         33   среднее             1   \n",
       "3         3           4124         32   среднее             1   \n",
       "4         0          22000         53   среднее             1   \n",
       "\n",
       "      family_status  family_status_id gender income_type  debt  total_income  \\\n",
       "0   женат / замужем                 0      F   сотрудник     0        253875   \n",
       "1   женат / замужем                 0      F   сотрудник     0        112080   \n",
       "2   женат / замужем                 0      M   сотрудник     0        145885   \n",
       "3   женат / замужем                 0      M   сотрудник     0        267628   \n",
       "4  гражданский брак                 1      F   пенсионер     0        158616   \n",
       "\n",
       "                      purpose  \n",
       "0               покупка жилья  \n",
       "1     приобретение автомобиля  \n",
       "2               покупка жилья  \n",
       "3  дополнительное образование  \n",
       "4             сыграть свадьбу  "
      ]
     },
     "execution_count": 39,
     "metadata": {},
     "output_type": "execute_result"
    }
   ],
   "source": [
    "df.head()"
   ]
  },
  {
   "cell_type": "markdown",
   "metadata": {},
   "source": [
    "В таблице присутствуют столбцы `education` и `family_status`, а так же их ID `education_id` и `family_status_id`.  \n",
    "Перенесем столбцы `education` и `family_status` в словари для увеличения скорости работы с таблицей."
   ]
  },
  {
   "cell_type": "code",
   "execution_count": 40,
   "metadata": {},
   "outputs": [],
   "source": [
    "cleaned_df = df[['children', 'days_employed', 'dob_years', 'education_id', 'family_status_id',\n",
    "                 'gender', 'income_type', 'debt', 'total_income', 'purpose']]\n",
    "education_dict = df[['education_id', 'education']]\n",
    "family_status_dict = df[['family_status_id', 'family_status']]"
   ]
  },
  {
   "cell_type": "markdown",
   "metadata": {},
   "source": [
    "Проверим новые таблицы и удалим из словарей явные дубликаты."
   ]
  },
  {
   "cell_type": "code",
   "execution_count": 41,
   "metadata": {},
   "outputs": [
    {
     "data": {
      "text/html": [
       "<div>\n",
       "<style scoped>\n",
       "    .dataframe tbody tr th:only-of-type {\n",
       "        vertical-align: middle;\n",
       "    }\n",
       "\n",
       "    .dataframe tbody tr th {\n",
       "        vertical-align: top;\n",
       "    }\n",
       "\n",
       "    .dataframe thead th {\n",
       "        text-align: right;\n",
       "    }\n",
       "</style>\n",
       "<table border=\"1\" class=\"dataframe\">\n",
       "  <thead>\n",
       "    <tr style=\"text-align: right;\">\n",
       "      <th></th>\n",
       "      <th>children</th>\n",
       "      <th>days_employed</th>\n",
       "      <th>dob_years</th>\n",
       "      <th>education_id</th>\n",
       "      <th>family_status_id</th>\n",
       "      <th>gender</th>\n",
       "      <th>income_type</th>\n",
       "      <th>debt</th>\n",
       "      <th>total_income</th>\n",
       "      <th>purpose</th>\n",
       "    </tr>\n",
       "  </thead>\n",
       "  <tbody>\n",
       "    <tr>\n",
       "      <th>0</th>\n",
       "      <td>1</td>\n",
       "      <td>8437</td>\n",
       "      <td>42</td>\n",
       "      <td>0</td>\n",
       "      <td>0</td>\n",
       "      <td>F</td>\n",
       "      <td>сотрудник</td>\n",
       "      <td>0</td>\n",
       "      <td>253875</td>\n",
       "      <td>покупка жилья</td>\n",
       "    </tr>\n",
       "    <tr>\n",
       "      <th>1</th>\n",
       "      <td>1</td>\n",
       "      <td>4024</td>\n",
       "      <td>36</td>\n",
       "      <td>1</td>\n",
       "      <td>0</td>\n",
       "      <td>F</td>\n",
       "      <td>сотрудник</td>\n",
       "      <td>0</td>\n",
       "      <td>112080</td>\n",
       "      <td>приобретение автомобиля</td>\n",
       "    </tr>\n",
       "    <tr>\n",
       "      <th>2</th>\n",
       "      <td>0</td>\n",
       "      <td>5623</td>\n",
       "      <td>33</td>\n",
       "      <td>1</td>\n",
       "      <td>0</td>\n",
       "      <td>M</td>\n",
       "      <td>сотрудник</td>\n",
       "      <td>0</td>\n",
       "      <td>145885</td>\n",
       "      <td>покупка жилья</td>\n",
       "    </tr>\n",
       "    <tr>\n",
       "      <th>3</th>\n",
       "      <td>3</td>\n",
       "      <td>4124</td>\n",
       "      <td>32</td>\n",
       "      <td>1</td>\n",
       "      <td>0</td>\n",
       "      <td>M</td>\n",
       "      <td>сотрудник</td>\n",
       "      <td>0</td>\n",
       "      <td>267628</td>\n",
       "      <td>дополнительное образование</td>\n",
       "    </tr>\n",
       "    <tr>\n",
       "      <th>4</th>\n",
       "      <td>0</td>\n",
       "      <td>22000</td>\n",
       "      <td>53</td>\n",
       "      <td>1</td>\n",
       "      <td>1</td>\n",
       "      <td>F</td>\n",
       "      <td>пенсионер</td>\n",
       "      <td>0</td>\n",
       "      <td>158616</td>\n",
       "      <td>сыграть свадьбу</td>\n",
       "    </tr>\n",
       "  </tbody>\n",
       "</table>\n",
       "</div>"
      ],
      "text/plain": [
       "   children  days_employed  dob_years  education_id  family_status_id gender  \\\n",
       "0         1           8437         42             0                 0      F   \n",
       "1         1           4024         36             1                 0      F   \n",
       "2         0           5623         33             1                 0      M   \n",
       "3         3           4124         32             1                 0      M   \n",
       "4         0          22000         53             1                 1      F   \n",
       "\n",
       "  income_type  debt  total_income                     purpose  \n",
       "0   сотрудник     0        253875               покупка жилья  \n",
       "1   сотрудник     0        112080     приобретение автомобиля  \n",
       "2   сотрудник     0        145885               покупка жилья  \n",
       "3   сотрудник     0        267628  дополнительное образование  \n",
       "4   пенсионер     0        158616             сыграть свадьбу  "
      ]
     },
     "execution_count": 41,
     "metadata": {},
     "output_type": "execute_result"
    }
   ],
   "source": [
    "cleaned_df.head()"
   ]
  },
  {
   "cell_type": "code",
   "execution_count": 42,
   "metadata": {},
   "outputs": [
    {
     "data": {
      "text/html": [
       "<div>\n",
       "<style scoped>\n",
       "    .dataframe tbody tr th:only-of-type {\n",
       "        vertical-align: middle;\n",
       "    }\n",
       "\n",
       "    .dataframe tbody tr th {\n",
       "        vertical-align: top;\n",
       "    }\n",
       "\n",
       "    .dataframe thead th {\n",
       "        text-align: right;\n",
       "    }\n",
       "</style>\n",
       "<table border=\"1\" class=\"dataframe\">\n",
       "  <thead>\n",
       "    <tr style=\"text-align: right;\">\n",
       "      <th></th>\n",
       "      <th>education_id</th>\n",
       "      <th>education</th>\n",
       "    </tr>\n",
       "  </thead>\n",
       "  <tbody>\n",
       "    <tr>\n",
       "      <th>0</th>\n",
       "      <td>0</td>\n",
       "      <td>высшее</td>\n",
       "    </tr>\n",
       "    <tr>\n",
       "      <th>1</th>\n",
       "      <td>1</td>\n",
       "      <td>среднее</td>\n",
       "    </tr>\n",
       "    <tr>\n",
       "      <th>2</th>\n",
       "      <td>2</td>\n",
       "      <td>неоконченное высшее</td>\n",
       "    </tr>\n",
       "    <tr>\n",
       "      <th>3</th>\n",
       "      <td>3</td>\n",
       "      <td>начальное</td>\n",
       "    </tr>\n",
       "    <tr>\n",
       "      <th>4</th>\n",
       "      <td>4</td>\n",
       "      <td>ученая степень</td>\n",
       "    </tr>\n",
       "  </tbody>\n",
       "</table>\n",
       "</div>"
      ],
      "text/plain": [
       "   education_id            education\n",
       "0             0               высшее\n",
       "1             1              среднее\n",
       "2             2  неоконченное высшее\n",
       "3             3            начальное\n",
       "4             4       ученая степень"
      ]
     },
     "execution_count": 42,
     "metadata": {},
     "output_type": "execute_result"
    }
   ],
   "source": [
    "education_dict = education_dict.drop_duplicates().reset_index(drop=True)\n",
    "education_dict"
   ]
  },
  {
   "cell_type": "code",
   "execution_count": 43,
   "metadata": {},
   "outputs": [
    {
     "data": {
      "text/html": [
       "<div>\n",
       "<style scoped>\n",
       "    .dataframe tbody tr th:only-of-type {\n",
       "        vertical-align: middle;\n",
       "    }\n",
       "\n",
       "    .dataframe tbody tr th {\n",
       "        vertical-align: top;\n",
       "    }\n",
       "\n",
       "    .dataframe thead th {\n",
       "        text-align: right;\n",
       "    }\n",
       "</style>\n",
       "<table border=\"1\" class=\"dataframe\">\n",
       "  <thead>\n",
       "    <tr style=\"text-align: right;\">\n",
       "      <th></th>\n",
       "      <th>family_status_id</th>\n",
       "      <th>family_status</th>\n",
       "    </tr>\n",
       "  </thead>\n",
       "  <tbody>\n",
       "    <tr>\n",
       "      <th>0</th>\n",
       "      <td>0</td>\n",
       "      <td>женат / замужем</td>\n",
       "    </tr>\n",
       "    <tr>\n",
       "      <th>1</th>\n",
       "      <td>1</td>\n",
       "      <td>гражданский брак</td>\n",
       "    </tr>\n",
       "    <tr>\n",
       "      <th>2</th>\n",
       "      <td>2</td>\n",
       "      <td>вдовец / вдова</td>\n",
       "    </tr>\n",
       "    <tr>\n",
       "      <th>3</th>\n",
       "      <td>3</td>\n",
       "      <td>в разводе</td>\n",
       "    </tr>\n",
       "    <tr>\n",
       "      <th>4</th>\n",
       "      <td>4</td>\n",
       "      <td>не женат / не замужем</td>\n",
       "    </tr>\n",
       "  </tbody>\n",
       "</table>\n",
       "</div>"
      ],
      "text/plain": [
       "   family_status_id          family_status\n",
       "0                 0        женат / замужем\n",
       "1                 1       гражданский брак\n",
       "2                 2         вдовец / вдова\n",
       "3                 3              в разводе\n",
       "4                 4  не женат / не замужем"
      ]
     },
     "execution_count": 43,
     "metadata": {},
     "output_type": "execute_result"
    }
   ],
   "source": [
    "family_status_dict = family_status_dict.drop_duplicates().reset_index(drop=True)\n",
    "family_status_dict"
   ]
  },
  {
   "cell_type": "markdown",
   "metadata": {},
   "source": [
    "**Вывод**"
   ]
  },
  {
   "cell_type": "markdown",
   "metadata": {},
   "source": [
    "На основе базовой таблицы `df` была создана новая `cleaned_df` и два словаря к ней `education_dict` и `family_status_dict`.  \n",
    "В новом очищенном виде таблица готова к проверке основных гипотез."
   ]
  },
  {
   "cell_type": "markdown",
   "metadata": {},
   "source": [
    "## Шаг 3. Ответьте на вопросы"
   ]
  },
  {
   "cell_type": "markdown",
   "metadata": {},
   "source": [
    "- Есть ли зависимость между наличием детей и возвратом кредита в срок?"
   ]
  },
  {
   "cell_type": "markdown",
   "metadata": {},
   "source": [
    "Для проверки данной гипотезы нам потребуется понять как наличие детей в столбце `children` влияет на значение в столбце `debt`, отвечающем за долг.  \n",
    "Для этого сгруппируем методом `grouopby` таблицу по кол-ву детей и посчитаем отношение общего кол-ва клиентов к количеству должников по каждой категории."
   ]
  },
  {
   "cell_type": "markdown",
   "metadata": {},
   "source": [
    "Найдем общее кол-во клиентов по каждой категории."
   ]
  },
  {
   "cell_type": "markdown",
   "metadata": {},
   "source": [
    "**Альтернативный вариант решения, общий для всех вопросов.**"
   ]
  },
  {
   "cell_type": "code",
   "execution_count": 44,
   "metadata": {},
   "outputs": [
    {
     "data": {
      "text/html": [
       "<div>\n",
       "<style scoped>\n",
       "    .dataframe tbody tr th:only-of-type {\n",
       "        vertical-align: middle;\n",
       "    }\n",
       "\n",
       "    .dataframe tbody tr th {\n",
       "        vertical-align: top;\n",
       "    }\n",
       "\n",
       "    .dataframe thead tr th {\n",
       "        text-align: left;\n",
       "    }\n",
       "\n",
       "    .dataframe thead tr:last-of-type th {\n",
       "        text-align: right;\n",
       "    }\n",
       "</style>\n",
       "<table border=\"1\" class=\"dataframe\">\n",
       "  <thead>\n",
       "    <tr>\n",
       "      <th></th>\n",
       "      <th>sum</th>\n",
       "      <th>count</th>\n",
       "      <th>conversion</th>\n",
       "    </tr>\n",
       "    <tr>\n",
       "      <th></th>\n",
       "      <th>debt</th>\n",
       "      <th>debt</th>\n",
       "      <th></th>\n",
       "    </tr>\n",
       "    <tr>\n",
       "      <th>children</th>\n",
       "      <th></th>\n",
       "      <th></th>\n",
       "      <th></th>\n",
       "    </tr>\n",
       "  </thead>\n",
       "  <tbody>\n",
       "    <tr>\n",
       "      <th>0</th>\n",
       "      <td>1064</td>\n",
       "      <td>14138</td>\n",
       "      <td>0.08</td>\n",
       "    </tr>\n",
       "    <tr>\n",
       "      <th>1</th>\n",
       "      <td>444</td>\n",
       "      <td>4808</td>\n",
       "      <td>0.09</td>\n",
       "    </tr>\n",
       "    <tr>\n",
       "      <th>2</th>\n",
       "      <td>202</td>\n",
       "      <td>2128</td>\n",
       "      <td>0.09</td>\n",
       "    </tr>\n",
       "    <tr>\n",
       "      <th>3</th>\n",
       "      <td>27</td>\n",
       "      <td>330</td>\n",
       "      <td>0.08</td>\n",
       "    </tr>\n",
       "    <tr>\n",
       "      <th>4</th>\n",
       "      <td>4</td>\n",
       "      <td>41</td>\n",
       "      <td>0.10</td>\n",
       "    </tr>\n",
       "    <tr>\n",
       "      <th>5</th>\n",
       "      <td>0</td>\n",
       "      <td>9</td>\n",
       "      <td>0.00</td>\n",
       "    </tr>\n",
       "  </tbody>\n",
       "</table>\n",
       "</div>"
      ],
      "text/plain": [
       "           sum  count conversion\n",
       "          debt   debt           \n",
       "children                        \n",
       "0         1064  14138       0.08\n",
       "1          444   4808       0.09\n",
       "2          202   2128       0.09\n",
       "3           27    330       0.08\n",
       "4            4     41       0.10\n",
       "5            0      9       0.00"
      ]
     },
     "execution_count": 44,
     "metadata": {},
     "output_type": "execute_result"
    }
   ],
   "source": [
    "def debt_conversion(hypothesis):\n",
    "    testing_data = df[[hypothesis, 'debt']]\n",
    "    \n",
    "    testing_pivot = testing_data.pivot_table(index=hypothesis, values='debt', aggfunc=['sum', 'count'])\n",
    "    testing_pivot['conversion'] = (testing_pivot['sum'] / testing_pivot['count']).round(decimals=2)\n",
    "    \n",
    "    return testing_pivot\n",
    "\n",
    "\n",
    "children_test = debt_conversion('children')\n",
    "children_test"
   ]
  },
  {
   "cell_type": "code",
   "execution_count": 45,
   "metadata": {},
   "outputs": [
    {
     "data": {
      "text/plain": [
       "children\n",
       "0    14138\n",
       "1     4808\n",
       "2     2128\n",
       "3      330\n",
       "4       41\n",
       "5        9\n",
       "Name: debt, dtype: int64"
      ]
     },
     "execution_count": 45,
     "metadata": {},
     "output_type": "execute_result"
    }
   ],
   "source": [
    "children_debt_count = cleaned_df.groupby('children')['debt'].count()\n",
    "children_debt_count"
   ]
  },
  {
   "cell_type": "markdown",
   "metadata": {},
   "source": [
    "Теперь общее кол-во должников по каждой категории."
   ]
  },
  {
   "cell_type": "code",
   "execution_count": 46,
   "metadata": {},
   "outputs": [
    {
     "data": {
      "text/plain": [
       "children\n",
       "0    1064\n",
       "1     444\n",
       "2     202\n",
       "3      27\n",
       "4       4\n",
       "5       0\n",
       "Name: debt, dtype: int64"
      ]
     },
     "execution_count": 46,
     "metadata": {},
     "output_type": "execute_result"
    }
   ],
   "source": [
    "children_debt_sum = cleaned_df.groupby('children')['debt'].sum()\n",
    "children_debt_sum"
   ]
  },
  {
   "cell_type": "markdown",
   "metadata": {},
   "source": [
    "Теперь объединим обе серии методом concat()."
   ]
  },
  {
   "cell_type": "code",
   "execution_count": 47,
   "metadata": {},
   "outputs": [
    {
     "data": {
      "text/html": [
       "<div>\n",
       "<style scoped>\n",
       "    .dataframe tbody tr th:only-of-type {\n",
       "        vertical-align: middle;\n",
       "    }\n",
       "\n",
       "    .dataframe tbody tr th {\n",
       "        vertical-align: top;\n",
       "    }\n",
       "\n",
       "    .dataframe thead th {\n",
       "        text-align: right;\n",
       "    }\n",
       "</style>\n",
       "<table border=\"1\" class=\"dataframe\">\n",
       "  <thead>\n",
       "    <tr style=\"text-align: right;\">\n",
       "      <th></th>\n",
       "      <th>count</th>\n",
       "      <th>sum</th>\n",
       "    </tr>\n",
       "    <tr>\n",
       "      <th>children</th>\n",
       "      <th></th>\n",
       "      <th></th>\n",
       "    </tr>\n",
       "  </thead>\n",
       "  <tbody>\n",
       "    <tr>\n",
       "      <th>0</th>\n",
       "      <td>14138</td>\n",
       "      <td>1064</td>\n",
       "    </tr>\n",
       "    <tr>\n",
       "      <th>1</th>\n",
       "      <td>4808</td>\n",
       "      <td>444</td>\n",
       "    </tr>\n",
       "    <tr>\n",
       "      <th>2</th>\n",
       "      <td>2128</td>\n",
       "      <td>202</td>\n",
       "    </tr>\n",
       "    <tr>\n",
       "      <th>3</th>\n",
       "      <td>330</td>\n",
       "      <td>27</td>\n",
       "    </tr>\n",
       "    <tr>\n",
       "      <th>4</th>\n",
       "      <td>41</td>\n",
       "      <td>4</td>\n",
       "    </tr>\n",
       "    <tr>\n",
       "      <th>5</th>\n",
       "      <td>9</td>\n",
       "      <td>0</td>\n",
       "    </tr>\n",
       "  </tbody>\n",
       "</table>\n",
       "</div>"
      ],
      "text/plain": [
       "          count   sum\n",
       "children             \n",
       "0         14138  1064\n",
       "1          4808   444\n",
       "2          2128   202\n",
       "3           330    27\n",
       "4            41     4\n",
       "5             9     0"
      ]
     },
     "execution_count": 47,
     "metadata": {},
     "output_type": "execute_result"
    }
   ],
   "source": [
    "children_debt = pd.concat([children_debt_count, children_debt_sum], axis=1)\n",
    "children_debt.columns = ['count', 'sum']\n",
    "children_debt"
   ]
  },
  {
   "cell_type": "markdown",
   "metadata": {},
   "source": [
    "Теперь осталось рассчитать отношение клиентов с долгами к общему кол-ву клиентов и записать это в новый столбец.  \n",
    "Для начала напишем функцию, которую мы будем использовать для создания нового столбца."
   ]
  },
  {
   "cell_type": "code",
   "execution_count": 48,
   "metadata": {},
   "outputs": [],
   "source": [
    "def part_of_debt(row):\n",
    "    c_sum = row['sum']\n",
    "    c_count = row['count']\n",
    "    \n",
    "    if c_sum == 0:\n",
    "        return 0\n",
    "    else:\n",
    "        return c_sum / c_count"
   ]
  },
  {
   "cell_type": "markdown",
   "metadata": {},
   "source": [
    "Осталось создать новый столбец."
   ]
  },
  {
   "cell_type": "code",
   "execution_count": 49,
   "metadata": {},
   "outputs": [
    {
     "data": {
      "text/html": [
       "<div>\n",
       "<style scoped>\n",
       "    .dataframe tbody tr th:only-of-type {\n",
       "        vertical-align: middle;\n",
       "    }\n",
       "\n",
       "    .dataframe tbody tr th {\n",
       "        vertical-align: top;\n",
       "    }\n",
       "\n",
       "    .dataframe thead th {\n",
       "        text-align: right;\n",
       "    }\n",
       "</style>\n",
       "<table border=\"1\" class=\"dataframe\">\n",
       "  <thead>\n",
       "    <tr style=\"text-align: right;\">\n",
       "      <th></th>\n",
       "      <th>count</th>\n",
       "      <th>sum</th>\n",
       "      <th>part</th>\n",
       "    </tr>\n",
       "    <tr>\n",
       "      <th>children</th>\n",
       "      <th></th>\n",
       "      <th></th>\n",
       "      <th></th>\n",
       "    </tr>\n",
       "  </thead>\n",
       "  <tbody>\n",
       "    <tr>\n",
       "      <th>0</th>\n",
       "      <td>14138</td>\n",
       "      <td>1064</td>\n",
       "      <td>0.075258</td>\n",
       "    </tr>\n",
       "    <tr>\n",
       "      <th>1</th>\n",
       "      <td>4808</td>\n",
       "      <td>444</td>\n",
       "      <td>0.092346</td>\n",
       "    </tr>\n",
       "    <tr>\n",
       "      <th>2</th>\n",
       "      <td>2128</td>\n",
       "      <td>202</td>\n",
       "      <td>0.094925</td>\n",
       "    </tr>\n",
       "    <tr>\n",
       "      <th>3</th>\n",
       "      <td>330</td>\n",
       "      <td>27</td>\n",
       "      <td>0.081818</td>\n",
       "    </tr>\n",
       "    <tr>\n",
       "      <th>4</th>\n",
       "      <td>41</td>\n",
       "      <td>4</td>\n",
       "      <td>0.097561</td>\n",
       "    </tr>\n",
       "    <tr>\n",
       "      <th>5</th>\n",
       "      <td>9</td>\n",
       "      <td>0</td>\n",
       "      <td>0.000000</td>\n",
       "    </tr>\n",
       "  </tbody>\n",
       "</table>\n",
       "</div>"
      ],
      "text/plain": [
       "          count   sum      part\n",
       "children                       \n",
       "0         14138  1064  0.075258\n",
       "1          4808   444  0.092346\n",
       "2          2128   202  0.094925\n",
       "3           330    27  0.081818\n",
       "4            41     4  0.097561\n",
       "5             9     0  0.000000"
      ]
     },
     "execution_count": 49,
     "metadata": {},
     "output_type": "execute_result"
    }
   ],
   "source": [
    "children_debt['part'] = children_debt.apply(part_of_debt, axis=1)\n",
    "children_debt"
   ]
  },
  {
   "cell_type": "markdown",
   "metadata": {},
   "source": [
    "Сократим количество точек после запятой в столбце `part` для наглядности."
   ]
  },
  {
   "cell_type": "code",
   "execution_count": 50,
   "metadata": {},
   "outputs": [
    {
     "data": {
      "text/html": [
       "<div>\n",
       "<style scoped>\n",
       "    .dataframe tbody tr th:only-of-type {\n",
       "        vertical-align: middle;\n",
       "    }\n",
       "\n",
       "    .dataframe tbody tr th {\n",
       "        vertical-align: top;\n",
       "    }\n",
       "\n",
       "    .dataframe thead th {\n",
       "        text-align: right;\n",
       "    }\n",
       "</style>\n",
       "<table border=\"1\" class=\"dataframe\">\n",
       "  <thead>\n",
       "    <tr style=\"text-align: right;\">\n",
       "      <th></th>\n",
       "      <th>count</th>\n",
       "      <th>sum</th>\n",
       "      <th>part</th>\n",
       "    </tr>\n",
       "    <tr>\n",
       "      <th>children</th>\n",
       "      <th></th>\n",
       "      <th></th>\n",
       "      <th></th>\n",
       "    </tr>\n",
       "  </thead>\n",
       "  <tbody>\n",
       "    <tr>\n",
       "      <th>0</th>\n",
       "      <td>14138</td>\n",
       "      <td>1064</td>\n",
       "      <td>0.08</td>\n",
       "    </tr>\n",
       "    <tr>\n",
       "      <th>1</th>\n",
       "      <td>4808</td>\n",
       "      <td>444</td>\n",
       "      <td>0.09</td>\n",
       "    </tr>\n",
       "    <tr>\n",
       "      <th>2</th>\n",
       "      <td>2128</td>\n",
       "      <td>202</td>\n",
       "      <td>0.09</td>\n",
       "    </tr>\n",
       "    <tr>\n",
       "      <th>3</th>\n",
       "      <td>330</td>\n",
       "      <td>27</td>\n",
       "      <td>0.08</td>\n",
       "    </tr>\n",
       "    <tr>\n",
       "      <th>4</th>\n",
       "      <td>41</td>\n",
       "      <td>4</td>\n",
       "      <td>0.10</td>\n",
       "    </tr>\n",
       "    <tr>\n",
       "      <th>5</th>\n",
       "      <td>9</td>\n",
       "      <td>0</td>\n",
       "      <td>0.00</td>\n",
       "    </tr>\n",
       "  </tbody>\n",
       "</table>\n",
       "</div>"
      ],
      "text/plain": [
       "          count   sum  part\n",
       "children                   \n",
       "0         14138  1064  0.08\n",
       "1          4808   444  0.09\n",
       "2          2128   202  0.09\n",
       "3           330    27  0.08\n",
       "4            41     4  0.10\n",
       "5             9     0  0.00"
      ]
     },
     "execution_count": 50,
     "metadata": {},
     "output_type": "execute_result"
    }
   ],
   "source": [
    "children_debt['part'] = children_debt['part'].round(decimals=2)\n",
    "children_debt"
   ]
  },
  {
   "cell_type": "code",
   "execution_count": null,
   "metadata": {},
   "outputs": [],
   "source": []
  },
  {
   "cell_type": "markdown",
   "metadata": {},
   "source": [
    "**Вывод**"
   ]
  },
  {
   "cell_type": "markdown",
   "metadata": {},
   "source": [
    "Судя по всему наличие детей не влияет на своевременный возврат кредита заемщиком.  \n",
    "Гипотеза оказалась неверной."
   ]
  },
  {
   "cell_type": "markdown",
   "metadata": {},
   "source": [
    "- Есть ли зависимость между семейным положением и возвратом кредита в срок?"
   ]
  },
  {
   "cell_type": "markdown",
   "metadata": {},
   "source": [
    "Для изучения данной гипотезы используем ту же модель, что и в прошлый раз.  \n",
    "Сперва найдем кол-во клиентов в каждой категории семейного положения."
   ]
  },
  {
   "cell_type": "code",
   "execution_count": 51,
   "metadata": {},
   "outputs": [],
   "source": [
    "family_debt_count = cleaned_df.groupby('family_status_id')['debt'].count()"
   ]
  },
  {
   "cell_type": "markdown",
   "metadata": {},
   "source": [
    "Потом найдем сумму просроченных кредитов по каждой категории."
   ]
  },
  {
   "cell_type": "code",
   "execution_count": 52,
   "metadata": {},
   "outputs": [],
   "source": [
    "family_debt_sum = cleaned_df.groupby('family_status_id')['debt'].sum()"
   ]
  },
  {
   "cell_type": "markdown",
   "metadata": {},
   "source": [
    "Далее объединим все в одну таблицу и переименем названия столбцов."
   ]
  },
  {
   "cell_type": "code",
   "execution_count": 53,
   "metadata": {},
   "outputs": [],
   "source": [
    "family_debt = pd.concat([family_debt_count, family_debt_sum], axis=1)"
   ]
  },
  {
   "cell_type": "code",
   "execution_count": 54,
   "metadata": {},
   "outputs": [],
   "source": [
    "family_debt.columns = ['count', 'sum']"
   ]
  },
  {
   "cell_type": "markdown",
   "metadata": {},
   "source": [
    "Объединим таблицу со словарем по ID."
   ]
  },
  {
   "cell_type": "code",
   "execution_count": 55,
   "metadata": {},
   "outputs": [],
   "source": [
    "family_debt = family_debt.merge(family_status_dict, on ='family_status_id', how='left')"
   ]
  },
  {
   "cell_type": "code",
   "execution_count": 56,
   "metadata": {},
   "outputs": [
    {
     "data": {
      "text/html": [
       "<div>\n",
       "<style scoped>\n",
       "    .dataframe tbody tr th:only-of-type {\n",
       "        vertical-align: middle;\n",
       "    }\n",
       "\n",
       "    .dataframe tbody tr th {\n",
       "        vertical-align: top;\n",
       "    }\n",
       "\n",
       "    .dataframe thead th {\n",
       "        text-align: right;\n",
       "    }\n",
       "</style>\n",
       "<table border=\"1\" class=\"dataframe\">\n",
       "  <thead>\n",
       "    <tr style=\"text-align: right;\">\n",
       "      <th></th>\n",
       "      <th>family_status_id</th>\n",
       "      <th>count</th>\n",
       "      <th>sum</th>\n",
       "      <th>family_status</th>\n",
       "    </tr>\n",
       "  </thead>\n",
       "  <tbody>\n",
       "    <tr>\n",
       "      <th>0</th>\n",
       "      <td>0</td>\n",
       "      <td>12339</td>\n",
       "      <td>931</td>\n",
       "      <td>женат / замужем</td>\n",
       "    </tr>\n",
       "    <tr>\n",
       "      <th>1</th>\n",
       "      <td>1</td>\n",
       "      <td>4151</td>\n",
       "      <td>388</td>\n",
       "      <td>гражданский брак</td>\n",
       "    </tr>\n",
       "    <tr>\n",
       "      <th>2</th>\n",
       "      <td>2</td>\n",
       "      <td>959</td>\n",
       "      <td>63</td>\n",
       "      <td>вдовец / вдова</td>\n",
       "    </tr>\n",
       "    <tr>\n",
       "      <th>3</th>\n",
       "      <td>3</td>\n",
       "      <td>1195</td>\n",
       "      <td>85</td>\n",
       "      <td>в разводе</td>\n",
       "    </tr>\n",
       "    <tr>\n",
       "      <th>4</th>\n",
       "      <td>4</td>\n",
       "      <td>2810</td>\n",
       "      <td>274</td>\n",
       "      <td>не женат / не замужем</td>\n",
       "    </tr>\n",
       "  </tbody>\n",
       "</table>\n",
       "</div>"
      ],
      "text/plain": [
       "   family_status_id  count  sum          family_status\n",
       "0                 0  12339  931        женат / замужем\n",
       "1                 1   4151  388       гражданский брак\n",
       "2                 2    959   63         вдовец / вдова\n",
       "3                 3   1195   85              в разводе\n",
       "4                 4   2810  274  не женат / не замужем"
      ]
     },
     "execution_count": 56,
     "metadata": {},
     "output_type": "execute_result"
    }
   ],
   "source": [
    "family_debt"
   ]
  },
  {
   "cell_type": "markdown",
   "metadata": {},
   "source": [
    "Добавим новый столбец, применив формулу, созданную для прошлой гипотезы."
   ]
  },
  {
   "cell_type": "code",
   "execution_count": 57,
   "metadata": {},
   "outputs": [
    {
     "data": {
      "text/html": [
       "<div>\n",
       "<style scoped>\n",
       "    .dataframe tbody tr th:only-of-type {\n",
       "        vertical-align: middle;\n",
       "    }\n",
       "\n",
       "    .dataframe tbody tr th {\n",
       "        vertical-align: top;\n",
       "    }\n",
       "\n",
       "    .dataframe thead th {\n",
       "        text-align: right;\n",
       "    }\n",
       "</style>\n",
       "<table border=\"1\" class=\"dataframe\">\n",
       "  <thead>\n",
       "    <tr style=\"text-align: right;\">\n",
       "      <th></th>\n",
       "      <th>family_status_id</th>\n",
       "      <th>count</th>\n",
       "      <th>sum</th>\n",
       "      <th>family_status</th>\n",
       "      <th>part</th>\n",
       "    </tr>\n",
       "  </thead>\n",
       "  <tbody>\n",
       "    <tr>\n",
       "      <th>0</th>\n",
       "      <td>0</td>\n",
       "      <td>12339</td>\n",
       "      <td>931</td>\n",
       "      <td>женат / замужем</td>\n",
       "      <td>0.075452</td>\n",
       "    </tr>\n",
       "    <tr>\n",
       "      <th>1</th>\n",
       "      <td>1</td>\n",
       "      <td>4151</td>\n",
       "      <td>388</td>\n",
       "      <td>гражданский брак</td>\n",
       "      <td>0.093471</td>\n",
       "    </tr>\n",
       "    <tr>\n",
       "      <th>2</th>\n",
       "      <td>2</td>\n",
       "      <td>959</td>\n",
       "      <td>63</td>\n",
       "      <td>вдовец / вдова</td>\n",
       "      <td>0.065693</td>\n",
       "    </tr>\n",
       "    <tr>\n",
       "      <th>3</th>\n",
       "      <td>3</td>\n",
       "      <td>1195</td>\n",
       "      <td>85</td>\n",
       "      <td>в разводе</td>\n",
       "      <td>0.071130</td>\n",
       "    </tr>\n",
       "    <tr>\n",
       "      <th>4</th>\n",
       "      <td>4</td>\n",
       "      <td>2810</td>\n",
       "      <td>274</td>\n",
       "      <td>не женат / не замужем</td>\n",
       "      <td>0.097509</td>\n",
       "    </tr>\n",
       "  </tbody>\n",
       "</table>\n",
       "</div>"
      ],
      "text/plain": [
       "   family_status_id  count  sum          family_status      part\n",
       "0                 0  12339  931        женат / замужем  0.075452\n",
       "1                 1   4151  388       гражданский брак  0.093471\n",
       "2                 2    959   63         вдовец / вдова  0.065693\n",
       "3                 3   1195   85              в разводе  0.071130\n",
       "4                 4   2810  274  не женат / не замужем  0.097509"
      ]
     },
     "execution_count": 57,
     "metadata": {},
     "output_type": "execute_result"
    }
   ],
   "source": [
    "family_debt['part'] = family_debt.apply(part_of_debt, axis=1)\n",
    "family_debt"
   ]
  },
  {
   "cell_type": "code",
   "execution_count": 58,
   "metadata": {},
   "outputs": [
    {
     "data": {
      "text/html": [
       "<div>\n",
       "<style scoped>\n",
       "    .dataframe tbody tr th:only-of-type {\n",
       "        vertical-align: middle;\n",
       "    }\n",
       "\n",
       "    .dataframe tbody tr th {\n",
       "        vertical-align: top;\n",
       "    }\n",
       "\n",
       "    .dataframe thead th {\n",
       "        text-align: right;\n",
       "    }\n",
       "</style>\n",
       "<table border=\"1\" class=\"dataframe\">\n",
       "  <thead>\n",
       "    <tr style=\"text-align: right;\">\n",
       "      <th></th>\n",
       "      <th>family_status_id</th>\n",
       "      <th>count</th>\n",
       "      <th>sum</th>\n",
       "      <th>family_status</th>\n",
       "      <th>part</th>\n",
       "    </tr>\n",
       "  </thead>\n",
       "  <tbody>\n",
       "    <tr>\n",
       "      <th>0</th>\n",
       "      <td>0</td>\n",
       "      <td>12339</td>\n",
       "      <td>931</td>\n",
       "      <td>женат / замужем</td>\n",
       "      <td>0.08</td>\n",
       "    </tr>\n",
       "    <tr>\n",
       "      <th>1</th>\n",
       "      <td>1</td>\n",
       "      <td>4151</td>\n",
       "      <td>388</td>\n",
       "      <td>гражданский брак</td>\n",
       "      <td>0.09</td>\n",
       "    </tr>\n",
       "    <tr>\n",
       "      <th>2</th>\n",
       "      <td>2</td>\n",
       "      <td>959</td>\n",
       "      <td>63</td>\n",
       "      <td>вдовец / вдова</td>\n",
       "      <td>0.07</td>\n",
       "    </tr>\n",
       "    <tr>\n",
       "      <th>3</th>\n",
       "      <td>3</td>\n",
       "      <td>1195</td>\n",
       "      <td>85</td>\n",
       "      <td>в разводе</td>\n",
       "      <td>0.07</td>\n",
       "    </tr>\n",
       "    <tr>\n",
       "      <th>4</th>\n",
       "      <td>4</td>\n",
       "      <td>2810</td>\n",
       "      <td>274</td>\n",
       "      <td>не женат / не замужем</td>\n",
       "      <td>0.10</td>\n",
       "    </tr>\n",
       "  </tbody>\n",
       "</table>\n",
       "</div>"
      ],
      "text/plain": [
       "   family_status_id  count  sum          family_status  part\n",
       "0                 0  12339  931        женат / замужем  0.08\n",
       "1                 1   4151  388       гражданский брак  0.09\n",
       "2                 2    959   63         вдовец / вдова  0.07\n",
       "3                 3   1195   85              в разводе  0.07\n",
       "4                 4   2810  274  не женат / не замужем  0.10"
      ]
     },
     "execution_count": 58,
     "metadata": {},
     "output_type": "execute_result"
    }
   ],
   "source": [
    "family_debt['part'] = family_debt['part'].round(decimals=2)\n",
    "family_debt"
   ]
  },
  {
   "cell_type": "markdown",
   "metadata": {},
   "source": [
    "**Вывод**"
   ]
  },
  {
   "cell_type": "markdown",
   "metadata": {},
   "source": [
    "Семейное положение не оказывает значительное влияние на возврат кредитов. Разбег между категориями составляет несколько процентов."
   ]
  },
  {
   "cell_type": "markdown",
   "metadata": {},
   "source": [
    "- Есть ли зависимость между уровнем дохода и возвратом кредита в срок?"
   ]
  },
  {
   "cell_type": "markdown",
   "metadata": {},
   "source": [
    "Посмотрим еще раз как выглядит таблица."
   ]
  },
  {
   "cell_type": "code",
   "execution_count": 59,
   "metadata": {},
   "outputs": [
    {
     "data": {
      "text/html": [
       "<div>\n",
       "<style scoped>\n",
       "    .dataframe tbody tr th:only-of-type {\n",
       "        vertical-align: middle;\n",
       "    }\n",
       "\n",
       "    .dataframe tbody tr th {\n",
       "        vertical-align: top;\n",
       "    }\n",
       "\n",
       "    .dataframe thead th {\n",
       "        text-align: right;\n",
       "    }\n",
       "</style>\n",
       "<table border=\"1\" class=\"dataframe\">\n",
       "  <thead>\n",
       "    <tr style=\"text-align: right;\">\n",
       "      <th></th>\n",
       "      <th>children</th>\n",
       "      <th>days_employed</th>\n",
       "      <th>dob_years</th>\n",
       "      <th>education_id</th>\n",
       "      <th>family_status_id</th>\n",
       "      <th>gender</th>\n",
       "      <th>income_type</th>\n",
       "      <th>debt</th>\n",
       "      <th>total_income</th>\n",
       "      <th>purpose</th>\n",
       "    </tr>\n",
       "  </thead>\n",
       "  <tbody>\n",
       "    <tr>\n",
       "      <th>0</th>\n",
       "      <td>1</td>\n",
       "      <td>8437</td>\n",
       "      <td>42</td>\n",
       "      <td>0</td>\n",
       "      <td>0</td>\n",
       "      <td>F</td>\n",
       "      <td>сотрудник</td>\n",
       "      <td>0</td>\n",
       "      <td>253875</td>\n",
       "      <td>покупка жилья</td>\n",
       "    </tr>\n",
       "    <tr>\n",
       "      <th>1</th>\n",
       "      <td>1</td>\n",
       "      <td>4024</td>\n",
       "      <td>36</td>\n",
       "      <td>1</td>\n",
       "      <td>0</td>\n",
       "      <td>F</td>\n",
       "      <td>сотрудник</td>\n",
       "      <td>0</td>\n",
       "      <td>112080</td>\n",
       "      <td>приобретение автомобиля</td>\n",
       "    </tr>\n",
       "    <tr>\n",
       "      <th>2</th>\n",
       "      <td>0</td>\n",
       "      <td>5623</td>\n",
       "      <td>33</td>\n",
       "      <td>1</td>\n",
       "      <td>0</td>\n",
       "      <td>M</td>\n",
       "      <td>сотрудник</td>\n",
       "      <td>0</td>\n",
       "      <td>145885</td>\n",
       "      <td>покупка жилья</td>\n",
       "    </tr>\n",
       "    <tr>\n",
       "      <th>3</th>\n",
       "      <td>3</td>\n",
       "      <td>4124</td>\n",
       "      <td>32</td>\n",
       "      <td>1</td>\n",
       "      <td>0</td>\n",
       "      <td>M</td>\n",
       "      <td>сотрудник</td>\n",
       "      <td>0</td>\n",
       "      <td>267628</td>\n",
       "      <td>дополнительное образование</td>\n",
       "    </tr>\n",
       "    <tr>\n",
       "      <th>4</th>\n",
       "      <td>0</td>\n",
       "      <td>22000</td>\n",
       "      <td>53</td>\n",
       "      <td>1</td>\n",
       "      <td>1</td>\n",
       "      <td>F</td>\n",
       "      <td>пенсионер</td>\n",
       "      <td>0</td>\n",
       "      <td>158616</td>\n",
       "      <td>сыграть свадьбу</td>\n",
       "    </tr>\n",
       "  </tbody>\n",
       "</table>\n",
       "</div>"
      ],
      "text/plain": [
       "   children  days_employed  dob_years  education_id  family_status_id gender  \\\n",
       "0         1           8437         42             0                 0      F   \n",
       "1         1           4024         36             1                 0      F   \n",
       "2         0           5623         33             1                 0      M   \n",
       "3         3           4124         32             1                 0      M   \n",
       "4         0          22000         53             1                 1      F   \n",
       "\n",
       "  income_type  debt  total_income                     purpose  \n",
       "0   сотрудник     0        253875               покупка жилья  \n",
       "1   сотрудник     0        112080     приобретение автомобиля  \n",
       "2   сотрудник     0        145885               покупка жилья  \n",
       "3   сотрудник     0        267628  дополнительное образование  \n",
       "4   пенсионер     0        158616             сыграть свадьбу  "
      ]
     },
     "execution_count": 59,
     "metadata": {},
     "output_type": "execute_result"
    }
   ],
   "source": [
    "cleaned_df.head()"
   ]
  },
  {
   "cell_type": "markdown",
   "metadata": {},
   "source": [
    "Проверим минимальные и максимальные значения столбца `total_income`."
   ]
  },
  {
   "cell_type": "code",
   "execution_count": 60,
   "metadata": {},
   "outputs": [
    {
     "data": {
      "text/plain": [
       "0"
      ]
     },
     "execution_count": 60,
     "metadata": {},
     "output_type": "execute_result"
    }
   ],
   "source": [
    "cleaned_df['total_income'].min()"
   ]
  },
  {
   "cell_type": "code",
   "execution_count": 61,
   "metadata": {},
   "outputs": [
    {
     "data": {
      "text/plain": [
       "2265604"
      ]
     },
     "execution_count": 61,
     "metadata": {},
     "output_type": "execute_result"
    }
   ],
   "source": [
    "cleaned_df['total_income'].max()"
   ]
  },
  {
   "cell_type": "markdown",
   "metadata": {},
   "source": [
    "Очевидно, что при 0 значении нам не известен доход клиента, поэтому надо будет выделить этих клиентов в отдельную группу.  \n",
    "Учитывая, что клиенты очень сильно разделяются по доходу, наилучшим решением будет группировать их по уровню дохода:\n",
    "* доход равный 0 - неизвестен\n",
    "* от 0 до 50 000 - низкий доход\n",
    "* от 50 000 до 150 000 - средний доход\n",
    "* от 150 000 до 500 000 - высокий доход\n",
    "* от 500 и выше - список Forbs  \n",
    "  \n",
    "Для этого сперва напишем функцию."
   ]
  },
  {
   "cell_type": "code",
   "execution_count": 62,
   "metadata": {},
   "outputs": [],
   "source": [
    "def income_split(income):\n",
    "    \n",
    "    if income == 0:\n",
    "        return 'доход неизвестен'\n",
    "    if income < 50000:\n",
    "        return 'низкий доход'\n",
    "    if income < 150000:\n",
    "        return 'средний доход'\n",
    "    if income < 500000:\n",
    "        return 'высокий доход'\n",
    "    else:\n",
    "        return 'список Forbs'"
   ]
  },
  {
   "cell_type": "markdown",
   "metadata": {},
   "source": [
    "Используя функцию создадим новый столбец методом `apply()`."
   ]
  },
  {
   "cell_type": "code",
   "execution_count": 63,
   "metadata": {},
   "outputs": [
    {
     "name": "stderr",
     "output_type": "stream",
     "text": [
      "<ipython-input-63-3ed8f9889262>:1: SettingWithCopyWarning: \n",
      "A value is trying to be set on a copy of a slice from a DataFrame.\n",
      "Try using .loc[row_indexer,col_indexer] = value instead\n",
      "\n",
      "See the caveats in the documentation: https://pandas.pydata.org/pandas-docs/stable/user_guide/indexing.html#returning-a-view-versus-a-copy\n",
      "  cleaned_df['income_category'] = cleaned_df['total_income'].apply(income_split)\n"
     ]
    }
   ],
   "source": [
    "cleaned_df['income_category'] = cleaned_df['total_income'].apply(income_split)"
   ]
  },
  {
   "cell_type": "markdown",
   "metadata": {},
   "source": [
    "Далее группируем значения по новому столбцу и подсчитываем их кол-во и сумму.   \n",
    "После чего объединяем вместе как при прошлых гипотезах."
   ]
  },
  {
   "cell_type": "code",
   "execution_count": 64,
   "metadata": {},
   "outputs": [],
   "source": [
    "income_count = cleaned_df.groupby('income_category')['debt'].count()"
   ]
  },
  {
   "cell_type": "code",
   "execution_count": 65,
   "metadata": {},
   "outputs": [],
   "source": [
    "income_sum = cleaned_df.groupby('income_category')['debt'].sum()"
   ]
  },
  {
   "cell_type": "code",
   "execution_count": 66,
   "metadata": {},
   "outputs": [],
   "source": [
    "income = pd.concat([income_count, income_sum], axis=1)"
   ]
  },
  {
   "cell_type": "code",
   "execution_count": 67,
   "metadata": {},
   "outputs": [
    {
     "data": {
      "text/html": [
       "<div>\n",
       "<style scoped>\n",
       "    .dataframe tbody tr th:only-of-type {\n",
       "        vertical-align: middle;\n",
       "    }\n",
       "\n",
       "    .dataframe tbody tr th {\n",
       "        vertical-align: top;\n",
       "    }\n",
       "\n",
       "    .dataframe thead th {\n",
       "        text-align: right;\n",
       "    }\n",
       "</style>\n",
       "<table border=\"1\" class=\"dataframe\">\n",
       "  <thead>\n",
       "    <tr style=\"text-align: right;\">\n",
       "      <th></th>\n",
       "      <th>count</th>\n",
       "      <th>sum</th>\n",
       "    </tr>\n",
       "    <tr>\n",
       "      <th>income_category</th>\n",
       "      <th></th>\n",
       "      <th></th>\n",
       "    </tr>\n",
       "  </thead>\n",
       "  <tbody>\n",
       "    <tr>\n",
       "      <th>высокий доход</th>\n",
       "      <td>8962</td>\n",
       "      <td>712</td>\n",
       "    </tr>\n",
       "    <tr>\n",
       "      <th>доход неизвестен</th>\n",
       "      <td>2103</td>\n",
       "      <td>170</td>\n",
       "    </tr>\n",
       "    <tr>\n",
       "      <th>низкий доход</th>\n",
       "      <td>372</td>\n",
       "      <td>23</td>\n",
       "    </tr>\n",
       "    <tr>\n",
       "      <th>список Forbs</th>\n",
       "      <td>222</td>\n",
       "      <td>14</td>\n",
       "    </tr>\n",
       "    <tr>\n",
       "      <th>средний доход</th>\n",
       "      <td>9795</td>\n",
       "      <td>822</td>\n",
       "    </tr>\n",
       "  </tbody>\n",
       "</table>\n",
       "</div>"
      ],
      "text/plain": [
       "                  count  sum\n",
       "income_category             \n",
       "высокий доход      8962  712\n",
       "доход неизвестен   2103  170\n",
       "низкий доход        372   23\n",
       "список Forbs        222   14\n",
       "средний доход      9795  822"
      ]
     },
     "execution_count": 67,
     "metadata": {},
     "output_type": "execute_result"
    }
   ],
   "source": [
    "income.columns = ['count', 'sum']\n",
    "income"
   ]
  },
  {
   "cell_type": "markdown",
   "metadata": {},
   "source": [
    "Применяем формулу из первой гипотезы для расчета отношения и сокращаем кол-во знаков после запятой в получившихся столбцах."
   ]
  },
  {
   "cell_type": "code",
   "execution_count": 68,
   "metadata": {},
   "outputs": [
    {
     "data": {
      "text/html": [
       "<div>\n",
       "<style scoped>\n",
       "    .dataframe tbody tr th:only-of-type {\n",
       "        vertical-align: middle;\n",
       "    }\n",
       "\n",
       "    .dataframe tbody tr th {\n",
       "        vertical-align: top;\n",
       "    }\n",
       "\n",
       "    .dataframe thead th {\n",
       "        text-align: right;\n",
       "    }\n",
       "</style>\n",
       "<table border=\"1\" class=\"dataframe\">\n",
       "  <thead>\n",
       "    <tr style=\"text-align: right;\">\n",
       "      <th></th>\n",
       "      <th>count</th>\n",
       "      <th>sum</th>\n",
       "      <th>part</th>\n",
       "    </tr>\n",
       "    <tr>\n",
       "      <th>income_category</th>\n",
       "      <th></th>\n",
       "      <th></th>\n",
       "      <th></th>\n",
       "    </tr>\n",
       "  </thead>\n",
       "  <tbody>\n",
       "    <tr>\n",
       "      <th>высокий доход</th>\n",
       "      <td>8962</td>\n",
       "      <td>712</td>\n",
       "      <td>0.08</td>\n",
       "    </tr>\n",
       "    <tr>\n",
       "      <th>доход неизвестен</th>\n",
       "      <td>2103</td>\n",
       "      <td>170</td>\n",
       "      <td>0.08</td>\n",
       "    </tr>\n",
       "    <tr>\n",
       "      <th>низкий доход</th>\n",
       "      <td>372</td>\n",
       "      <td>23</td>\n",
       "      <td>0.06</td>\n",
       "    </tr>\n",
       "    <tr>\n",
       "      <th>список Forbs</th>\n",
       "      <td>222</td>\n",
       "      <td>14</td>\n",
       "      <td>0.06</td>\n",
       "    </tr>\n",
       "    <tr>\n",
       "      <th>средний доход</th>\n",
       "      <td>9795</td>\n",
       "      <td>822</td>\n",
       "      <td>0.08</td>\n",
       "    </tr>\n",
       "  </tbody>\n",
       "</table>\n",
       "</div>"
      ],
      "text/plain": [
       "                  count  sum  part\n",
       "income_category                   \n",
       "высокий доход      8962  712  0.08\n",
       "доход неизвестен   2103  170  0.08\n",
       "низкий доход        372   23  0.06\n",
       "список Forbs        222   14  0.06\n",
       "средний доход      9795  822  0.08"
      ]
     },
     "execution_count": 68,
     "metadata": {},
     "output_type": "execute_result"
    }
   ],
   "source": [
    "income['part'] = income.apply(part_of_debt, axis=1)\n",
    "income['part'] = income['part'].round(decimals=2)\n",
    "income"
   ]
  },
  {
   "cell_type": "markdown",
   "metadata": {},
   "source": [
    "**Вывод**"
   ]
  },
  {
   "cell_type": "markdown",
   "metadata": {},
   "source": [
    "Большая часть клиентов имеет доход от 50 000 до 500 000 и кол-во должников из них составляет около 8%.  \n",
    "Чуть лучше выплачивают кредиты клиенты с доходом ниже 50 000 или выше 500 000, среди них должники составляют около 6%.\n",
    "Судя по всему своевременная оплата кредитов не сильно зависит от уровня дохода клиента, а скорее является чертой характера."
   ]
  },
  {
   "cell_type": "markdown",
   "metadata": {},
   "source": [
    "- Как разные цели кредита влияют на его возврат в срок?"
   ]
  },
  {
   "cell_type": "markdown",
   "metadata": {},
   "source": [
    "Для ответа на этот вопрос сперва вспомним список целей кредита после лематизации."
   ]
  },
  {
   "cell_type": "code",
   "execution_count": 69,
   "metadata": {
    "scrolled": true
   },
   "outputs": [
    {
     "data": {
      "text/plain": [
       "Counter({'покупка': 10,\n",
       "         ' ': 96,\n",
       "         'жилье': 7,\n",
       "         'приобретение': 1,\n",
       "         'автомобиль': 9,\n",
       "         'дополнительный': 2,\n",
       "         'образование': 9,\n",
       "         'сыграть': 1,\n",
       "         'свадьба': 3,\n",
       "         'операция': 4,\n",
       "         'с': 5,\n",
       "         'на': 4,\n",
       "         'проведение': 1,\n",
       "         'для': 2,\n",
       "         'семья': 1,\n",
       "         'недвижимость': 10,\n",
       "         'коммерческий': 2,\n",
       "         'жилой': 2,\n",
       "         'строительство': 3,\n",
       "         'собственный': 1,\n",
       "         'подержать': 2,\n",
       "         'свой': 4,\n",
       "         'со': 1,\n",
       "         'заниматься': 2,\n",
       "         'сделка': 2,\n",
       "         'получение': 3,\n",
       "         'высокий': 3,\n",
       "         'профильный': 1,\n",
       "         'сдача': 1,\n",
       "         'ремонт': 1,\n",
       "         '\\n': 1})"
      ]
     },
     "execution_count": 69,
     "metadata": {},
     "output_type": "execute_result"
    }
   ],
   "source": [
    "lemmas_counter_list"
   ]
  },
  {
   "cell_type": "markdown",
   "metadata": {},
   "source": [
    "На основании этого словаря составим свой собственный словарь, куда включим основные причины взятия кредита."
   ]
  },
  {
   "cell_type": "code",
   "execution_count": 70,
   "metadata": {},
   "outputs": [],
   "source": [
    "purpose_dict = {\n",
    "    'недвижимость': ['жилье', 'недвижимость', 'строительство', 'жилой', 'коммерческий', 'строительство'],\n",
    "    'автомобиль': ['автомобиль', 'подержать'],\n",
    "    'образование': ['образование'],\n",
    "    'свадьба': ['свадьба'],\n",
    "}"
   ]
  },
  {
   "cell_type": "markdown",
   "metadata": {},
   "source": [
    "Теперь напишем функцию, которая будет сравнивать лемматизированные значения в столбце `pupose` и наш новый словарь и добавлять в новый столбец `purpose_lem` подходящее значение."
   ]
  },
  {
   "cell_type": "code",
   "execution_count": 71,
   "metadata": {},
   "outputs": [],
   "source": [
    "def copmpare_purpose_and_dict(purpose):\n",
    "    lemm_purpose = m.lemmatize(purpose)\n",
    "    for word in purpose_dict:\n",
    "        for value in purpose_dict[word]:\n",
    "            if value in lemm_purpose:\n",
    "                return word\n",
    "    \n",
    "    return 'нет значения'"
   ]
  },
  {
   "cell_type": "markdown",
   "metadata": {},
   "source": [
    "Теперь применим функцию к столбцу `purpose` и создадим новый столбец `purpose_lem`."
   ]
  },
  {
   "cell_type": "code",
   "execution_count": 72,
   "metadata": {},
   "outputs": [
    {
     "data": {
      "text/html": [
       "<div>\n",
       "<style scoped>\n",
       "    .dataframe tbody tr th:only-of-type {\n",
       "        vertical-align: middle;\n",
       "    }\n",
       "\n",
       "    .dataframe tbody tr th {\n",
       "        vertical-align: top;\n",
       "    }\n",
       "\n",
       "    .dataframe thead th {\n",
       "        text-align: right;\n",
       "    }\n",
       "</style>\n",
       "<table border=\"1\" class=\"dataframe\">\n",
       "  <thead>\n",
       "    <tr style=\"text-align: right;\">\n",
       "      <th></th>\n",
       "      <th>children</th>\n",
       "      <th>days_employed</th>\n",
       "      <th>dob_years</th>\n",
       "      <th>education_id</th>\n",
       "      <th>family_status_id</th>\n",
       "      <th>gender</th>\n",
       "      <th>income_type</th>\n",
       "      <th>debt</th>\n",
       "      <th>total_income</th>\n",
       "      <th>purpose</th>\n",
       "      <th>income_category</th>\n",
       "    </tr>\n",
       "  </thead>\n",
       "  <tbody>\n",
       "    <tr>\n",
       "      <th>0</th>\n",
       "      <td>1</td>\n",
       "      <td>8437</td>\n",
       "      <td>42</td>\n",
       "      <td>0</td>\n",
       "      <td>0</td>\n",
       "      <td>F</td>\n",
       "      <td>сотрудник</td>\n",
       "      <td>0</td>\n",
       "      <td>253875</td>\n",
       "      <td>покупка жилья</td>\n",
       "      <td>высокий доход</td>\n",
       "    </tr>\n",
       "    <tr>\n",
       "      <th>1</th>\n",
       "      <td>1</td>\n",
       "      <td>4024</td>\n",
       "      <td>36</td>\n",
       "      <td>1</td>\n",
       "      <td>0</td>\n",
       "      <td>F</td>\n",
       "      <td>сотрудник</td>\n",
       "      <td>0</td>\n",
       "      <td>112080</td>\n",
       "      <td>приобретение автомобиля</td>\n",
       "      <td>средний доход</td>\n",
       "    </tr>\n",
       "    <tr>\n",
       "      <th>2</th>\n",
       "      <td>0</td>\n",
       "      <td>5623</td>\n",
       "      <td>33</td>\n",
       "      <td>1</td>\n",
       "      <td>0</td>\n",
       "      <td>M</td>\n",
       "      <td>сотрудник</td>\n",
       "      <td>0</td>\n",
       "      <td>145885</td>\n",
       "      <td>покупка жилья</td>\n",
       "      <td>средний доход</td>\n",
       "    </tr>\n",
       "    <tr>\n",
       "      <th>3</th>\n",
       "      <td>3</td>\n",
       "      <td>4124</td>\n",
       "      <td>32</td>\n",
       "      <td>1</td>\n",
       "      <td>0</td>\n",
       "      <td>M</td>\n",
       "      <td>сотрудник</td>\n",
       "      <td>0</td>\n",
       "      <td>267628</td>\n",
       "      <td>дополнительное образование</td>\n",
       "      <td>высокий доход</td>\n",
       "    </tr>\n",
       "    <tr>\n",
       "      <th>4</th>\n",
       "      <td>0</td>\n",
       "      <td>22000</td>\n",
       "      <td>53</td>\n",
       "      <td>1</td>\n",
       "      <td>1</td>\n",
       "      <td>F</td>\n",
       "      <td>пенсионер</td>\n",
       "      <td>0</td>\n",
       "      <td>158616</td>\n",
       "      <td>сыграть свадьбу</td>\n",
       "      <td>высокий доход</td>\n",
       "    </tr>\n",
       "  </tbody>\n",
       "</table>\n",
       "</div>"
      ],
      "text/plain": [
       "   children  days_employed  dob_years  education_id  family_status_id gender  \\\n",
       "0         1           8437         42             0                 0      F   \n",
       "1         1           4024         36             1                 0      F   \n",
       "2         0           5623         33             1                 0      M   \n",
       "3         3           4124         32             1                 0      M   \n",
       "4         0          22000         53             1                 1      F   \n",
       "\n",
       "  income_type  debt  total_income                     purpose income_category  \n",
       "0   сотрудник     0        253875               покупка жилья   высокий доход  \n",
       "1   сотрудник     0        112080     приобретение автомобиля   средний доход  \n",
       "2   сотрудник     0        145885               покупка жилья   средний доход  \n",
       "3   сотрудник     0        267628  дополнительное образование   высокий доход  \n",
       "4   пенсионер     0        158616             сыграть свадьбу   высокий доход  "
      ]
     },
     "execution_count": 72,
     "metadata": {},
     "output_type": "execute_result"
    }
   ],
   "source": [
    "cleaned_df.head()"
   ]
  },
  {
   "cell_type": "code",
   "execution_count": 73,
   "metadata": {},
   "outputs": [],
   "source": [
    "cleaned_df['purpose_lem'] = cleaned_df['purpose'].apply(copmpare_purpose_and_dict)"
   ]
  },
  {
   "cell_type": "markdown",
   "metadata": {},
   "source": [
    "Далее действуем по старой схеме: группируем, считаем кол-во и сумму и объединяем в одну таблицу.  \n",
    "В новой таблице переименовываем столбцы."
   ]
  },
  {
   "cell_type": "code",
   "execution_count": 74,
   "metadata": {},
   "outputs": [
    {
     "data": {
      "text/html": [
       "<div>\n",
       "<style scoped>\n",
       "    .dataframe tbody tr th:only-of-type {\n",
       "        vertical-align: middle;\n",
       "    }\n",
       "\n",
       "    .dataframe tbody tr th {\n",
       "        vertical-align: top;\n",
       "    }\n",
       "\n",
       "    .dataframe thead th {\n",
       "        text-align: right;\n",
       "    }\n",
       "</style>\n",
       "<table border=\"1\" class=\"dataframe\">\n",
       "  <thead>\n",
       "    <tr style=\"text-align: right;\">\n",
       "      <th></th>\n",
       "      <th>count</th>\n",
       "      <th>sum</th>\n",
       "    </tr>\n",
       "    <tr>\n",
       "      <th>purpose_lem</th>\n",
       "      <th></th>\n",
       "      <th></th>\n",
       "    </tr>\n",
       "  </thead>\n",
       "  <tbody>\n",
       "    <tr>\n",
       "      <th>автомобиль</th>\n",
       "      <td>4306</td>\n",
       "      <td>403</td>\n",
       "    </tr>\n",
       "    <tr>\n",
       "      <th>недвижимость</th>\n",
       "      <td>10811</td>\n",
       "      <td>782</td>\n",
       "    </tr>\n",
       "    <tr>\n",
       "      <th>образование</th>\n",
       "      <td>4013</td>\n",
       "      <td>370</td>\n",
       "    </tr>\n",
       "    <tr>\n",
       "      <th>свадьба</th>\n",
       "      <td>2324</td>\n",
       "      <td>186</td>\n",
       "    </tr>\n",
       "  </tbody>\n",
       "</table>\n",
       "</div>"
      ],
      "text/plain": [
       "              count  sum\n",
       "purpose_lem             \n",
       "автомобиль     4306  403\n",
       "недвижимость  10811  782\n",
       "образование    4013  370\n",
       "свадьба        2324  186"
      ]
     },
     "execution_count": 74,
     "metadata": {},
     "output_type": "execute_result"
    }
   ],
   "source": [
    "purpose_count = cleaned_df.groupby('purpose_lem')['debt'].count()\n",
    "purpose_sum = cleaned_df.groupby('purpose_lem')['debt'].sum()\n",
    "purpose = pd.concat([purpose_count, purpose_sum], axis=1)\n",
    "purpose.columns = ['count', 'sum']\n",
    "purpose"
   ]
  },
  {
   "cell_type": "markdown",
   "metadata": {},
   "source": [
    "К новой таблице применяем старую функцию `part_of_debt` и записываем результат в новый столбец `part`.  \n",
    "После чего уменьшаем количество знаков после запятой в столбце до 2х."
   ]
  },
  {
   "cell_type": "code",
   "execution_count": 75,
   "metadata": {},
   "outputs": [
    {
     "data": {
      "text/html": [
       "<div>\n",
       "<style scoped>\n",
       "    .dataframe tbody tr th:only-of-type {\n",
       "        vertical-align: middle;\n",
       "    }\n",
       "\n",
       "    .dataframe tbody tr th {\n",
       "        vertical-align: top;\n",
       "    }\n",
       "\n",
       "    .dataframe thead th {\n",
       "        text-align: right;\n",
       "    }\n",
       "</style>\n",
       "<table border=\"1\" class=\"dataframe\">\n",
       "  <thead>\n",
       "    <tr style=\"text-align: right;\">\n",
       "      <th></th>\n",
       "      <th>count</th>\n",
       "      <th>sum</th>\n",
       "      <th>part</th>\n",
       "    </tr>\n",
       "    <tr>\n",
       "      <th>purpose_lem</th>\n",
       "      <th></th>\n",
       "      <th></th>\n",
       "      <th></th>\n",
       "    </tr>\n",
       "  </thead>\n",
       "  <tbody>\n",
       "    <tr>\n",
       "      <th>автомобиль</th>\n",
       "      <td>4306</td>\n",
       "      <td>403</td>\n",
       "      <td>0.09</td>\n",
       "    </tr>\n",
       "    <tr>\n",
       "      <th>недвижимость</th>\n",
       "      <td>10811</td>\n",
       "      <td>782</td>\n",
       "      <td>0.07</td>\n",
       "    </tr>\n",
       "    <tr>\n",
       "      <th>образование</th>\n",
       "      <td>4013</td>\n",
       "      <td>370</td>\n",
       "      <td>0.09</td>\n",
       "    </tr>\n",
       "    <tr>\n",
       "      <th>свадьба</th>\n",
       "      <td>2324</td>\n",
       "      <td>186</td>\n",
       "      <td>0.08</td>\n",
       "    </tr>\n",
       "  </tbody>\n",
       "</table>\n",
       "</div>"
      ],
      "text/plain": [
       "              count  sum  part\n",
       "purpose_lem                   \n",
       "автомобиль     4306  403  0.09\n",
       "недвижимость  10811  782  0.07\n",
       "образование    4013  370  0.09\n",
       "свадьба        2324  186  0.08"
      ]
     },
     "execution_count": 75,
     "metadata": {},
     "output_type": "execute_result"
    }
   ],
   "source": [
    "purpose['part'] = purpose.apply(part_of_debt, axis=1)\n",
    "purpose['part'] = purpose['part'].round(decimals=2)\n",
    "purpose"
   ]
  },
  {
   "cell_type": "markdown",
   "metadata": {},
   "source": [
    "**Вывод**"
   ]
  },
  {
   "cell_type": "markdown",
   "metadata": {},
   "source": [
    "Проанализировав причины по которым люди берут кредит, мы можем сделать вывод, что больше всего кредитов берется на покупку недвижимости и меньше всего на свадьбу. Где между ними находятся покупка автомобиля и оплата образования. Скорее всего это связано с величиной затрат, так покупка жилья для большинства клиентов является самой большой тратой в жизни, тогда как траты на свадьбу - самой малой.  \n",
    "  \n",
    "Лучше всего отдают кредиты связанные с недвижимостью, зодлжность только 7% и хуже всего кредиты на автомобиль и образование - задолжность 9%."
   ]
  },
  {
   "cell_type": "markdown",
   "metadata": {},
   "source": [
    "## Шаг 4. Общий вывод"
   ]
  },
  {
   "cell_type": "markdown",
   "metadata": {},
   "source": [
    "В этом исследовании мы ответили на 4 вопроса:  \n",
    "\n",
    "1. Есть ли зависимость между наличием детей и возвратом кредита в срок?  \n",
    "  \n",
    "По большей части нет, люди с детьми возвращают кредит примерно так же, как и люди без детей.\n",
    "  \n",
    "2. Есть ли зависимость между семейным положением и возвратом кредита в срок?  \n",
    "  \n",
    "Клиенты из категории не женат / не замужем и находящиеся в гражданском браке отдают кредиты хуже всего.  \n",
    "Лучше всего отдают кредиты вдовцы и разведенные.  \n",
    "  \n",
    "3. Есть ли зависимость между уровнем дохода и возвратом кредита в срок?\n",
    "  \n",
    "Клиенты с доходом ниже 50 000 или выше 500 000 возвращают кредит лучше, чем все остальные.  \n",
    "  \n",
    "4. Как разные цели кредита влияют на его возврат в срок?\n",
    "\n",
    "Лучше всего отдают кредиты связанные с недвижимостью, зодлжность только 7% и хуже всего кредиты на автомобиль и образование - задолжность 9%.\n",
    "\n",
    "Из исследования видно, что все перечисленные факторы не сильно влияют на своевременную оплату кредита клиентом. "
   ]
  }
 ],
 "metadata": {
  "ExecuteTimeLog": [
   {
    "duration": 925,
    "start_time": "2021-11-17T06:54:11.094Z"
   },
   {
    "duration": 56,
    "start_time": "2021-11-17T06:54:21.486Z"
   },
   {
    "duration": 54,
    "start_time": "2021-11-17T06:57:14.846Z"
   },
   {
    "duration": 54,
    "start_time": "2021-11-17T06:57:25.964Z"
   },
   {
    "duration": 60,
    "start_time": "2021-11-17T06:59:02.814Z"
   },
   {
    "duration": 50,
    "start_time": "2021-11-17T08:27:06.869Z"
   },
   {
    "duration": 11,
    "start_time": "2021-11-17T08:27:10.935Z"
   },
   {
    "duration": 3,
    "start_time": "2021-11-17T08:27:30.809Z"
   },
   {
    "duration": 11,
    "start_time": "2021-11-17T08:29:38.231Z"
   },
   {
    "duration": 19,
    "start_time": "2021-11-17T08:29:40.921Z"
   },
   {
    "duration": 11,
    "start_time": "2021-11-17T08:33:52.283Z"
   },
   {
    "duration": 11,
    "start_time": "2021-11-17T08:34:03.895Z"
   },
   {
    "duration": 250,
    "start_time": "2021-11-17T08:34:30.472Z"
   },
   {
    "duration": 13,
    "start_time": "2021-11-17T08:34:50.777Z"
   },
   {
    "duration": 12,
    "start_time": "2021-11-17T08:35:31.920Z"
   },
   {
    "duration": 6,
    "start_time": "2021-11-17T08:48:21.255Z"
   },
   {
    "duration": 9,
    "start_time": "2021-11-17T08:49:45.119Z"
   },
   {
    "duration": 315,
    "start_time": "2021-11-17T08:49:56.409Z"
   },
   {
    "duration": 253,
    "start_time": "2021-11-17T08:50:01.495Z"
   },
   {
    "duration": 9,
    "start_time": "2021-11-17T08:53:40.619Z"
   },
   {
    "duration": 143,
    "start_time": "2021-11-17T08:54:22.759Z"
   },
   {
    "duration": 77,
    "start_time": "2021-11-17T08:54:29.142Z"
   },
   {
    "duration": 9,
    "start_time": "2021-11-17T08:54:44.399Z"
   },
   {
    "duration": 9,
    "start_time": "2021-11-17T08:54:51.919Z"
   },
   {
    "duration": 269,
    "start_time": "2021-11-17T08:58:57.222Z"
   },
   {
    "duration": 253,
    "start_time": "2021-11-17T08:59:31.370Z"
   },
   {
    "duration": 8,
    "start_time": "2021-11-17T09:00:54.444Z"
   },
   {
    "duration": 12,
    "start_time": "2021-11-17T09:00:57.560Z"
   },
   {
    "duration": 319,
    "start_time": "2021-11-17T09:01:58.578Z"
   },
   {
    "duration": 640,
    "start_time": "2021-11-17T09:02:47.773Z"
   },
   {
    "duration": 11,
    "start_time": "2021-11-17T09:02:48.415Z"
   },
   {
    "duration": 19,
    "start_time": "2021-11-17T09:02:48.429Z"
   },
   {
    "duration": 20,
    "start_time": "2021-11-17T09:02:48.450Z"
   },
   {
    "duration": 7,
    "start_time": "2021-11-17T09:02:48.472Z"
   },
   {
    "duration": 8,
    "start_time": "2021-11-17T09:04:00.520Z"
   },
   {
    "duration": 10,
    "start_time": "2021-11-17T09:04:01.658Z"
   },
   {
    "duration": 49,
    "start_time": "2021-11-17T09:04:20.030Z"
   },
   {
    "duration": 11,
    "start_time": "2021-11-17T09:04:20.081Z"
   },
   {
    "duration": 12,
    "start_time": "2021-11-17T09:04:20.094Z"
   },
   {
    "duration": 28,
    "start_time": "2021-11-17T09:04:20.108Z"
   },
   {
    "duration": 12,
    "start_time": "2021-11-17T09:04:20.138Z"
   },
   {
    "duration": 10,
    "start_time": "2021-11-17T09:04:37.210Z"
   },
   {
    "duration": 329,
    "start_time": "2021-11-17T09:12:11.250Z"
   },
   {
    "duration": 27,
    "start_time": "2021-11-17T09:17:10.365Z"
   },
   {
    "duration": 18,
    "start_time": "2021-11-17T09:17:50.952Z"
   },
   {
    "duration": 24,
    "start_time": "2021-11-17T09:17:56.551Z"
   },
   {
    "duration": 19,
    "start_time": "2021-11-17T09:18:32.814Z"
   },
   {
    "duration": 10,
    "start_time": "2021-11-17T09:19:17.645Z"
   },
   {
    "duration": 19,
    "start_time": "2021-11-17T09:19:24.375Z"
   },
   {
    "duration": 5,
    "start_time": "2021-11-17T09:34:59.019Z"
   },
   {
    "duration": 13,
    "start_time": "2021-11-17T09:35:14.731Z"
   },
   {
    "duration": 18,
    "start_time": "2021-11-17T09:35:30.980Z"
   },
   {
    "duration": 13,
    "start_time": "2021-11-17T09:36:44.099Z"
   },
   {
    "duration": 50,
    "start_time": "2021-11-17T10:21:38.897Z"
   },
   {
    "duration": 11,
    "start_time": "2021-11-17T10:21:38.948Z"
   },
   {
    "duration": 28,
    "start_time": "2021-11-17T10:21:38.961Z"
   },
   {
    "duration": 11,
    "start_time": "2021-11-17T10:21:38.991Z"
   },
   {
    "duration": 6,
    "start_time": "2021-11-17T10:21:39.004Z"
   },
   {
    "duration": 9,
    "start_time": "2021-11-17T10:21:39.012Z"
   },
   {
    "duration": 18,
    "start_time": "2021-11-17T10:21:39.022Z"
   },
   {
    "duration": 34,
    "start_time": "2021-11-17T10:21:39.042Z"
   },
   {
    "duration": 10,
    "start_time": "2021-11-17T10:21:52.029Z"
   },
   {
    "duration": 11,
    "start_time": "2021-11-17T12:03:09.119Z"
   },
   {
    "duration": 3,
    "start_time": "2021-11-17T12:03:13.169Z"
   },
   {
    "duration": 5,
    "start_time": "2021-11-17T12:03:15.699Z"
   },
   {
    "duration": 3348,
    "start_time": "2021-11-17T12:03:32.949Z"
   },
   {
    "duration": -86,
    "start_time": "2021-11-17T12:03:36.385Z"
   },
   {
    "duration": 4,
    "start_time": "2021-11-17T12:03:37.037Z"
   },
   {
    "duration": 617,
    "start_time": "2021-11-17T12:03:59.596Z"
   },
   {
    "duration": 12,
    "start_time": "2021-11-17T12:04:00.215Z"
   },
   {
    "duration": 18,
    "start_time": "2021-11-17T12:04:00.229Z"
   },
   {
    "duration": 19,
    "start_time": "2021-11-17T12:04:00.249Z"
   },
   {
    "duration": 15,
    "start_time": "2021-11-17T12:04:00.269Z"
   },
   {
    "duration": 12,
    "start_time": "2021-11-17T12:04:00.286Z"
   },
   {
    "duration": 36,
    "start_time": "2021-11-17T12:04:00.300Z"
   },
   {
    "duration": 26,
    "start_time": "2021-11-17T12:04:00.338Z"
   },
   {
    "duration": 4,
    "start_time": "2021-11-17T12:04:06.788Z"
   },
   {
    "duration": 12,
    "start_time": "2021-11-17T12:04:09.806Z"
   },
   {
    "duration": 5,
    "start_time": "2021-11-17T12:04:45.798Z"
   },
   {
    "duration": 11,
    "start_time": "2021-11-17T12:04:46.838Z"
   },
   {
    "duration": 4,
    "start_time": "2021-11-17T12:22:30.758Z"
   },
   {
    "duration": 19,
    "start_time": "2021-11-17T12:22:31.596Z"
   },
   {
    "duration": 336,
    "start_time": "2021-11-17T12:22:50.202Z"
   },
   {
    "duration": 21,
    "start_time": "2021-11-17T12:22:51.574Z"
   },
   {
    "duration": 654,
    "start_time": "2021-11-17T12:23:44.182Z"
   },
   {
    "duration": 12,
    "start_time": "2021-11-17T12:23:44.839Z"
   },
   {
    "duration": 19,
    "start_time": "2021-11-17T12:23:44.853Z"
   },
   {
    "duration": 12,
    "start_time": "2021-11-17T12:23:44.874Z"
   },
   {
    "duration": 8,
    "start_time": "2021-11-17T12:23:44.887Z"
   },
   {
    "duration": 9,
    "start_time": "2021-11-17T12:23:44.897Z"
   },
   {
    "duration": 19,
    "start_time": "2021-11-17T12:23:44.908Z"
   },
   {
    "duration": 46,
    "start_time": "2021-11-17T12:23:44.929Z"
   },
   {
    "duration": 5,
    "start_time": "2021-11-17T12:23:44.978Z"
   },
   {
    "duration": 11,
    "start_time": "2021-11-17T12:23:44.985Z"
   },
   {
    "duration": 9,
    "start_time": "2021-11-17T12:23:44.998Z"
   },
   {
    "duration": 17,
    "start_time": "2021-11-17T12:23:45.009Z"
   },
   {
    "duration": 83,
    "start_time": "2021-11-17T12:34:42.742Z"
   },
   {
    "duration": 363,
    "start_time": "2021-11-18T06:47:25.141Z"
   },
   {
    "duration": 831,
    "start_time": "2021-11-18T06:47:38.508Z"
   },
   {
    "duration": 16,
    "start_time": "2021-11-18T06:47:39.342Z"
   },
   {
    "duration": 41,
    "start_time": "2021-11-18T06:47:39.361Z"
   },
   {
    "duration": 13,
    "start_time": "2021-11-18T06:47:39.404Z"
   },
   {
    "duration": 10,
    "start_time": "2021-11-18T06:47:39.420Z"
   },
   {
    "duration": 13,
    "start_time": "2021-11-18T06:47:39.432Z"
   },
   {
    "duration": 71,
    "start_time": "2021-11-18T06:47:39.447Z"
   },
   {
    "duration": 23,
    "start_time": "2021-11-18T06:47:39.521Z"
   },
   {
    "duration": 7,
    "start_time": "2021-11-18T06:47:39.548Z"
   },
   {
    "duration": 52,
    "start_time": "2021-11-18T06:47:39.558Z"
   },
   {
    "duration": 7,
    "start_time": "2021-11-18T06:47:39.613Z"
   },
   {
    "duration": 20,
    "start_time": "2021-11-18T06:47:39.622Z"
   },
   {
    "duration": 8,
    "start_time": "2021-11-18T06:47:42.804Z"
   },
   {
    "duration": 12,
    "start_time": "2021-11-18T06:48:05.605Z"
   },
   {
    "duration": 11,
    "start_time": "2021-11-18T06:48:41.387Z"
   },
   {
    "duration": 9,
    "start_time": "2021-11-18T06:49:03.866Z"
   },
   {
    "duration": 6,
    "start_time": "2021-11-18T06:51:07.983Z"
   },
   {
    "duration": 19,
    "start_time": "2021-11-18T06:51:20.173Z"
   },
   {
    "duration": 18,
    "start_time": "2021-11-18T06:57:43.304Z"
   },
   {
    "duration": 1234,
    "start_time": "2021-11-18T07:01:40.927Z"
   },
   {
    "duration": 13,
    "start_time": "2021-11-18T07:02:02.493Z"
   },
   {
    "duration": 26,
    "start_time": "2021-11-18T07:02:29.216Z"
   },
   {
    "duration": 29,
    "start_time": "2021-11-18T07:03:19.604Z"
   },
   {
    "duration": 19,
    "start_time": "2021-11-18T07:09:24.564Z"
   },
   {
    "duration": 21,
    "start_time": "2021-11-18T07:11:58.316Z"
   },
   {
    "duration": 22,
    "start_time": "2021-11-18T07:12:24.995Z"
   },
   {
    "duration": 22,
    "start_time": "2021-11-18T07:12:31.647Z"
   },
   {
    "duration": 7,
    "start_time": "2021-11-18T07:15:18.267Z"
   },
   {
    "duration": 7,
    "start_time": "2021-11-18T07:21:37.515Z"
   },
   {
    "duration": 7,
    "start_time": "2021-11-18T07:21:58.515Z"
   },
   {
    "duration": 7,
    "start_time": "2021-11-18T07:22:56.277Z"
   },
   {
    "duration": 7,
    "start_time": "2021-11-18T07:23:02.507Z"
   },
   {
    "duration": 7,
    "start_time": "2021-11-18T07:23:10.347Z"
   },
   {
    "duration": 8,
    "start_time": "2021-11-18T07:23:15.417Z"
   },
   {
    "duration": 6,
    "start_time": "2021-11-18T07:23:20.107Z"
   },
   {
    "duration": 8,
    "start_time": "2021-11-18T07:23:21.220Z"
   },
   {
    "duration": 7,
    "start_time": "2021-11-18T07:23:56.726Z"
   },
   {
    "duration": 7,
    "start_time": "2021-11-18T07:27:29.356Z"
   },
   {
    "duration": 100,
    "start_time": "2021-11-18T07:30:17.637Z"
   },
   {
    "duration": 7,
    "start_time": "2021-11-18T07:31:29.514Z"
   },
   {
    "duration": 7,
    "start_time": "2021-11-18T07:32:07.206Z"
   },
   {
    "duration": 8,
    "start_time": "2021-11-18T07:35:47.587Z"
   },
   {
    "duration": 121,
    "start_time": "2021-11-18T07:35:55.128Z"
   },
   {
    "duration": 3362,
    "start_time": "2021-11-18T07:41:00.633Z"
   },
   {
    "duration": 4042,
    "start_time": "2021-11-18T07:41:39.215Z"
   },
   {
    "duration": 4822,
    "start_time": "2021-11-18T07:42:58.216Z"
   },
   {
    "duration": 5097,
    "start_time": "2021-11-18T07:43:43.745Z"
   },
   {
    "duration": 4114,
    "start_time": "2021-11-18T07:44:03.967Z"
   },
   {
    "duration": 4123,
    "start_time": "2021-11-18T07:44:39.217Z"
   },
   {
    "duration": 3966,
    "start_time": "2021-11-18T07:45:38.368Z"
   },
   {
    "duration": 4160,
    "start_time": "2021-11-18T07:46:02.722Z"
   },
   {
    "duration": 4179,
    "start_time": "2021-11-18T08:02:45.388Z"
   },
   {
    "duration": 4197,
    "start_time": "2021-11-18T08:03:12.888Z"
   },
   {
    "duration": 319,
    "start_time": "2021-11-18T08:03:32.001Z"
   },
   {
    "duration": 7,
    "start_time": "2021-11-18T08:03:52.064Z"
   },
   {
    "duration": 378,
    "start_time": "2021-11-18T08:04:31.920Z"
   },
   {
    "duration": 882,
    "start_time": "2021-11-18T08:04:41.391Z"
   },
   {
    "duration": 15,
    "start_time": "2021-11-18T08:04:42.275Z"
   },
   {
    "duration": 30,
    "start_time": "2021-11-18T08:04:42.294Z"
   },
   {
    "duration": 15,
    "start_time": "2021-11-18T08:04:42.328Z"
   },
   {
    "duration": 10,
    "start_time": "2021-11-18T08:04:42.346Z"
   },
   {
    "duration": 56,
    "start_time": "2021-11-18T08:04:42.359Z"
   },
   {
    "duration": 27,
    "start_time": "2021-11-18T08:04:42.418Z"
   },
   {
    "duration": 23,
    "start_time": "2021-11-18T08:04:42.448Z"
   },
   {
    "duration": 10,
    "start_time": "2021-11-18T08:04:42.509Z"
   },
   {
    "duration": 19,
    "start_time": "2021-11-18T08:04:42.522Z"
   },
   {
    "duration": 6,
    "start_time": "2021-11-18T08:04:42.545Z"
   },
   {
    "duration": 65,
    "start_time": "2021-11-18T08:04:42.555Z"
   },
   {
    "duration": 9,
    "start_time": "2021-11-18T08:04:42.623Z"
   },
   {
    "duration": 18,
    "start_time": "2021-11-18T08:04:42.635Z"
   },
   {
    "duration": 54,
    "start_time": "2021-11-18T08:04:42.656Z"
   },
   {
    "duration": 21,
    "start_time": "2021-11-18T08:04:42.714Z"
   },
   {
    "duration": 10,
    "start_time": "2021-11-18T08:04:42.738Z"
   },
   {
    "duration": 10,
    "start_time": "2021-11-18T08:04:42.751Z"
   },
   {
    "duration": 15,
    "start_time": "2021-11-18T08:04:42.807Z"
   },
   {
    "duration": 6,
    "start_time": "2021-11-18T08:04:42.825Z"
   },
   {
    "duration": 10,
    "start_time": "2021-11-18T08:04:42.833Z"
   },
   {
    "duration": 10,
    "start_time": "2021-11-18T08:04:42.846Z"
   },
   {
    "duration": 11,
    "start_time": "2021-11-18T08:04:42.858Z"
   },
   {
    "duration": 18,
    "start_time": "2021-11-18T08:04:42.903Z"
   },
   {
    "duration": 31,
    "start_time": "2021-11-18T08:04:50.270Z"
   },
   {
    "duration": 18,
    "start_time": "2021-11-18T08:05:12.114Z"
   },
   {
    "duration": 22,
    "start_time": "2021-11-18T08:05:35.388Z"
   },
   {
    "duration": 25,
    "start_time": "2021-11-18T08:06:01.824Z"
   },
   {
    "duration": 25,
    "start_time": "2021-11-18T08:06:09.245Z"
   },
   {
    "duration": 25,
    "start_time": "2021-11-18T08:06:10.540Z"
   },
   {
    "duration": 1054,
    "start_time": "2021-11-18T08:12:33.468Z"
   },
   {
    "duration": 10,
    "start_time": "2021-11-18T08:12:46.970Z"
   },
   {
    "duration": 103,
    "start_time": "2021-11-18T08:13:35.076Z"
   },
   {
    "duration": 118,
    "start_time": "2021-11-18T08:13:59.330Z"
   },
   {
    "duration": 996,
    "start_time": "2021-11-18T08:14:05.476Z"
   },
   {
    "duration": 110,
    "start_time": "2021-11-18T08:14:12.516Z"
   },
   {
    "duration": 135,
    "start_time": "2021-11-18T08:14:24.300Z"
   },
   {
    "duration": 149,
    "start_time": "2021-11-18T08:14:36.195Z"
   },
   {
    "duration": 106,
    "start_time": "2021-11-18T08:15:12.940Z"
   },
   {
    "duration": 104,
    "start_time": "2021-11-18T08:15:18.377Z"
   },
   {
    "duration": 7,
    "start_time": "2021-11-18T08:15:28.860Z"
   },
   {
    "duration": 8,
    "start_time": "2021-11-18T08:15:33.156Z"
   },
   {
    "duration": 8,
    "start_time": "2021-11-18T08:16:04.749Z"
   },
   {
    "duration": 8,
    "start_time": "2021-11-18T08:16:07.228Z"
   },
   {
    "duration": 26,
    "start_time": "2021-11-18T08:39:05.187Z"
   },
   {
    "duration": 22,
    "start_time": "2021-11-18T08:39:12.030Z"
   },
   {
    "duration": 396,
    "start_time": "2021-11-18T08:40:56.300Z"
   },
   {
    "duration": 296,
    "start_time": "2021-11-18T08:41:03.981Z"
   },
   {
    "duration": 23,
    "start_time": "2021-11-18T08:41:38.190Z"
   },
   {
    "duration": 26,
    "start_time": "2021-11-18T08:42:14.530Z"
   },
   {
    "duration": 23,
    "start_time": "2021-11-18T08:42:16.800Z"
   },
   {
    "duration": 8,
    "start_time": "2021-11-18T08:47:48.845Z"
   },
   {
    "duration": 4,
    "start_time": "2021-11-18T08:51:14.860Z"
   },
   {
    "duration": 105,
    "start_time": "2021-11-18T08:54:18.480Z"
   },
   {
    "duration": 325,
    "start_time": "2021-11-18T08:56:57.990Z"
   },
   {
    "duration": 938,
    "start_time": "2021-11-18T09:00:33.349Z"
   },
   {
    "duration": 17,
    "start_time": "2021-11-18T09:00:45.511Z"
   },
   {
    "duration": 16,
    "start_time": "2021-11-18T09:00:56.140Z"
   },
   {
    "duration": 19,
    "start_time": "2021-11-18T09:02:47.810Z"
   },
   {
    "duration": 4,
    "start_time": "2021-11-18T09:03:50.319Z"
   },
   {
    "duration": 4,
    "start_time": "2021-11-18T09:04:51.307Z"
   },
   {
    "duration": 6,
    "start_time": "2021-11-18T09:05:43.302Z"
   },
   {
    "duration": 4,
    "start_time": "2021-11-18T09:08:44.220Z"
   },
   {
    "duration": 7,
    "start_time": "2021-11-18T09:09:35.700Z"
   },
   {
    "duration": 6,
    "start_time": "2021-11-18T09:11:33.820Z"
   },
   {
    "duration": 5,
    "start_time": "2021-11-18T09:12:03.093Z"
   },
   {
    "duration": 6,
    "start_time": "2021-11-18T09:12:22.070Z"
   },
   {
    "duration": 6,
    "start_time": "2021-11-18T09:12:29.861Z"
   },
   {
    "duration": 3,
    "start_time": "2021-11-18T09:23:18.924Z"
   },
   {
    "duration": 18,
    "start_time": "2021-11-18T09:29:39.670Z"
   },
   {
    "duration": 11927,
    "start_time": "2021-11-18T09:39:58.630Z"
   },
   {
    "duration": 7924,
    "start_time": "2021-11-18T09:46:33.400Z"
   },
   {
    "duration": 7441,
    "start_time": "2021-11-18T09:46:46.450Z"
   },
   {
    "duration": 14,
    "start_time": "2021-11-18T09:47:39.910Z"
   },
   {
    "duration": 16,
    "start_time": "2021-11-18T09:48:51.221Z"
   },
   {
    "duration": 9,
    "start_time": "2021-11-18T09:48:53.630Z"
   },
   {
    "duration": 10,
    "start_time": "2021-11-18T09:48:58.140Z"
   },
   {
    "duration": 12,
    "start_time": "2021-11-18T09:49:08.151Z"
   },
   {
    "duration": 14,
    "start_time": "2021-11-18T09:50:44.064Z"
   },
   {
    "duration": 13,
    "start_time": "2021-11-18T09:51:10.460Z"
   },
   {
    "duration": 16,
    "start_time": "2021-11-18T09:51:38.720Z"
   },
   {
    "duration": 14,
    "start_time": "2021-11-18T09:51:40.050Z"
   },
   {
    "duration": 443,
    "start_time": "2021-11-18T10:17:38.349Z"
   },
   {
    "duration": 12,
    "start_time": "2021-11-18T10:20:43.501Z"
   },
   {
    "duration": 7,
    "start_time": "2021-11-18T10:27:03.499Z"
   },
   {
    "duration": 7,
    "start_time": "2021-11-18T10:28:32.302Z"
   },
   {
    "duration": 48,
    "start_time": "2021-11-18T10:33:08.871Z"
   },
   {
    "duration": 40,
    "start_time": "2021-11-18T10:33:14.130Z"
   },
   {
    "duration": 998,
    "start_time": "2021-11-18T10:35:08.866Z"
   },
   {
    "duration": 18,
    "start_time": "2021-11-18T10:35:09.867Z"
   },
   {
    "duration": 44,
    "start_time": "2021-11-18T10:35:09.889Z"
   },
   {
    "duration": 13,
    "start_time": "2021-11-18T10:35:09.937Z"
   },
   {
    "duration": 14,
    "start_time": "2021-11-18T10:35:09.953Z"
   },
   {
    "duration": 58,
    "start_time": "2021-11-18T10:35:09.969Z"
   },
   {
    "duration": 30,
    "start_time": "2021-11-18T10:35:10.030Z"
   },
   {
    "duration": 52,
    "start_time": "2021-11-18T10:35:10.064Z"
   },
   {
    "duration": 8,
    "start_time": "2021-11-18T10:35:10.121Z"
   },
   {
    "duration": 22,
    "start_time": "2021-11-18T10:35:10.132Z"
   },
   {
    "duration": 7,
    "start_time": "2021-11-18T10:35:10.157Z"
   },
   {
    "duration": 58,
    "start_time": "2021-11-18T10:35:10.167Z"
   },
   {
    "duration": 11,
    "start_time": "2021-11-18T10:35:10.229Z"
   },
   {
    "duration": 17,
    "start_time": "2021-11-18T10:35:10.242Z"
   },
   {
    "duration": 65,
    "start_time": "2021-11-18T10:35:10.262Z"
   },
   {
    "duration": 22,
    "start_time": "2021-11-18T10:35:10.330Z"
   },
   {
    "duration": 6,
    "start_time": "2021-11-18T10:35:10.354Z"
   },
   {
    "duration": 9,
    "start_time": "2021-11-18T10:35:10.363Z"
   },
   {
    "duration": 7,
    "start_time": "2021-11-18T10:35:10.408Z"
   },
   {
    "duration": 8,
    "start_time": "2021-11-18T10:35:10.417Z"
   },
   {
    "duration": 8,
    "start_time": "2021-11-18T10:35:10.428Z"
   },
   {
    "duration": 9,
    "start_time": "2021-11-18T10:35:10.440Z"
   },
   {
    "duration": 53,
    "start_time": "2021-11-18T10:35:10.456Z"
   },
   {
    "duration": 11,
    "start_time": "2021-11-18T10:35:10.514Z"
   },
   {
    "duration": 7,
    "start_time": "2021-11-18T10:35:10.528Z"
   },
   {
    "duration": 25,
    "start_time": "2021-11-18T10:35:10.538Z"
   },
   {
    "duration": 63,
    "start_time": "2021-11-18T10:35:10.566Z"
   },
   {
    "duration": 8,
    "start_time": "2021-11-18T10:35:10.632Z"
   },
   {
    "duration": 13,
    "start_time": "2021-11-18T10:35:10.642Z"
   },
   {
    "duration": 78,
    "start_time": "2021-11-18T10:35:10.657Z"
   },
   {
    "duration": 24,
    "start_time": "2021-11-18T10:35:10.738Z"
   },
   {
    "duration": 54,
    "start_time": "2021-11-18T10:35:10.765Z"
   },
   {
    "duration": 21,
    "start_time": "2021-11-18T10:35:10.822Z"
   },
   {
    "duration": 8,
    "start_time": "2021-11-18T10:35:10.846Z"
   },
   {
    "duration": 407,
    "start_time": "2021-11-18T10:35:10.857Z"
   },
   {
    "duration": -30,
    "start_time": "2021-11-18T10:35:11.296Z"
   },
   {
    "duration": -33,
    "start_time": "2021-11-18T10:35:11.301Z"
   },
   {
    "duration": -56,
    "start_time": "2021-11-18T10:35:11.326Z"
   },
   {
    "duration": -58,
    "start_time": "2021-11-18T10:35:11.330Z"
   },
   {
    "duration": -60,
    "start_time": "2021-11-18T10:35:11.334Z"
   },
   {
    "duration": -63,
    "start_time": "2021-11-18T10:35:11.339Z"
   },
   {
    "duration": -67,
    "start_time": "2021-11-18T10:35:11.345Z"
   },
   {
    "duration": -68,
    "start_time": "2021-11-18T10:35:11.348Z"
   },
   {
    "duration": 332,
    "start_time": "2021-11-18T10:35:17.562Z"
   },
   {
    "duration": 68,
    "start_time": "2021-11-18T10:35:31.148Z"
   },
   {
    "duration": 18,
    "start_time": "2021-11-18T10:35:31.219Z"
   },
   {
    "duration": 23,
    "start_time": "2021-11-18T10:35:31.241Z"
   },
   {
    "duration": 48,
    "start_time": "2021-11-18T10:35:31.267Z"
   },
   {
    "duration": 11,
    "start_time": "2021-11-18T10:35:31.318Z"
   },
   {
    "duration": 19,
    "start_time": "2021-11-18T10:35:31.331Z"
   },
   {
    "duration": 32,
    "start_time": "2021-11-18T10:35:31.353Z"
   },
   {
    "duration": 26,
    "start_time": "2021-11-18T10:35:31.401Z"
   },
   {
    "duration": 6,
    "start_time": "2021-11-18T10:35:31.431Z"
   },
   {
    "duration": 26,
    "start_time": "2021-11-18T10:35:31.440Z"
   },
   {
    "duration": 35,
    "start_time": "2021-11-18T10:35:31.468Z"
   },
   {
    "duration": 19,
    "start_time": "2021-11-18T10:35:31.517Z"
   },
   {
    "duration": 13,
    "start_time": "2021-11-18T10:35:31.539Z"
   },
   {
    "duration": 23,
    "start_time": "2021-11-18T10:35:31.555Z"
   },
   {
    "duration": 25,
    "start_time": "2021-11-18T10:35:31.611Z"
   },
   {
    "duration": 32,
    "start_time": "2021-11-18T10:35:31.639Z"
   },
   {
    "duration": 35,
    "start_time": "2021-11-18T10:35:31.674Z"
   },
   {
    "duration": 15,
    "start_time": "2021-11-18T10:35:31.712Z"
   },
   {
    "duration": 18,
    "start_time": "2021-11-18T10:35:31.729Z"
   },
   {
    "duration": 19,
    "start_time": "2021-11-18T10:35:31.749Z"
   },
   {
    "duration": 26,
    "start_time": "2021-11-18T10:35:31.771Z"
   },
   {
    "duration": 22,
    "start_time": "2021-11-18T10:35:31.800Z"
   },
   {
    "duration": 12,
    "start_time": "2021-11-18T10:35:31.826Z"
   },
   {
    "duration": 12,
    "start_time": "2021-11-18T10:35:31.840Z"
   },
   {
    "duration": 7,
    "start_time": "2021-11-18T10:35:31.854Z"
   },
   {
    "duration": 57,
    "start_time": "2021-11-18T10:35:31.863Z"
   },
   {
    "duration": 24,
    "start_time": "2021-11-18T10:35:31.926Z"
   },
   {
    "duration": 7,
    "start_time": "2021-11-18T10:35:31.953Z"
   },
   {
    "duration": 38,
    "start_time": "2021-11-18T10:35:31.962Z"
   },
   {
    "duration": 42,
    "start_time": "2021-11-18T10:35:32.003Z"
   },
   {
    "duration": 21,
    "start_time": "2021-11-18T10:35:32.047Z"
   },
   {
    "duration": 56,
    "start_time": "2021-11-18T10:35:32.072Z"
   },
   {
    "duration": 22,
    "start_time": "2021-11-18T10:35:32.130Z"
   },
   {
    "duration": 3,
    "start_time": "2021-11-18T10:35:32.155Z"
   },
   {
    "duration": 337,
    "start_time": "2021-11-18T10:35:32.161Z"
   },
   {
    "duration": -35,
    "start_time": "2021-11-18T10:35:32.536Z"
   },
   {
    "duration": -39,
    "start_time": "2021-11-18T10:35:32.541Z"
   },
   {
    "duration": -63,
    "start_time": "2021-11-18T10:35:32.566Z"
   },
   {
    "duration": -65,
    "start_time": "2021-11-18T10:35:32.570Z"
   },
   {
    "duration": -68,
    "start_time": "2021-11-18T10:35:32.574Z"
   },
   {
    "duration": -72,
    "start_time": "2021-11-18T10:35:32.579Z"
   },
   {
    "duration": -88,
    "start_time": "2021-11-18T10:35:32.599Z"
   },
   {
    "duration": -92,
    "start_time": "2021-11-18T10:35:32.605Z"
   },
   {
    "duration": 879,
    "start_time": "2021-11-18T10:36:25.296Z"
   },
   {
    "duration": 15,
    "start_time": "2021-11-18T10:36:26.178Z"
   },
   {
    "duration": 38,
    "start_time": "2021-11-18T10:36:26.196Z"
   },
   {
    "duration": 12,
    "start_time": "2021-11-18T10:36:26.237Z"
   },
   {
    "duration": 16,
    "start_time": "2021-11-18T10:36:26.251Z"
   },
   {
    "duration": 39,
    "start_time": "2021-11-18T10:36:26.270Z"
   },
   {
    "duration": 25,
    "start_time": "2021-11-18T10:36:26.312Z"
   },
   {
    "duration": 20,
    "start_time": "2021-11-18T10:36:26.339Z"
   },
   {
    "duration": 5,
    "start_time": "2021-11-18T10:36:26.363Z"
   },
   {
    "duration": 51,
    "start_time": "2021-11-18T10:36:26.371Z"
   },
   {
    "duration": 6,
    "start_time": "2021-11-18T10:36:26.426Z"
   },
   {
    "duration": 23,
    "start_time": "2021-11-18T10:36:26.435Z"
   },
   {
    "duration": 13,
    "start_time": "2021-11-18T10:36:26.461Z"
   },
   {
    "duration": 24,
    "start_time": "2021-11-18T10:36:26.500Z"
   },
   {
    "duration": 24,
    "start_time": "2021-11-18T10:36:26.526Z"
   },
   {
    "duration": 17,
    "start_time": "2021-11-18T10:36:26.553Z"
   },
   {
    "duration": 10,
    "start_time": "2021-11-18T10:36:26.603Z"
   },
   {
    "duration": 7,
    "start_time": "2021-11-18T10:36:26.616Z"
   },
   {
    "duration": 9,
    "start_time": "2021-11-18T10:36:26.626Z"
   },
   {
    "duration": 13,
    "start_time": "2021-11-18T10:36:26.637Z"
   },
   {
    "duration": 14,
    "start_time": "2021-11-18T10:36:26.652Z"
   },
   {
    "duration": 42,
    "start_time": "2021-11-18T10:36:26.669Z"
   },
   {
    "duration": 9,
    "start_time": "2021-11-18T10:36:26.713Z"
   },
   {
    "duration": 13,
    "start_time": "2021-11-18T10:36:26.725Z"
   },
   {
    "duration": 8,
    "start_time": "2021-11-18T10:36:26.741Z"
   },
   {
    "duration": 66,
    "start_time": "2021-11-18T10:36:26.752Z"
   },
   {
    "duration": 24,
    "start_time": "2021-11-18T10:36:26.823Z"
   },
   {
    "duration": 14,
    "start_time": "2021-11-18T10:36:26.850Z"
   },
   {
    "duration": 12,
    "start_time": "2021-11-18T10:36:26.868Z"
   },
   {
    "duration": 44,
    "start_time": "2021-11-18T10:36:26.901Z"
   },
   {
    "duration": 22,
    "start_time": "2021-11-18T10:36:26.947Z"
   },
   {
    "duration": 52,
    "start_time": "2021-11-18T10:36:26.971Z"
   },
   {
    "duration": 19,
    "start_time": "2021-11-18T10:36:27.025Z"
   },
   {
    "duration": 7,
    "start_time": "2021-11-18T10:36:27.047Z"
   },
   {
    "duration": 414,
    "start_time": "2021-11-18T10:36:27.057Z"
   },
   {
    "duration": -88,
    "start_time": "2021-11-18T10:36:27.562Z"
   },
   {
    "duration": -91,
    "start_time": "2021-11-18T10:36:27.566Z"
   },
   {
    "duration": -93,
    "start_time": "2021-11-18T10:36:27.570Z"
   },
   {
    "duration": -96,
    "start_time": "2021-11-18T10:36:27.574Z"
   },
   {
    "duration": -97,
    "start_time": "2021-11-18T10:36:27.577Z"
   },
   {
    "duration": -122,
    "start_time": "2021-11-18T10:36:27.603Z"
   },
   {
    "duration": -124,
    "start_time": "2021-11-18T10:36:27.607Z"
   },
   {
    "duration": -128,
    "start_time": "2021-11-18T10:36:27.613Z"
   },
   {
    "duration": -131,
    "start_time": "2021-11-18T10:36:27.617Z"
   },
   {
    "duration": 868,
    "start_time": "2021-11-18T10:37:29.880Z"
   },
   {
    "duration": 23,
    "start_time": "2021-11-18T10:37:30.820Z"
   },
   {
    "duration": 45,
    "start_time": "2021-11-18T10:37:37.090Z"
   },
   {
    "duration": 16,
    "start_time": "2021-11-18T10:37:46.221Z"
   },
   {
    "duration": 14,
    "start_time": "2021-11-18T10:37:53.380Z"
   },
   {
    "duration": 17,
    "start_time": "2021-11-18T10:37:54.061Z"
   },
   {
    "duration": 28,
    "start_time": "2021-11-18T10:38:14.409Z"
   },
   {
    "duration": 24,
    "start_time": "2021-11-18T10:38:27.820Z"
   },
   {
    "duration": 6,
    "start_time": "2021-11-18T10:38:40.685Z"
   },
   {
    "duration": 5,
    "start_time": "2021-11-18T10:39:04.960Z"
   },
   {
    "duration": 16,
    "start_time": "2021-11-18T10:39:09.340Z"
   },
   {
    "duration": 11,
    "start_time": "2021-11-18T10:39:25.190Z"
   },
   {
    "duration": 69,
    "start_time": "2021-11-18T10:42:25.992Z"
   },
   {
    "duration": 41,
    "start_time": "2021-11-18T10:42:26.064Z"
   },
   {
    "duration": 22,
    "start_time": "2021-11-18T10:42:26.109Z"
   },
   {
    "duration": 13,
    "start_time": "2021-11-18T10:42:26.134Z"
   },
   {
    "duration": 53,
    "start_time": "2021-11-18T10:42:26.150Z"
   },
   {
    "duration": 19,
    "start_time": "2021-11-18T10:42:26.207Z"
   },
   {
    "duration": 25,
    "start_time": "2021-11-18T10:42:26.229Z"
   },
   {
    "duration": 57,
    "start_time": "2021-11-18T10:42:26.257Z"
   },
   {
    "duration": 7,
    "start_time": "2021-11-18T10:42:26.319Z"
   },
   {
    "duration": 17,
    "start_time": "2021-11-18T10:42:26.330Z"
   },
   {
    "duration": 7,
    "start_time": "2021-11-18T10:42:26.350Z"
   },
   {
    "duration": 59,
    "start_time": "2021-11-18T10:42:26.359Z"
   },
   {
    "duration": 11,
    "start_time": "2021-11-18T10:42:26.421Z"
   },
   {
    "duration": 20,
    "start_time": "2021-11-18T10:42:26.434Z"
   },
   {
    "duration": 60,
    "start_time": "2021-11-18T10:42:26.457Z"
   },
   {
    "duration": 18,
    "start_time": "2021-11-18T10:42:26.520Z"
   },
   {
    "duration": 10,
    "start_time": "2021-11-18T10:42:26.541Z"
   },
   {
    "duration": 7,
    "start_time": "2021-11-18T10:42:26.553Z"
   },
   {
    "duration": 46,
    "start_time": "2021-11-18T10:42:26.563Z"
   },
   {
    "duration": 10,
    "start_time": "2021-11-18T10:42:26.612Z"
   },
   {
    "duration": 10,
    "start_time": "2021-11-18T10:42:26.625Z"
   },
   {
    "duration": 9,
    "start_time": "2021-11-18T10:42:26.638Z"
   },
   {
    "duration": 8,
    "start_time": "2021-11-18T10:42:26.649Z"
   },
   {
    "duration": 44,
    "start_time": "2021-11-18T10:42:26.660Z"
   },
   {
    "duration": 7,
    "start_time": "2021-11-18T10:42:26.709Z"
   },
   {
    "duration": 40,
    "start_time": "2021-11-18T10:42:26.719Z"
   },
   {
    "duration": 30,
    "start_time": "2021-11-18T10:42:26.765Z"
   },
   {
    "duration": 13,
    "start_time": "2021-11-18T10:42:26.800Z"
   },
   {
    "duration": 12,
    "start_time": "2021-11-18T10:42:26.815Z"
   },
   {
    "duration": 19,
    "start_time": "2021-11-18T10:42:26.830Z"
   },
   {
    "duration": 63,
    "start_time": "2021-11-18T10:42:26.852Z"
   },
   {
    "duration": 35,
    "start_time": "2021-11-18T10:42:26.918Z"
   },
   {
    "duration": 54,
    "start_time": "2021-11-18T10:42:26.957Z"
   },
   {
    "duration": 8,
    "start_time": "2021-11-18T10:42:27.014Z"
   },
   {
    "duration": 989,
    "start_time": "2021-11-18T10:42:27.024Z"
   },
   {
    "duration": 4,
    "start_time": "2021-11-18T10:42:28.016Z"
   },
   {
    "duration": 16,
    "start_time": "2021-11-18T10:42:28.022Z"
   },
   {
    "duration": 13,
    "start_time": "2021-11-18T10:42:28.041Z"
   },
   {
    "duration": 24,
    "start_time": "2021-11-18T10:42:28.056Z"
   },
   {
    "duration": 29,
    "start_time": "2021-11-18T10:42:28.082Z"
   },
   {
    "duration": 14,
    "start_time": "2021-11-18T10:42:28.115Z"
   },
   {
    "duration": 22,
    "start_time": "2021-11-18T10:42:28.132Z"
   },
   {
    "duration": 16,
    "start_time": "2021-11-18T10:42:28.157Z"
   },
   {
    "duration": 1010,
    "start_time": "2021-11-18T10:44:04.811Z"
   },
   {
    "duration": 15,
    "start_time": "2021-11-18T10:44:05.824Z"
   },
   {
    "duration": 28,
    "start_time": "2021-11-18T10:44:05.842Z"
   },
   {
    "duration": 36,
    "start_time": "2021-11-18T10:44:05.873Z"
   },
   {
    "duration": 12,
    "start_time": "2021-11-18T10:44:05.912Z"
   },
   {
    "duration": 12,
    "start_time": "2021-11-18T10:44:05.926Z"
   },
   {
    "duration": 62,
    "start_time": "2021-11-18T10:44:05.941Z"
   },
   {
    "duration": 22,
    "start_time": "2021-11-18T10:44:06.009Z"
   },
   {
    "duration": 5,
    "start_time": "2021-11-18T10:44:06.034Z"
   },
   {
    "duration": 23,
    "start_time": "2021-11-18T10:44:06.042Z"
   },
   {
    "duration": 38,
    "start_time": "2021-11-18T10:44:06.068Z"
   },
   {
    "duration": 30,
    "start_time": "2021-11-18T10:44:06.108Z"
   },
   {
    "duration": 13,
    "start_time": "2021-11-18T10:44:06.141Z"
   },
   {
    "duration": 30,
    "start_time": "2021-11-18T10:44:06.156Z"
   },
   {
    "duration": 33,
    "start_time": "2021-11-18T10:44:06.189Z"
   },
   {
    "duration": 23,
    "start_time": "2021-11-18T10:44:06.225Z"
   },
   {
    "duration": 20,
    "start_time": "2021-11-18T10:44:06.251Z"
   },
   {
    "duration": 33,
    "start_time": "2021-11-18T10:44:06.273Z"
   },
   {
    "duration": 11,
    "start_time": "2021-11-18T10:44:06.309Z"
   },
   {
    "duration": 18,
    "start_time": "2021-11-18T10:44:06.323Z"
   },
   {
    "duration": 10,
    "start_time": "2021-11-18T10:44:06.345Z"
   },
   {
    "duration": 19,
    "start_time": "2021-11-18T10:44:06.358Z"
   },
   {
    "duration": 35,
    "start_time": "2021-11-18T10:44:06.382Z"
   },
   {
    "duration": 19,
    "start_time": "2021-11-18T10:44:06.421Z"
   },
   {
    "duration": 5,
    "start_time": "2021-11-18T10:44:06.443Z"
   },
   {
    "duration": 33,
    "start_time": "2021-11-18T10:44:06.450Z"
   },
   {
    "duration": 45,
    "start_time": "2021-11-18T10:44:06.486Z"
   },
   {
    "duration": 15,
    "start_time": "2021-11-18T10:44:06.534Z"
   },
   {
    "duration": 9,
    "start_time": "2021-11-18T10:44:06.551Z"
   },
   {
    "duration": 463,
    "start_time": "2021-11-18T10:44:06.562Z"
   },
   {
    "duration": -207,
    "start_time": "2021-11-18T10:44:07.235Z"
   },
   {
    "duration": -211,
    "start_time": "2021-11-18T10:44:07.240Z"
   },
   {
    "duration": -250,
    "start_time": "2021-11-18T10:44:07.280Z"
   },
   {
    "duration": -253,
    "start_time": "2021-11-18T10:44:07.285Z"
   },
   {
    "duration": -259,
    "start_time": "2021-11-18T10:44:07.292Z"
   },
   {
    "duration": -262,
    "start_time": "2021-11-18T10:44:07.297Z"
   },
   {
    "duration": -266,
    "start_time": "2021-11-18T10:44:07.302Z"
   },
   {
    "duration": -269,
    "start_time": "2021-11-18T10:44:07.306Z"
   },
   {
    "duration": -272,
    "start_time": "2021-11-18T10:44:07.310Z"
   },
   {
    "duration": -275,
    "start_time": "2021-11-18T10:44:07.315Z"
   },
   {
    "duration": -278,
    "start_time": "2021-11-18T10:44:07.319Z"
   },
   {
    "duration": -281,
    "start_time": "2021-11-18T10:44:07.324Z"
   },
   {
    "duration": -284,
    "start_time": "2021-11-18T10:44:07.328Z"
   },
   {
    "duration": -296,
    "start_time": "2021-11-18T10:44:07.342Z"
   },
   {
    "duration": 1091,
    "start_time": "2021-11-18T10:44:37.996Z"
   },
   {
    "duration": 22,
    "start_time": "2021-11-18T10:44:39.090Z"
   },
   {
    "duration": 38,
    "start_time": "2021-11-18T10:44:39.116Z"
   },
   {
    "duration": 19,
    "start_time": "2021-11-18T10:44:39.157Z"
   },
   {
    "duration": 11,
    "start_time": "2021-11-18T10:44:39.207Z"
   },
   {
    "duration": 20,
    "start_time": "2021-11-18T10:44:39.221Z"
   },
   {
    "duration": 25,
    "start_time": "2021-11-18T10:44:39.244Z"
   },
   {
    "duration": 50,
    "start_time": "2021-11-18T10:44:39.273Z"
   },
   {
    "duration": 7,
    "start_time": "2021-11-18T10:44:39.327Z"
   },
   {
    "duration": 23,
    "start_time": "2021-11-18T10:44:39.337Z"
   },
   {
    "duration": 8,
    "start_time": "2021-11-18T10:44:39.411Z"
   },
   {
    "duration": 33,
    "start_time": "2021-11-18T10:44:39.422Z"
   },
   {
    "duration": 12,
    "start_time": "2021-11-18T10:44:39.458Z"
   },
   {
    "duration": 56,
    "start_time": "2021-11-18T10:44:39.473Z"
   },
   {
    "duration": 23,
    "start_time": "2021-11-18T10:44:39.532Z"
   },
   {
    "duration": 17,
    "start_time": "2021-11-18T10:44:39.558Z"
   },
   {
    "duration": 10,
    "start_time": "2021-11-18T10:44:39.607Z"
   },
   {
    "duration": 8,
    "start_time": "2021-11-18T10:44:39.620Z"
   },
   {
    "duration": 16,
    "start_time": "2021-11-18T10:44:39.631Z"
   },
   {
    "duration": 9,
    "start_time": "2021-11-18T10:44:39.650Z"
   },
   {
    "duration": 12,
    "start_time": "2021-11-18T10:44:39.704Z"
   },
   {
    "duration": 16,
    "start_time": "2021-11-18T10:44:39.718Z"
   },
   {
    "duration": 7,
    "start_time": "2021-11-18T10:44:39.741Z"
   },
   {
    "duration": 10,
    "start_time": "2021-11-18T10:44:39.752Z"
   },
   {
    "duration": 10,
    "start_time": "2021-11-18T10:44:39.806Z"
   },
   {
    "duration": 33,
    "start_time": "2021-11-18T10:44:39.820Z"
   },
   {
    "duration": 24,
    "start_time": "2021-11-18T10:44:39.856Z"
   },
   {
    "duration": 34,
    "start_time": "2021-11-18T10:44:39.883Z"
   },
   {
    "duration": 11,
    "start_time": "2021-11-18T10:44:39.918Z"
   },
   {
    "duration": 15,
    "start_time": "2021-11-18T10:44:39.933Z"
   },
   {
    "duration": 64,
    "start_time": "2021-11-18T10:44:39.950Z"
   },
   {
    "duration": 42,
    "start_time": "2021-11-18T10:44:40.017Z"
   },
   {
    "duration": 58,
    "start_time": "2021-11-18T10:44:40.062Z"
   },
   {
    "duration": 17,
    "start_time": "2021-11-18T10:44:40.123Z"
   },
   {
    "duration": 991,
    "start_time": "2021-11-18T10:44:40.143Z"
   },
   {
    "duration": 3,
    "start_time": "2021-11-18T10:44:41.137Z"
   },
   {
    "duration": 7,
    "start_time": "2021-11-18T10:44:41.143Z"
   },
   {
    "duration": 9,
    "start_time": "2021-11-18T10:44:41.153Z"
   },
   {
    "duration": 53,
    "start_time": "2021-11-18T10:44:41.165Z"
   },
   {
    "duration": 16,
    "start_time": "2021-11-18T10:44:41.221Z"
   },
   {
    "duration": 19,
    "start_time": "2021-11-18T10:44:41.240Z"
   },
   {
    "duration": 51,
    "start_time": "2021-11-18T10:44:41.261Z"
   },
   {
    "duration": 21,
    "start_time": "2021-11-18T10:44:41.315Z"
   },
   {
    "duration": 11,
    "start_time": "2021-11-18T10:44:41.339Z"
   },
   {
    "duration": 9,
    "start_time": "2021-11-18T10:48:19.305Z"
   },
   {
    "duration": 111,
    "start_time": "2021-11-18T10:48:39.178Z"
   },
   {
    "duration": 116,
    "start_time": "2021-11-18T10:49:03.644Z"
   },
   {
    "duration": 119,
    "start_time": "2021-11-18T10:49:08.245Z"
   },
   {
    "duration": 10,
    "start_time": "2021-11-18T10:49:12.083Z"
   },
   {
    "duration": 22,
    "start_time": "2021-11-18T10:50:51.785Z"
   },
   {
    "duration": 6,
    "start_time": "2021-11-18T10:53:29.162Z"
   },
   {
    "duration": 9,
    "start_time": "2021-11-18T10:54:15.145Z"
   },
   {
    "duration": 8,
    "start_time": "2021-11-18T10:55:03.425Z"
   },
   {
    "duration": 1866,
    "start_time": "2021-11-18T10:57:02.136Z"
   },
   {
    "duration": 648,
    "start_time": "2021-11-18T10:59:46.423Z"
   },
   {
    "duration": 304,
    "start_time": "2021-11-18T11:03:53.249Z"
   },
   {
    "duration": 302,
    "start_time": "2021-11-18T11:04:09.509Z"
   },
   {
    "duration": 4,
    "start_time": "2021-11-18T11:04:44.494Z"
   },
   {
    "duration": 6,
    "start_time": "2021-11-18T11:04:53.446Z"
   },
   {
    "duration": 7,
    "start_time": "2021-11-18T11:37:25.528Z"
   },
   {
    "duration": 7,
    "start_time": "2021-11-18T11:37:35.458Z"
   },
   {
    "duration": 6,
    "start_time": "2021-11-18T11:37:48.258Z"
   },
   {
    "duration": 933,
    "start_time": "2021-11-18T11:38:59.694Z"
   },
   {
    "duration": 828,
    "start_time": "2021-11-18T11:40:11.920Z"
   },
   {
    "duration": 17,
    "start_time": "2021-11-18T11:40:12.751Z"
   },
   {
    "duration": 39,
    "start_time": "2021-11-18T11:40:12.771Z"
   },
   {
    "duration": 15,
    "start_time": "2021-11-18T11:40:12.813Z"
   },
   {
    "duration": 11,
    "start_time": "2021-11-18T11:40:12.830Z"
   },
   {
    "duration": 12,
    "start_time": "2021-11-18T11:40:12.843Z"
   },
   {
    "duration": 65,
    "start_time": "2021-11-18T11:40:12.857Z"
   },
   {
    "duration": 20,
    "start_time": "2021-11-18T11:40:12.925Z"
   },
   {
    "duration": 5,
    "start_time": "2021-11-18T11:40:12.948Z"
   },
   {
    "duration": 48,
    "start_time": "2021-11-18T11:40:12.956Z"
   },
   {
    "duration": 5,
    "start_time": "2021-11-18T11:40:13.008Z"
   },
   {
    "duration": 23,
    "start_time": "2021-11-18T11:40:13.016Z"
   },
   {
    "duration": 17,
    "start_time": "2021-11-18T11:40:13.042Z"
   },
   {
    "duration": 39,
    "start_time": "2021-11-18T11:40:13.062Z"
   },
   {
    "duration": 23,
    "start_time": "2021-11-18T11:40:13.103Z"
   },
   {
    "duration": 22,
    "start_time": "2021-11-18T11:40:13.129Z"
   },
   {
    "duration": 11,
    "start_time": "2021-11-18T11:40:13.154Z"
   },
   {
    "duration": 36,
    "start_time": "2021-11-18T11:40:13.168Z"
   },
   {
    "duration": 6,
    "start_time": "2021-11-18T11:40:13.207Z"
   },
   {
    "duration": 9,
    "start_time": "2021-11-18T11:40:13.215Z"
   },
   {
    "duration": 12,
    "start_time": "2021-11-18T11:40:13.226Z"
   },
   {
    "duration": 7,
    "start_time": "2021-11-18T11:40:13.241Z"
   },
   {
    "duration": 6,
    "start_time": "2021-11-18T11:40:13.250Z"
   },
   {
    "duration": 8,
    "start_time": "2021-11-18T11:40:13.302Z"
   },
   {
    "duration": 8,
    "start_time": "2021-11-18T11:40:13.312Z"
   },
   {
    "duration": 24,
    "start_time": "2021-11-18T11:40:13.322Z"
   },
   {
    "duration": 59,
    "start_time": "2021-11-18T11:40:13.351Z"
   },
   {
    "duration": 8,
    "start_time": "2021-11-18T11:40:13.413Z"
   },
   {
    "duration": 10,
    "start_time": "2021-11-18T11:40:13.424Z"
   },
   {
    "duration": 16,
    "start_time": "2021-11-18T11:40:13.437Z"
   },
   {
    "duration": 67,
    "start_time": "2021-11-18T11:40:13.456Z"
   },
   {
    "duration": 29,
    "start_time": "2021-11-18T11:40:13.526Z"
   },
   {
    "duration": 59,
    "start_time": "2021-11-18T11:40:13.558Z"
   },
   {
    "duration": 9,
    "start_time": "2021-11-18T11:40:13.620Z"
   },
   {
    "duration": 979,
    "start_time": "2021-11-18T11:40:13.632Z"
   },
   {
    "duration": 3,
    "start_time": "2021-11-18T11:40:14.614Z"
   },
   {
    "duration": 8,
    "start_time": "2021-11-18T11:40:14.620Z"
   },
   {
    "duration": 10,
    "start_time": "2021-11-18T11:40:14.630Z"
   },
   {
    "duration": 19,
    "start_time": "2021-11-18T11:40:14.643Z"
   },
   {
    "duration": 45,
    "start_time": "2021-11-18T11:40:14.665Z"
   },
   {
    "duration": 17,
    "start_time": "2021-11-18T11:40:14.712Z"
   },
   {
    "duration": 18,
    "start_time": "2021-11-18T11:40:14.732Z"
   },
   {
    "duration": 13,
    "start_time": "2021-11-18T11:40:14.752Z"
   },
   {
    "duration": 37,
    "start_time": "2021-11-18T11:40:14.768Z"
   },
   {
    "duration": 11,
    "start_time": "2021-11-18T11:40:14.808Z"
   },
   {
    "duration": 8,
    "start_time": "2021-11-18T11:40:14.822Z"
   },
   {
    "duration": 11,
    "start_time": "2021-11-18T11:41:10.359Z"
   },
   {
    "duration": 6,
    "start_time": "2021-11-18T11:41:34.970Z"
   },
   {
    "duration": 12,
    "start_time": "2021-11-18T11:41:42.720Z"
   },
   {
    "duration": 8,
    "start_time": "2021-11-18T11:42:13.090Z"
   },
   {
    "duration": 5,
    "start_time": "2021-11-18T11:43:34.181Z"
   },
   {
    "duration": 11,
    "start_time": "2021-11-18T11:46:06.000Z"
   },
   {
    "duration": 12,
    "start_time": "2021-11-18T11:47:19.319Z"
   },
   {
    "duration": 406,
    "start_time": "2021-11-18T11:53:32.589Z"
   },
   {
    "duration": 509,
    "start_time": "2021-11-18T11:54:41.688Z"
   },
   {
    "duration": 5,
    "start_time": "2021-11-18T11:54:53.221Z"
   },
   {
    "duration": 487,
    "start_time": "2021-11-18T11:55:59.149Z"
   },
   {
    "duration": 96,
    "start_time": "2021-11-18T11:56:09.149Z"
   },
   {
    "duration": 344,
    "start_time": "2021-11-18T11:56:34.000Z"
   },
   {
    "duration": 8585,
    "start_time": "2021-11-18T11:57:03.942Z"
   },
   {
    "duration": 4,
    "start_time": "2021-11-18T12:06:32.001Z"
   },
   {
    "duration": 8,
    "start_time": "2021-11-18T12:09:04.367Z"
   },
   {
    "duration": 12,
    "start_time": "2021-11-18T12:09:17.691Z"
   },
   {
    "duration": 814,
    "start_time": "2021-11-18T12:09:53.347Z"
   },
   {
    "duration": 16,
    "start_time": "2021-11-18T12:09:54.164Z"
   },
   {
    "duration": 36,
    "start_time": "2021-11-18T12:09:54.183Z"
   },
   {
    "duration": 13,
    "start_time": "2021-11-18T12:09:54.222Z"
   },
   {
    "duration": 10,
    "start_time": "2021-11-18T12:09:54.238Z"
   },
   {
    "duration": 13,
    "start_time": "2021-11-18T12:09:54.250Z"
   },
   {
    "duration": 57,
    "start_time": "2021-11-18T12:09:54.265Z"
   },
   {
    "duration": 22,
    "start_time": "2021-11-18T12:09:54.324Z"
   },
   {
    "duration": 5,
    "start_time": "2021-11-18T12:09:54.350Z"
   },
   {
    "duration": 55,
    "start_time": "2021-11-18T12:09:54.358Z"
   },
   {
    "duration": 6,
    "start_time": "2021-11-18T12:09:54.416Z"
   },
   {
    "duration": 22,
    "start_time": "2021-11-18T12:09:54.424Z"
   },
   {
    "duration": 9,
    "start_time": "2021-11-18T12:09:54.449Z"
   },
   {
    "duration": 46,
    "start_time": "2021-11-18T12:09:54.461Z"
   },
   {
    "duration": 23,
    "start_time": "2021-11-18T12:09:54.509Z"
   },
   {
    "duration": 19,
    "start_time": "2021-11-18T12:09:54.535Z"
   },
   {
    "duration": 46,
    "start_time": "2021-11-18T12:09:54.556Z"
   },
   {
    "duration": 7,
    "start_time": "2021-11-18T12:09:54.605Z"
   },
   {
    "duration": 8,
    "start_time": "2021-11-18T12:09:54.615Z"
   },
   {
    "duration": 6,
    "start_time": "2021-11-18T12:09:54.625Z"
   },
   {
    "duration": 14,
    "start_time": "2021-11-18T12:09:54.633Z"
   },
   {
    "duration": 12,
    "start_time": "2021-11-18T12:09:54.649Z"
   },
   {
    "duration": 39,
    "start_time": "2021-11-18T12:09:54.663Z"
   },
   {
    "duration": 11,
    "start_time": "2021-11-18T12:09:54.704Z"
   },
   {
    "duration": 6,
    "start_time": "2021-11-18T12:09:54.717Z"
   },
   {
    "duration": 26,
    "start_time": "2021-11-18T12:09:54.725Z"
   },
   {
    "duration": 58,
    "start_time": "2021-11-18T12:09:54.756Z"
   },
   {
    "duration": 9,
    "start_time": "2021-11-18T12:09:54.816Z"
   },
   {
    "duration": 10,
    "start_time": "2021-11-18T12:09:54.827Z"
   },
   {
    "duration": 15,
    "start_time": "2021-11-18T12:09:54.840Z"
   },
   {
    "duration": 66,
    "start_time": "2021-11-18T12:09:54.858Z"
   },
   {
    "duration": 27,
    "start_time": "2021-11-18T12:09:54.928Z"
   },
   {
    "duration": 53,
    "start_time": "2021-11-18T12:09:54.957Z"
   },
   {
    "duration": 8,
    "start_time": "2021-11-18T12:09:55.013Z"
   },
   {
    "duration": 979,
    "start_time": "2021-11-18T12:09:55.023Z"
   },
   {
    "duration": 4,
    "start_time": "2021-11-18T12:09:56.004Z"
   },
   {
    "duration": 14,
    "start_time": "2021-11-18T12:09:56.010Z"
   },
   {
    "duration": 10,
    "start_time": "2021-11-18T12:09:56.026Z"
   },
   {
    "duration": 24,
    "start_time": "2021-11-18T12:09:56.038Z"
   },
   {
    "duration": 35,
    "start_time": "2021-11-18T12:09:56.065Z"
   },
   {
    "duration": 14,
    "start_time": "2021-11-18T12:09:56.103Z"
   },
   {
    "duration": 16,
    "start_time": "2021-11-18T12:09:56.119Z"
   },
   {
    "duration": 14,
    "start_time": "2021-11-18T12:09:56.137Z"
   },
   {
    "duration": 49,
    "start_time": "2021-11-18T12:09:56.153Z"
   },
   {
    "duration": 9,
    "start_time": "2021-11-18T12:09:56.204Z"
   },
   {
    "duration": 15,
    "start_time": "2021-11-18T12:09:56.215Z"
   },
   {
    "duration": 6,
    "start_time": "2021-11-18T12:09:56.232Z"
   },
   {
    "duration": 32,
    "start_time": "2021-11-18T12:09:56.240Z"
   },
   {
    "duration": 820,
    "start_time": "2021-11-18T12:10:42.727Z"
   },
   {
    "duration": 15,
    "start_time": "2021-11-18T12:10:43.550Z"
   },
   {
    "duration": 40,
    "start_time": "2021-11-18T12:10:43.568Z"
   },
   {
    "duration": 17,
    "start_time": "2021-11-18T12:10:43.611Z"
   },
   {
    "duration": 12,
    "start_time": "2021-11-18T12:10:43.630Z"
   },
   {
    "duration": 19,
    "start_time": "2021-11-18T12:10:43.644Z"
   },
   {
    "duration": 56,
    "start_time": "2021-11-18T12:10:43.666Z"
   },
   {
    "duration": 21,
    "start_time": "2021-11-18T12:10:43.725Z"
   },
   {
    "duration": 7,
    "start_time": "2021-11-18T12:10:43.750Z"
   },
   {
    "duration": 46,
    "start_time": "2021-11-18T12:10:43.760Z"
   },
   {
    "duration": 8,
    "start_time": "2021-11-18T12:10:43.809Z"
   },
   {
    "duration": 19,
    "start_time": "2021-11-18T12:10:43.820Z"
   },
   {
    "duration": 19,
    "start_time": "2021-11-18T12:10:43.841Z"
   },
   {
    "duration": 40,
    "start_time": "2021-11-18T12:10:43.862Z"
   },
   {
    "duration": 22,
    "start_time": "2021-11-18T12:10:43.904Z"
   },
   {
    "duration": 28,
    "start_time": "2021-11-18T12:10:43.928Z"
   },
   {
    "duration": 15,
    "start_time": "2021-11-18T12:10:43.959Z"
   },
   {
    "duration": 30,
    "start_time": "2021-11-18T12:10:43.976Z"
   },
   {
    "duration": 18,
    "start_time": "2021-11-18T12:10:44.008Z"
   },
   {
    "duration": 31,
    "start_time": "2021-11-18T12:10:44.028Z"
   },
   {
    "duration": 23,
    "start_time": "2021-11-18T12:10:44.061Z"
   },
   {
    "duration": 18,
    "start_time": "2021-11-18T12:10:44.087Z"
   },
   {
    "duration": 24,
    "start_time": "2021-11-18T12:10:44.108Z"
   },
   {
    "duration": 27,
    "start_time": "2021-11-18T12:10:44.134Z"
   },
   {
    "duration": 15,
    "start_time": "2021-11-18T12:10:44.163Z"
   },
   {
    "duration": 47,
    "start_time": "2021-11-18T12:10:44.181Z"
   },
   {
    "duration": 31,
    "start_time": "2021-11-18T12:10:44.236Z"
   },
   {
    "duration": 7,
    "start_time": "2021-11-18T12:10:44.270Z"
   },
   {
    "duration": 32,
    "start_time": "2021-11-18T12:10:44.279Z"
   },
   {
    "duration": 25,
    "start_time": "2021-11-18T12:10:44.313Z"
   },
   {
    "duration": 25,
    "start_time": "2021-11-18T12:10:44.340Z"
   },
   {
    "duration": 40,
    "start_time": "2021-11-18T12:10:44.368Z"
   },
   {
    "duration": 24,
    "start_time": "2021-11-18T12:10:44.410Z"
   },
   {
    "duration": 8,
    "start_time": "2021-11-18T12:10:44.437Z"
   },
   {
    "duration": 970,
    "start_time": "2021-11-18T12:10:44.448Z"
   },
   {
    "duration": 3,
    "start_time": "2021-11-18T12:10:45.421Z"
   },
   {
    "duration": 9,
    "start_time": "2021-11-18T12:10:45.427Z"
   },
   {
    "duration": 12,
    "start_time": "2021-11-18T12:10:45.439Z"
   },
   {
    "duration": 19,
    "start_time": "2021-11-18T12:10:45.454Z"
   },
   {
    "duration": 14,
    "start_time": "2021-11-18T12:10:45.500Z"
   },
   {
    "duration": 15,
    "start_time": "2021-11-18T12:10:45.516Z"
   },
   {
    "duration": 18,
    "start_time": "2021-11-18T12:10:45.533Z"
   },
   {
    "duration": 49,
    "start_time": "2021-11-18T12:10:45.553Z"
   },
   {
    "duration": 9,
    "start_time": "2021-11-18T12:10:45.604Z"
   },
   {
    "duration": 9,
    "start_time": "2021-11-18T12:10:45.615Z"
   },
   {
    "duration": 11,
    "start_time": "2021-11-18T12:10:45.626Z"
   },
   {
    "duration": 4,
    "start_time": "2021-11-18T12:10:54.228Z"
   },
   {
    "duration": 14,
    "start_time": "2021-11-18T12:10:57.326Z"
   },
   {
    "duration": 5,
    "start_time": "2021-11-18T12:12:49.178Z"
   },
   {
    "duration": 11,
    "start_time": "2021-11-18T12:12:56.528Z"
   },
   {
    "duration": 432,
    "start_time": "2021-11-18T12:19:37.588Z"
   },
   {
    "duration": 307,
    "start_time": "2021-11-18T12:19:46.758Z"
   },
   {
    "duration": 9,
    "start_time": "2021-11-18T12:20:06.998Z"
   },
   {
    "duration": 9,
    "start_time": "2021-11-18T12:20:31.656Z"
   },
   {
    "duration": 316,
    "start_time": "2021-11-18T12:21:59.748Z"
   },
   {
    "duration": 6,
    "start_time": "2021-11-18T12:22:08.801Z"
   },
   {
    "duration": 6,
    "start_time": "2021-11-18T12:22:09.618Z"
   },
   {
    "duration": 6,
    "start_time": "2021-11-18T12:22:10.308Z"
   },
   {
    "duration": 9,
    "start_time": "2021-11-18T12:22:23.468Z"
   },
   {
    "duration": 10,
    "start_time": "2021-11-18T12:22:46.888Z"
   },
   {
    "duration": 9,
    "start_time": "2021-11-18T12:23:50.788Z"
   },
   {
    "duration": 10,
    "start_time": "2021-11-18T12:24:36.866Z"
   },
   {
    "duration": 11,
    "start_time": "2021-11-18T12:24:55.914Z"
   },
   {
    "duration": 15,
    "start_time": "2021-11-18T12:26:40.036Z"
   },
   {
    "duration": 5,
    "start_time": "2021-11-18T12:30:17.378Z"
   },
   {
    "duration": 13,
    "start_time": "2021-11-18T12:30:24.738Z"
   },
   {
    "duration": 621,
    "start_time": "2021-11-18T12:30:55.696Z"
   },
   {
    "duration": 5,
    "start_time": "2021-11-18T12:31:33.037Z"
   },
   {
    "duration": 14,
    "start_time": "2021-11-18T12:31:38.636Z"
   },
   {
    "duration": 12,
    "start_time": "2021-11-18T12:32:51.962Z"
   },
   {
    "duration": 6,
    "start_time": "2021-11-18T12:39:26.460Z"
   },
   {
    "duration": 304,
    "start_time": "2021-11-18T12:41:12.053Z"
   },
   {
    "duration": 114,
    "start_time": "2021-11-18T12:42:02.009Z"
   },
   {
    "duration": 105,
    "start_time": "2021-11-18T12:43:36.759Z"
   },
   {
    "duration": 406,
    "start_time": "2021-11-18T12:54:36.009Z"
   },
   {
    "duration": 21,
    "start_time": "2021-11-18T12:55:02.839Z"
   },
   {
    "duration": 14,
    "start_time": "2021-11-18T12:55:12.541Z"
   },
   {
    "duration": 6,
    "start_time": "2021-11-18T12:56:13.229Z"
   },
   {
    "duration": 6,
    "start_time": "2021-11-18T12:56:16.168Z"
   },
   {
    "duration": 6,
    "start_time": "2021-11-18T12:56:25.261Z"
   },
   {
    "duration": 8,
    "start_time": "2021-11-18T12:56:28.149Z"
   },
   {
    "duration": 8,
    "start_time": "2021-11-18T12:57:37.253Z"
   },
   {
    "duration": 7,
    "start_time": "2021-11-18T12:57:38.399Z"
   },
   {
    "duration": 8,
    "start_time": "2021-11-18T12:57:49.609Z"
   },
   {
    "duration": 6,
    "start_time": "2021-11-18T12:57:52.759Z"
   },
   {
    "duration": 527,
    "start_time": "2021-11-18T13:11:40.479Z"
   },
   {
    "duration": 4,
    "start_time": "2021-11-18T13:11:46.492Z"
   },
   {
    "duration": 1217,
    "start_time": "2021-11-18T13:11:49.352Z"
   },
   {
    "duration": 1223,
    "start_time": "2021-11-18T13:12:02.739Z"
   },
   {
    "duration": 15,
    "start_time": "2021-11-18T13:12:25.848Z"
   },
   {
    "duration": 14,
    "start_time": "2021-11-18T13:13:02.687Z"
   },
   {
    "duration": 25,
    "start_time": "2021-11-18T13:13:20.467Z"
   },
   {
    "duration": 27,
    "start_time": "2021-11-18T13:13:47.988Z"
   },
   {
    "duration": 10,
    "start_time": "2021-11-18T13:14:05.009Z"
   },
   {
    "duration": 13,
    "start_time": "2021-11-18T13:14:21.019Z"
   },
   {
    "duration": 9,
    "start_time": "2021-11-18T13:15:36.890Z"
   },
   {
    "duration": 8,
    "start_time": "2021-11-18T13:15:37.889Z"
   },
   {
    "duration": 5,
    "start_time": "2021-11-18T13:16:19.329Z"
   },
   {
    "duration": 10,
    "start_time": "2021-11-18T13:16:35.609Z"
   },
   {
    "duration": 9,
    "start_time": "2021-11-18T13:17:03.668Z"
   },
   {
    "duration": 851,
    "start_time": "2021-11-18T13:20:32.925Z"
   },
   {
    "duration": 14,
    "start_time": "2021-11-18T13:20:33.779Z"
   },
   {
    "duration": 26,
    "start_time": "2021-11-18T13:20:33.797Z"
   },
   {
    "duration": 15,
    "start_time": "2021-11-18T13:20:33.827Z"
   },
   {
    "duration": 12,
    "start_time": "2021-11-18T13:20:33.844Z"
   },
   {
    "duration": 52,
    "start_time": "2021-11-18T13:20:33.859Z"
   },
   {
    "duration": 28,
    "start_time": "2021-11-18T13:20:33.914Z"
   },
   {
    "duration": 20,
    "start_time": "2021-11-18T13:20:33.945Z"
   },
   {
    "duration": 5,
    "start_time": "2021-11-18T13:20:33.968Z"
   },
   {
    "duration": 16,
    "start_time": "2021-11-18T13:20:34.002Z"
   },
   {
    "duration": 14,
    "start_time": "2021-11-18T13:20:34.020Z"
   },
   {
    "duration": 25,
    "start_time": "2021-11-18T13:20:34.036Z"
   },
   {
    "duration": 12,
    "start_time": "2021-11-18T13:20:34.063Z"
   },
   {
    "duration": 39,
    "start_time": "2021-11-18T13:20:34.077Z"
   },
   {
    "duration": 22,
    "start_time": "2021-11-18T13:20:34.118Z"
   },
   {
    "duration": 20,
    "start_time": "2021-11-18T13:20:34.142Z"
   },
   {
    "duration": 41,
    "start_time": "2021-11-18T13:20:34.166Z"
   },
   {
    "duration": 10,
    "start_time": "2021-11-18T13:20:34.210Z"
   },
   {
    "duration": 8,
    "start_time": "2021-11-18T13:20:34.223Z"
   },
   {
    "duration": 10,
    "start_time": "2021-11-18T13:20:34.233Z"
   },
   {
    "duration": 55,
    "start_time": "2021-11-18T13:20:34.246Z"
   },
   {
    "duration": 9,
    "start_time": "2021-11-18T13:20:34.304Z"
   },
   {
    "duration": 7,
    "start_time": "2021-11-18T13:20:34.316Z"
   },
   {
    "duration": 13,
    "start_time": "2021-11-18T13:20:34.326Z"
   },
   {
    "duration": 7,
    "start_time": "2021-11-18T13:20:34.342Z"
   },
   {
    "duration": 22,
    "start_time": "2021-11-18T13:20:34.400Z"
   },
   {
    "duration": 29,
    "start_time": "2021-11-18T13:20:34.428Z"
   },
   {
    "duration": 10,
    "start_time": "2021-11-18T13:20:34.460Z"
   },
   {
    "duration": 8,
    "start_time": "2021-11-18T13:20:34.501Z"
   },
   {
    "duration": 19,
    "start_time": "2021-11-18T13:20:34.511Z"
   },
   {
    "duration": 26,
    "start_time": "2021-11-18T13:20:34.532Z"
   },
   {
    "duration": 56,
    "start_time": "2021-11-18T13:20:34.560Z"
   },
   {
    "duration": 24,
    "start_time": "2021-11-18T13:20:34.619Z"
   },
   {
    "duration": 8,
    "start_time": "2021-11-18T13:20:34.646Z"
   },
   {
    "duration": 991,
    "start_time": "2021-11-18T13:20:34.656Z"
   },
   {
    "duration": 3,
    "start_time": "2021-11-18T13:20:35.650Z"
   },
   {
    "duration": 8,
    "start_time": "2021-11-18T13:20:35.655Z"
   },
   {
    "duration": 13,
    "start_time": "2021-11-18T13:20:35.666Z"
   },
   {
    "duration": 37,
    "start_time": "2021-11-18T13:20:35.681Z"
   },
   {
    "duration": 16,
    "start_time": "2021-11-18T13:20:35.721Z"
   },
   {
    "duration": 15,
    "start_time": "2021-11-18T13:20:35.739Z"
   },
   {
    "duration": 52,
    "start_time": "2021-11-18T13:20:35.756Z"
   },
   {
    "duration": 14,
    "start_time": "2021-11-18T13:20:35.811Z"
   },
   {
    "duration": 8,
    "start_time": "2021-11-18T13:20:35.828Z"
   },
   {
    "duration": 12,
    "start_time": "2021-11-18T13:20:35.838Z"
   },
   {
    "duration": 49,
    "start_time": "2021-11-18T13:20:35.853Z"
   },
   {
    "duration": 19,
    "start_time": "2021-11-18T13:20:35.904Z"
   },
   {
    "duration": 21,
    "start_time": "2021-11-18T13:20:35.925Z"
   },
   {
    "duration": 21,
    "start_time": "2021-11-18T13:20:35.948Z"
   },
   {
    "duration": 15,
    "start_time": "2021-11-18T13:20:35.971Z"
   },
   {
    "duration": 15,
    "start_time": "2021-11-18T13:20:35.989Z"
   },
   {
    "duration": 14,
    "start_time": "2021-11-18T13:20:36.006Z"
   },
   {
    "duration": 8,
    "start_time": "2021-11-18T13:20:36.022Z"
   },
   {
    "duration": 19,
    "start_time": "2021-11-18T13:20:36.032Z"
   },
   {
    "duration": 23,
    "start_time": "2021-11-18T13:20:36.053Z"
   },
   {
    "duration": 20,
    "start_time": "2021-11-18T13:20:36.078Z"
   },
   {
    "duration": 17,
    "start_time": "2021-11-18T13:20:36.100Z"
   },
   {
    "duration": 25,
    "start_time": "2021-11-18T13:20:36.119Z"
   },
   {
    "duration": 15,
    "start_time": "2021-11-18T13:20:36.146Z"
   },
   {
    "duration": 15,
    "start_time": "2021-11-18T13:20:36.163Z"
   },
   {
    "duration": 29,
    "start_time": "2021-11-18T13:20:36.180Z"
   },
   {
    "duration": 26,
    "start_time": "2021-11-18T13:20:36.211Z"
   },
   {
    "duration": 13,
    "start_time": "2021-11-18T13:20:36.240Z"
   },
   {
    "duration": 11,
    "start_time": "2021-11-18T13:20:36.255Z"
   },
   {
    "duration": 7,
    "start_time": "2021-11-18T13:20:36.268Z"
   },
   {
    "duration": 6695,
    "start_time": "2021-11-18T14:04:16.453Z"
   },
   {
    "duration": 908,
    "start_time": "2021-11-18T14:04:54.512Z"
   },
   {
    "duration": 17,
    "start_time": "2021-11-18T14:04:55.422Z"
   },
   {
    "duration": 27,
    "start_time": "2021-11-18T14:04:55.442Z"
   },
   {
    "duration": 41,
    "start_time": "2021-11-18T14:04:55.472Z"
   },
   {
    "duration": 11,
    "start_time": "2021-11-18T14:04:55.516Z"
   },
   {
    "duration": 12,
    "start_time": "2021-11-18T14:04:55.530Z"
   },
   {
    "duration": 62,
    "start_time": "2021-11-18T14:04:55.545Z"
   },
   {
    "duration": 25,
    "start_time": "2021-11-18T14:04:55.610Z"
   },
   {
    "duration": 7,
    "start_time": "2021-11-18T14:04:55.640Z"
   },
   {
    "duration": 61,
    "start_time": "2021-11-18T14:04:55.651Z"
   },
   {
    "duration": 4,
    "start_time": "2021-11-18T14:04:55.716Z"
   },
   {
    "duration": 19,
    "start_time": "2021-11-18T14:04:55.723Z"
   },
   {
    "duration": 9,
    "start_time": "2021-11-18T14:04:55.746Z"
   },
   {
    "duration": 60,
    "start_time": "2021-11-18T14:04:55.758Z"
   },
   {
    "duration": 25,
    "start_time": "2021-11-18T14:04:55.820Z"
   },
   {
    "duration": 18,
    "start_time": "2021-11-18T14:04:55.847Z"
   },
   {
    "duration": 39,
    "start_time": "2021-11-18T14:04:55.868Z"
   },
   {
    "duration": 14,
    "start_time": "2021-11-18T14:04:55.912Z"
   },
   {
    "duration": 8,
    "start_time": "2021-11-18T14:04:55.929Z"
   },
   {
    "duration": 7,
    "start_time": "2021-11-18T14:04:55.940Z"
   },
   {
    "duration": 9,
    "start_time": "2021-11-18T14:04:55.950Z"
   },
   {
    "duration": 10,
    "start_time": "2021-11-18T14:04:56.003Z"
   },
   {
    "duration": 6,
    "start_time": "2021-11-18T14:04:56.016Z"
   },
   {
    "duration": 15,
    "start_time": "2021-11-18T14:04:56.024Z"
   },
   {
    "duration": 6,
    "start_time": "2021-11-18T14:04:56.041Z"
   },
   {
    "duration": 81,
    "start_time": "2021-11-18T14:04:56.049Z"
   },
   {
    "duration": 23,
    "start_time": "2021-11-18T14:04:56.136Z"
   },
   {
    "duration": 8,
    "start_time": "2021-11-18T14:04:56.162Z"
   },
   {
    "duration": 34,
    "start_time": "2021-11-18T14:04:56.172Z"
   },
   {
    "duration": 18,
    "start_time": "2021-11-18T14:04:56.210Z"
   },
   {
    "duration": 24,
    "start_time": "2021-11-18T14:04:56.230Z"
   },
   {
    "duration": 70,
    "start_time": "2021-11-18T14:04:56.257Z"
   },
   {
    "duration": 24,
    "start_time": "2021-11-18T14:04:56.329Z"
   },
   {
    "duration": 7,
    "start_time": "2021-11-18T14:04:56.356Z"
   },
   {
    "duration": 1004,
    "start_time": "2021-11-18T14:04:56.366Z"
   },
   {
    "duration": 4,
    "start_time": "2021-11-18T14:04:57.372Z"
   },
   {
    "duration": 22,
    "start_time": "2021-11-18T14:04:57.379Z"
   },
   {
    "duration": 21,
    "start_time": "2021-11-18T14:04:57.404Z"
   },
   {
    "duration": 20,
    "start_time": "2021-11-18T14:04:57.428Z"
   },
   {
    "duration": 15,
    "start_time": "2021-11-18T14:04:57.450Z"
   },
   {
    "duration": 13,
    "start_time": "2021-11-18T14:04:57.468Z"
   },
   {
    "duration": 22,
    "start_time": "2021-11-18T14:04:57.502Z"
   },
   {
    "duration": 15,
    "start_time": "2021-11-18T14:04:57.526Z"
   },
   {
    "duration": 9,
    "start_time": "2021-11-18T14:04:57.543Z"
   },
   {
    "duration": 53,
    "start_time": "2021-11-18T14:04:57.554Z"
   },
   {
    "duration": 15,
    "start_time": "2021-11-18T14:04:57.612Z"
   },
   {
    "duration": 6,
    "start_time": "2021-11-18T14:04:57.629Z"
   },
   {
    "duration": 21,
    "start_time": "2021-11-18T14:04:57.637Z"
   },
   {
    "duration": 40,
    "start_time": "2021-11-18T14:04:57.660Z"
   },
   {
    "duration": 8,
    "start_time": "2021-11-18T14:04:57.704Z"
   },
   {
    "duration": 26,
    "start_time": "2021-11-18T14:04:57.716Z"
   },
   {
    "duration": 8,
    "start_time": "2021-11-18T14:04:57.745Z"
   },
   {
    "duration": 8,
    "start_time": "2021-11-18T14:04:57.755Z"
   },
   {
    "duration": 45,
    "start_time": "2021-11-18T14:04:57.766Z"
   },
   {
    "duration": 20,
    "start_time": "2021-11-18T14:04:57.815Z"
   },
   {
    "duration": 21,
    "start_time": "2021-11-18T14:04:57.837Z"
   },
   {
    "duration": 21,
    "start_time": "2021-11-18T14:04:57.861Z"
   },
   {
    "duration": 32,
    "start_time": "2021-11-18T14:04:57.885Z"
   },
   {
    "duration": 10,
    "start_time": "2021-11-18T14:04:57.920Z"
   },
   {
    "duration": 10,
    "start_time": "2021-11-18T14:04:57.932Z"
   },
   {
    "duration": 11,
    "start_time": "2021-11-18T14:04:57.944Z"
   },
   {
    "duration": 52,
    "start_time": "2021-11-18T14:04:57.957Z"
   },
   {
    "duration": 10,
    "start_time": "2021-11-18T14:04:58.012Z"
   },
   {
    "duration": 8,
    "start_time": "2021-11-18T14:04:58.025Z"
   },
   {
    "duration": 10,
    "start_time": "2021-11-18T14:04:58.035Z"
   },
   {
    "duration": 15,
    "start_time": "2021-11-18T14:04:58.047Z"
   },
   {
    "duration": 13,
    "start_time": "2021-11-18T14:06:31.919Z"
   },
   {
    "duration": 8,
    "start_time": "2021-11-18T14:08:15.727Z"
   },
   {
    "duration": 6,
    "start_time": "2021-11-18T14:08:53.625Z"
   },
   {
    "duration": 9,
    "start_time": "2021-11-18T14:09:41.068Z"
   },
   {
    "duration": 6,
    "start_time": "2021-11-18T14:10:33.906Z"
   },
   {
    "duration": 20,
    "start_time": "2021-11-18T14:10:58.536Z"
   },
   {
    "duration": 10,
    "start_time": "2021-11-18T14:11:14.207Z"
   },
   {
    "duration": 15,
    "start_time": "2021-11-18T14:13:34.678Z"
   },
   {
    "duration": 5,
    "start_time": "2021-11-18T14:21:12.096Z"
   },
   {
    "duration": 7,
    "start_time": "2021-11-18T14:22:35.650Z"
   },
   {
    "duration": 107,
    "start_time": "2021-11-18T14:23:16.290Z"
   },
   {
    "duration": 99,
    "start_time": "2021-11-18T14:25:22.889Z"
   },
   {
    "duration": 6,
    "start_time": "2021-11-18T14:36:24.857Z"
   },
   {
    "duration": 4,
    "start_time": "2021-11-18T14:49:13.871Z"
   },
   {
    "duration": 443,
    "start_time": "2021-11-18T15:02:18.679Z"
   },
   {
    "duration": 5,
    "start_time": "2021-11-18T15:02:24.479Z"
   },
   {
    "duration": 3675,
    "start_time": "2021-11-18T15:02:26.900Z"
   },
   {
    "duration": 4,
    "start_time": "2021-11-18T15:03:22.770Z"
   },
   {
    "duration": 5,
    "start_time": "2021-11-18T15:04:05.140Z"
   },
   {
    "duration": 5,
    "start_time": "2021-11-18T15:04:25.010Z"
   },
   {
    "duration": 6,
    "start_time": "2021-11-18T15:04:28.060Z"
   },
   {
    "duration": 5,
    "start_time": "2021-11-18T15:04:59.540Z"
   },
   {
    "duration": 6,
    "start_time": "2021-11-18T15:05:00.300Z"
   },
   {
    "duration": 12315,
    "start_time": "2021-11-18T15:05:05.809Z"
   },
   {
    "duration": 12258,
    "start_time": "2021-11-18T15:05:23.761Z"
   },
   {
    "duration": 6,
    "start_time": "2021-11-18T15:05:39.022Z"
   },
   {
    "duration": 861,
    "start_time": "2021-11-18T15:05:58.900Z"
   },
   {
    "duration": 15,
    "start_time": "2021-11-18T15:05:59.764Z"
   },
   {
    "duration": 37,
    "start_time": "2021-11-18T15:05:59.782Z"
   },
   {
    "duration": 12,
    "start_time": "2021-11-18T15:05:59.822Z"
   },
   {
    "duration": 10,
    "start_time": "2021-11-18T15:05:59.836Z"
   },
   {
    "duration": 11,
    "start_time": "2021-11-18T15:05:59.850Z"
   },
   {
    "duration": 57,
    "start_time": "2021-11-18T15:05:59.863Z"
   },
   {
    "duration": 20,
    "start_time": "2021-11-18T15:05:59.922Z"
   },
   {
    "duration": 6,
    "start_time": "2021-11-18T15:05:59.946Z"
   },
   {
    "duration": 57,
    "start_time": "2021-11-18T15:05:59.955Z"
   },
   {
    "duration": 18,
    "start_time": "2021-11-18T15:06:00.015Z"
   },
   {
    "duration": 29,
    "start_time": "2021-11-18T15:06:00.035Z"
   },
   {
    "duration": 35,
    "start_time": "2021-11-18T15:06:00.066Z"
   },
   {
    "duration": 36,
    "start_time": "2021-11-18T15:06:00.104Z"
   },
   {
    "duration": 24,
    "start_time": "2021-11-18T15:06:00.142Z"
   },
   {
    "duration": 18,
    "start_time": "2021-11-18T15:06:00.169Z"
   },
   {
    "duration": 20,
    "start_time": "2021-11-18T15:06:00.189Z"
   },
   {
    "duration": 34,
    "start_time": "2021-11-18T15:06:00.211Z"
   },
   {
    "duration": 20,
    "start_time": "2021-11-18T15:06:00.247Z"
   },
   {
    "duration": 25,
    "start_time": "2021-11-18T15:06:00.269Z"
   },
   {
    "duration": 37,
    "start_time": "2021-11-18T15:06:00.297Z"
   },
   {
    "duration": 21,
    "start_time": "2021-11-18T15:06:00.337Z"
   },
   {
    "duration": 14,
    "start_time": "2021-11-18T15:06:00.360Z"
   },
   {
    "duration": 21,
    "start_time": "2021-11-18T15:06:00.376Z"
   },
   {
    "duration": 29,
    "start_time": "2021-11-18T15:06:00.399Z"
   },
   {
    "duration": 39,
    "start_time": "2021-11-18T15:06:00.430Z"
   },
   {
    "duration": 35,
    "start_time": "2021-11-18T15:06:00.475Z"
   },
   {
    "duration": 17,
    "start_time": "2021-11-18T15:06:00.514Z"
   },
   {
    "duration": 31,
    "start_time": "2021-11-18T15:06:00.534Z"
   },
   {
    "duration": 18,
    "start_time": "2021-11-18T15:06:00.567Z"
   },
   {
    "duration": 29,
    "start_time": "2021-11-18T15:06:00.587Z"
   },
   {
    "duration": 29,
    "start_time": "2021-11-18T15:06:00.619Z"
   },
   {
    "duration": 24,
    "start_time": "2021-11-18T15:06:00.650Z"
   },
   {
    "duration": 8,
    "start_time": "2021-11-18T15:06:00.701Z"
   },
   {
    "duration": 960,
    "start_time": "2021-11-18T15:06:00.712Z"
   },
   {
    "duration": 3,
    "start_time": "2021-11-18T15:06:01.675Z"
   },
   {
    "duration": 21,
    "start_time": "2021-11-18T15:06:01.681Z"
   },
   {
    "duration": 28,
    "start_time": "2021-11-18T15:06:01.704Z"
   },
   {
    "duration": 49,
    "start_time": "2021-11-18T15:06:01.735Z"
   },
   {
    "duration": 32,
    "start_time": "2021-11-18T15:06:01.786Z"
   },
   {
    "duration": 18,
    "start_time": "2021-11-18T15:06:01.821Z"
   },
   {
    "duration": 68,
    "start_time": "2021-11-18T15:06:01.842Z"
   },
   {
    "duration": 73,
    "start_time": "2021-11-18T15:06:01.913Z"
   },
   {
    "duration": 38,
    "start_time": "2021-11-18T15:06:01.989Z"
   },
   {
    "duration": 49,
    "start_time": "2021-11-18T15:06:02.030Z"
   },
   {
    "duration": 63,
    "start_time": "2021-11-18T15:06:02.082Z"
   },
   {
    "duration": 55,
    "start_time": "2021-11-18T15:06:02.147Z"
   },
   {
    "duration": 31,
    "start_time": "2021-11-18T15:06:02.205Z"
   },
   {
    "duration": 11,
    "start_time": "2021-11-18T15:06:02.239Z"
   },
   {
    "duration": 34,
    "start_time": "2021-11-18T15:06:02.252Z"
   },
   {
    "duration": 28,
    "start_time": "2021-11-18T15:06:02.288Z"
   },
   {
    "duration": 23,
    "start_time": "2021-11-18T15:06:02.318Z"
   },
   {
    "duration": 23,
    "start_time": "2021-11-18T15:06:02.343Z"
   },
   {
    "duration": 17,
    "start_time": "2021-11-18T15:06:02.369Z"
   },
   {
    "duration": 26,
    "start_time": "2021-11-18T15:06:02.389Z"
   },
   {
    "duration": 31,
    "start_time": "2021-11-18T15:06:02.418Z"
   },
   {
    "duration": 15,
    "start_time": "2021-11-18T15:06:02.451Z"
   },
   {
    "duration": 25,
    "start_time": "2021-11-18T15:06:02.469Z"
   },
   {
    "duration": 13,
    "start_time": "2021-11-18T15:06:02.496Z"
   },
   {
    "duration": 12,
    "start_time": "2021-11-18T15:06:02.511Z"
   },
   {
    "duration": 8,
    "start_time": "2021-11-18T15:06:02.525Z"
   },
   {
    "duration": 33,
    "start_time": "2021-11-18T15:06:02.535Z"
   },
   {
    "duration": 23,
    "start_time": "2021-11-18T15:06:02.571Z"
   },
   {
    "duration": 15,
    "start_time": "2021-11-18T15:06:02.596Z"
   },
   {
    "duration": 21,
    "start_time": "2021-11-18T15:06:02.614Z"
   },
   {
    "duration": 26,
    "start_time": "2021-11-18T15:06:02.637Z"
   },
   {
    "duration": 34,
    "start_time": "2021-11-18T15:06:02.666Z"
   },
   {
    "duration": 35,
    "start_time": "2021-11-18T15:06:02.702Z"
   },
   {
    "duration": 30,
    "start_time": "2021-11-18T15:06:02.740Z"
   },
   {
    "duration": 20,
    "start_time": "2021-11-18T15:06:02.773Z"
   },
   {
    "duration": 12185,
    "start_time": "2021-11-18T15:06:17.883Z"
   },
   {
    "duration": 372,
    "start_time": "2021-11-18T15:07:28.169Z"
   },
   {
    "duration": 881,
    "start_time": "2021-11-18T15:07:36.963Z"
   },
   {
    "duration": 14,
    "start_time": "2021-11-18T15:07:37.847Z"
   },
   {
    "duration": 49,
    "start_time": "2021-11-18T15:07:37.865Z"
   },
   {
    "duration": 14,
    "start_time": "2021-11-18T15:07:37.916Z"
   },
   {
    "duration": 10,
    "start_time": "2021-11-18T15:07:37.933Z"
   },
   {
    "duration": 22,
    "start_time": "2021-11-18T15:07:37.946Z"
   },
   {
    "duration": 52,
    "start_time": "2021-11-18T15:07:37.970Z"
   },
   {
    "duration": 21,
    "start_time": "2021-11-18T15:07:38.025Z"
   },
   {
    "duration": 6,
    "start_time": "2021-11-18T15:07:38.049Z"
   },
   {
    "duration": 48,
    "start_time": "2021-11-18T15:07:38.058Z"
   },
   {
    "duration": 9,
    "start_time": "2021-11-18T15:07:38.108Z"
   },
   {
    "duration": 19,
    "start_time": "2021-11-18T15:07:38.120Z"
   },
   {
    "duration": 11,
    "start_time": "2021-11-18T15:07:38.142Z"
   },
   {
    "duration": 48,
    "start_time": "2021-11-18T15:07:38.156Z"
   },
   {
    "duration": 23,
    "start_time": "2021-11-18T15:07:38.206Z"
   },
   {
    "duration": 19,
    "start_time": "2021-11-18T15:07:38.231Z"
   },
   {
    "duration": 11,
    "start_time": "2021-11-18T15:07:38.253Z"
   },
   {
    "duration": 9,
    "start_time": "2021-11-18T15:07:38.299Z"
   },
   {
    "duration": 8,
    "start_time": "2021-11-18T15:07:38.311Z"
   },
   {
    "duration": 12,
    "start_time": "2021-11-18T15:07:38.321Z"
   },
   {
    "duration": 9,
    "start_time": "2021-11-18T15:07:38.336Z"
   },
   {
    "duration": 8,
    "start_time": "2021-11-18T15:07:38.347Z"
   },
   {
    "duration": 47,
    "start_time": "2021-11-18T15:07:38.357Z"
   },
   {
    "duration": 21,
    "start_time": "2021-11-18T15:07:38.407Z"
   },
   {
    "duration": 6,
    "start_time": "2021-11-18T15:07:38.431Z"
   },
   {
    "duration": 34,
    "start_time": "2021-11-18T15:07:38.439Z"
   },
   {
    "duration": 25,
    "start_time": "2021-11-18T15:07:38.501Z"
   },
   {
    "duration": 10,
    "start_time": "2021-11-18T15:07:38.529Z"
   },
   {
    "duration": 12,
    "start_time": "2021-11-18T15:07:38.542Z"
   },
   {
    "duration": 49,
    "start_time": "2021-11-18T15:07:38.557Z"
   },
   {
    "duration": 24,
    "start_time": "2021-11-18T15:07:38.609Z"
   },
   {
    "duration": 28,
    "start_time": "2021-11-18T15:07:38.636Z"
   },
   {
    "duration": 56,
    "start_time": "2021-11-18T15:07:38.666Z"
   },
   {
    "duration": 8,
    "start_time": "2021-11-18T15:07:38.724Z"
   },
   {
    "duration": 982,
    "start_time": "2021-11-18T15:07:38.734Z"
   },
   {
    "duration": 4,
    "start_time": "2021-11-18T15:07:39.719Z"
   },
   {
    "duration": 7,
    "start_time": "2021-11-18T15:07:39.725Z"
   },
   {
    "duration": 15,
    "start_time": "2021-11-18T15:07:39.734Z"
   },
   {
    "duration": 22,
    "start_time": "2021-11-18T15:07:39.752Z"
   },
   {
    "duration": 36,
    "start_time": "2021-11-18T15:07:39.777Z"
   },
   {
    "duration": 31,
    "start_time": "2021-11-18T15:07:39.815Z"
   },
   {
    "duration": 19,
    "start_time": "2021-11-18T15:07:39.848Z"
   },
   {
    "duration": 36,
    "start_time": "2021-11-18T15:07:39.870Z"
   },
   {
    "duration": 8,
    "start_time": "2021-11-18T15:07:39.908Z"
   },
   {
    "duration": 13,
    "start_time": "2021-11-18T15:07:39.919Z"
   },
   {
    "duration": 14,
    "start_time": "2021-11-18T15:07:39.935Z"
   },
   {
    "duration": 7,
    "start_time": "2021-11-18T15:07:39.952Z"
   },
   {
    "duration": 49,
    "start_time": "2021-11-18T15:07:39.961Z"
   },
   {
    "duration": 32,
    "start_time": "2021-11-18T15:07:40.012Z"
   },
   {
    "duration": 20,
    "start_time": "2021-11-18T15:07:40.047Z"
   },
   {
    "duration": 31,
    "start_time": "2021-11-18T15:07:40.069Z"
   },
   {
    "duration": 23,
    "start_time": "2021-11-18T15:07:40.102Z"
   },
   {
    "duration": 14,
    "start_time": "2021-11-18T15:07:40.128Z"
   },
   {
    "duration": 20,
    "start_time": "2021-11-18T15:07:40.145Z"
   },
   {
    "duration": 21,
    "start_time": "2021-11-18T15:07:40.168Z"
   },
   {
    "duration": 18,
    "start_time": "2021-11-18T15:07:40.191Z"
   },
   {
    "duration": 21,
    "start_time": "2021-11-18T15:07:40.211Z"
   },
   {
    "duration": 21,
    "start_time": "2021-11-18T15:07:40.235Z"
   },
   {
    "duration": 32,
    "start_time": "2021-11-18T15:07:40.258Z"
   },
   {
    "duration": 43,
    "start_time": "2021-11-18T15:07:40.293Z"
   },
   {
    "duration": 6,
    "start_time": "2021-11-18T15:07:40.338Z"
   },
   {
    "duration": 19,
    "start_time": "2021-11-18T15:07:40.346Z"
   },
   {
    "duration": 10,
    "start_time": "2021-11-18T15:07:40.368Z"
   },
   {
    "duration": 8,
    "start_time": "2021-11-18T15:07:40.380Z"
   },
   {
    "duration": 10,
    "start_time": "2021-11-18T15:07:40.390Z"
   },
   {
    "duration": 13,
    "start_time": "2021-11-18T15:07:40.403Z"
   },
   {
    "duration": 17,
    "start_time": "2021-11-18T15:07:40.418Z"
   },
   {
    "duration": 12,
    "start_time": "2021-11-18T15:07:40.438Z"
   },
   {
    "duration": 10,
    "start_time": "2021-11-18T15:07:40.452Z"
   },
   {
    "duration": 12,
    "start_time": "2021-11-18T15:07:40.465Z"
   },
   {
    "duration": 16,
    "start_time": "2021-11-18T15:07:52.439Z"
   },
   {
    "duration": 12669,
    "start_time": "2021-11-18T15:09:13.356Z"
   },
   {
    "duration": 3,
    "start_time": "2021-11-18T15:09:26.028Z"
   },
   {
    "duration": 3935,
    "start_time": "2021-11-18T15:09:30.079Z"
   },
   {
    "duration": 3671,
    "start_time": "2021-11-18T15:09:41.669Z"
   },
   {
    "duration": 3691,
    "start_time": "2021-11-18T15:10:26.611Z"
   },
   {
    "duration": 3646,
    "start_time": "2021-11-18T15:10:51.538Z"
   },
   {
    "duration": 18,
    "start_time": "2021-11-18T15:15:19.436Z"
   },
   {
    "duration": 20,
    "start_time": "2021-11-18T15:16:19.390Z"
   },
   {
    "duration": 21,
    "start_time": "2021-11-18T15:16:26.888Z"
   },
   {
    "duration": 20,
    "start_time": "2021-11-18T15:16:36.160Z"
   },
   {
    "duration": 22,
    "start_time": "2021-11-18T15:16:41.140Z"
   },
   {
    "duration": 20,
    "start_time": "2021-11-18T15:17:04.629Z"
   },
   {
    "duration": 7,
    "start_time": "2021-11-18T15:19:55.989Z"
   },
   {
    "duration": 9,
    "start_time": "2021-11-18T15:20:35.120Z"
   },
   {
    "duration": 13,
    "start_time": "2021-11-18T15:20:43.491Z"
   },
   {
    "duration": 4,
    "start_time": "2021-11-18T15:24:02.638Z"
   },
   {
    "duration": 557,
    "start_time": "2021-11-19T05:37:26.635Z"
   },
   {
    "duration": 10,
    "start_time": "2021-11-19T05:37:27.194Z"
   },
   {
    "duration": 16,
    "start_time": "2021-11-19T05:37:27.206Z"
   },
   {
    "duration": 8,
    "start_time": "2021-11-19T05:37:27.224Z"
   },
   {
    "duration": 7,
    "start_time": "2021-11-19T05:37:27.233Z"
   },
   {
    "duration": 10,
    "start_time": "2021-11-19T05:37:27.241Z"
   },
   {
    "duration": 40,
    "start_time": "2021-11-19T05:37:27.252Z"
   },
   {
    "duration": 11,
    "start_time": "2021-11-19T05:37:27.294Z"
   },
   {
    "duration": 4,
    "start_time": "2021-11-19T05:37:27.306Z"
   },
   {
    "duration": 15,
    "start_time": "2021-11-19T05:37:27.312Z"
   },
   {
    "duration": 2,
    "start_time": "2021-11-19T05:37:27.329Z"
   },
   {
    "duration": 21,
    "start_time": "2021-11-19T05:37:27.333Z"
   },
   {
    "duration": 13,
    "start_time": "2021-11-19T05:37:27.355Z"
   },
   {
    "duration": 14,
    "start_time": "2021-11-19T05:37:27.370Z"
   },
   {
    "duration": 13,
    "start_time": "2021-11-19T05:37:27.387Z"
   },
   {
    "duration": 32,
    "start_time": "2021-11-19T05:37:27.401Z"
   },
   {
    "duration": 15,
    "start_time": "2021-11-19T05:37:27.434Z"
   },
   {
    "duration": 22,
    "start_time": "2021-11-19T05:37:27.451Z"
   },
   {
    "duration": 4,
    "start_time": "2021-11-19T05:37:27.475Z"
   },
   {
    "duration": 18,
    "start_time": "2021-11-19T05:37:27.480Z"
   },
   {
    "duration": 8,
    "start_time": "2021-11-19T05:37:27.500Z"
   },
   {
    "duration": 18,
    "start_time": "2021-11-19T05:37:27.509Z"
   },
   {
    "duration": 11,
    "start_time": "2021-11-19T05:37:27.530Z"
   },
   {
    "duration": 12,
    "start_time": "2021-11-19T05:37:27.543Z"
   },
   {
    "duration": 23,
    "start_time": "2021-11-19T05:37:27.556Z"
   },
   {
    "duration": 24,
    "start_time": "2021-11-19T05:37:27.581Z"
   },
   {
    "duration": 26,
    "start_time": "2021-11-19T05:37:27.606Z"
   },
   {
    "duration": 12,
    "start_time": "2021-11-19T05:37:27.633Z"
   },
   {
    "duration": 22,
    "start_time": "2021-11-19T05:37:27.646Z"
   },
   {
    "duration": 22,
    "start_time": "2021-11-19T05:37:27.669Z"
   },
   {
    "duration": 21,
    "start_time": "2021-11-19T05:37:27.692Z"
   },
   {
    "duration": 17,
    "start_time": "2021-11-19T05:37:27.714Z"
   },
   {
    "duration": 13,
    "start_time": "2021-11-19T05:37:27.732Z"
   },
   {
    "duration": 21,
    "start_time": "2021-11-19T05:37:27.746Z"
   },
   {
    "duration": 594,
    "start_time": "2021-11-19T05:37:27.768Z"
   },
   {
    "duration": 2,
    "start_time": "2021-11-19T05:37:28.363Z"
   },
   {
    "duration": 23,
    "start_time": "2021-11-19T05:37:28.367Z"
   },
   {
    "duration": 21,
    "start_time": "2021-11-19T05:37:28.391Z"
   },
   {
    "duration": 38,
    "start_time": "2021-11-19T05:37:28.414Z"
   },
   {
    "duration": 22,
    "start_time": "2021-11-19T05:37:28.454Z"
   },
   {
    "duration": 15,
    "start_time": "2021-11-19T05:37:28.477Z"
   },
   {
    "duration": 28,
    "start_time": "2021-11-19T05:37:28.494Z"
   },
   {
    "duration": 24,
    "start_time": "2021-11-19T05:37:28.523Z"
   },
   {
    "duration": 22,
    "start_time": "2021-11-19T05:37:28.548Z"
   },
   {
    "duration": 31,
    "start_time": "2021-11-19T05:37:28.571Z"
   },
   {
    "duration": 24,
    "start_time": "2021-11-19T05:37:28.604Z"
   },
   {
    "duration": 20,
    "start_time": "2021-11-19T05:37:28.630Z"
   },
   {
    "duration": 22,
    "start_time": "2021-11-19T05:37:28.651Z"
   },
   {
    "duration": 35,
    "start_time": "2021-11-19T05:37:28.674Z"
   },
   {
    "duration": 24,
    "start_time": "2021-11-19T05:37:28.711Z"
   },
   {
    "duration": 9,
    "start_time": "2021-11-19T05:37:28.736Z"
   },
   {
    "duration": 11,
    "start_time": "2021-11-19T05:37:28.747Z"
   },
   {
    "duration": 20,
    "start_time": "2021-11-19T05:37:28.760Z"
   },
   {
    "duration": 19,
    "start_time": "2021-11-19T05:37:28.781Z"
   },
   {
    "duration": 29,
    "start_time": "2021-11-19T05:37:28.801Z"
   },
   {
    "duration": 16,
    "start_time": "2021-11-19T05:37:28.832Z"
   },
   {
    "duration": 23,
    "start_time": "2021-11-19T05:37:28.849Z"
   },
   {
    "duration": 14,
    "start_time": "2021-11-19T05:37:28.874Z"
   },
   {
    "duration": 18,
    "start_time": "2021-11-19T05:37:28.889Z"
   },
   {
    "duration": 23,
    "start_time": "2021-11-19T05:37:28.908Z"
   },
   {
    "duration": 15,
    "start_time": "2021-11-19T05:37:28.932Z"
   },
   {
    "duration": 24,
    "start_time": "2021-11-19T05:37:28.948Z"
   },
   {
    "duration": 17,
    "start_time": "2021-11-19T05:37:28.973Z"
   },
   {
    "duration": 12,
    "start_time": "2021-11-19T05:37:28.991Z"
   },
   {
    "duration": 23,
    "start_time": "2021-11-19T05:37:29.004Z"
   },
   {
    "duration": 24,
    "start_time": "2021-11-19T05:37:29.028Z"
   },
   {
    "duration": 21,
    "start_time": "2021-11-19T05:37:29.053Z"
   },
   {
    "duration": 12,
    "start_time": "2021-11-19T05:37:29.078Z"
   },
   {
    "duration": 20,
    "start_time": "2021-11-19T05:37:29.091Z"
   },
   {
    "duration": 13,
    "start_time": "2021-11-19T05:37:29.112Z"
   },
   {
    "duration": 16,
    "start_time": "2021-11-19T05:37:29.126Z"
   },
   {
    "duration": 2683,
    "start_time": "2021-11-19T05:37:29.143Z"
   },
   {
    "duration": 13,
    "start_time": "2021-11-19T05:37:31.828Z"
   },
   {
    "duration": 20,
    "start_time": "2021-11-19T05:37:31.842Z"
   },
   {
    "duration": 691,
    "start_time": "2021-11-21T13:35:52.885Z"
   },
   {
    "duration": 14,
    "start_time": "2021-11-21T13:35:53.578Z"
   },
   {
    "duration": 23,
    "start_time": "2021-11-21T13:35:53.595Z"
   },
   {
    "duration": 10,
    "start_time": "2021-11-21T13:35:53.620Z"
   },
   {
    "duration": 6,
    "start_time": "2021-11-21T13:35:53.632Z"
   },
   {
    "duration": 9,
    "start_time": "2021-11-21T13:35:53.640Z"
   },
   {
    "duration": 56,
    "start_time": "2021-11-21T13:35:53.651Z"
   },
   {
    "duration": 16,
    "start_time": "2021-11-21T13:35:53.711Z"
   },
   {
    "duration": 4,
    "start_time": "2021-11-21T13:35:53.729Z"
   },
   {
    "duration": 12,
    "start_time": "2021-11-21T13:35:53.734Z"
   },
   {
    "duration": 5,
    "start_time": "2021-11-21T13:35:53.747Z"
   },
   {
    "duration": 51,
    "start_time": "2021-11-21T13:35:53.754Z"
   },
   {
    "duration": 8,
    "start_time": "2021-11-21T13:35:53.808Z"
   },
   {
    "duration": 11,
    "start_time": "2021-11-21T13:35:53.818Z"
   },
   {
    "duration": 16,
    "start_time": "2021-11-21T13:35:53.831Z"
   },
   {
    "duration": 44,
    "start_time": "2021-11-21T13:35:53.849Z"
   },
   {
    "duration": 7,
    "start_time": "2021-11-21T13:35:53.895Z"
   },
   {
    "duration": 8,
    "start_time": "2021-11-21T13:35:53.905Z"
   },
   {
    "duration": 6,
    "start_time": "2021-11-21T13:35:53.915Z"
   },
   {
    "duration": 6,
    "start_time": "2021-11-21T13:35:53.922Z"
   },
   {
    "duration": 6,
    "start_time": "2021-11-21T13:35:53.929Z"
   },
   {
    "duration": 6,
    "start_time": "2021-11-21T13:35:53.936Z"
   },
   {
    "duration": 47,
    "start_time": "2021-11-21T13:35:53.945Z"
   },
   {
    "duration": 11,
    "start_time": "2021-11-21T13:35:53.995Z"
   },
   {
    "duration": 5,
    "start_time": "2021-11-21T13:35:54.008Z"
   },
   {
    "duration": 26,
    "start_time": "2021-11-21T13:35:54.015Z"
   },
   {
    "duration": 52,
    "start_time": "2021-11-21T13:35:54.043Z"
   },
   {
    "duration": 9,
    "start_time": "2021-11-21T13:35:54.097Z"
   },
   {
    "duration": 6,
    "start_time": "2021-11-21T13:35:54.108Z"
   },
   {
    "duration": 11,
    "start_time": "2021-11-21T13:35:54.116Z"
   },
   {
    "duration": 14,
    "start_time": "2021-11-21T13:35:54.128Z"
   },
   {
    "duration": 62,
    "start_time": "2021-11-21T13:35:54.144Z"
   },
   {
    "duration": 15,
    "start_time": "2021-11-21T13:35:54.208Z"
   },
   {
    "duration": 6,
    "start_time": "2021-11-21T13:35:54.225Z"
   },
   {
    "duration": 715,
    "start_time": "2021-11-21T13:35:54.232Z"
   },
   {
    "duration": 3,
    "start_time": "2021-11-21T13:35:54.949Z"
   },
   {
    "duration": 5,
    "start_time": "2021-11-21T13:35:54.953Z"
   },
   {
    "duration": 6,
    "start_time": "2021-11-21T13:35:54.959Z"
   },
   {
    "duration": 32,
    "start_time": "2021-11-21T13:35:54.967Z"
   },
   {
    "duration": 10,
    "start_time": "2021-11-21T13:35:55.002Z"
   },
   {
    "duration": 11,
    "start_time": "2021-11-21T13:35:55.014Z"
   },
   {
    "duration": 13,
    "start_time": "2021-11-21T13:35:55.027Z"
   },
   {
    "duration": 11,
    "start_time": "2021-11-21T13:35:55.042Z"
   },
   {
    "duration": 295,
    "start_time": "2021-11-21T13:36:23.230Z"
   },
   {
    "duration": 775,
    "start_time": "2021-11-21T13:36:46.315Z"
   },
   {
    "duration": 45,
    "start_time": "2021-11-21T13:36:57.581Z"
   },
   {
    "duration": 22,
    "start_time": "2021-11-21T13:37:01.361Z"
   },
   {
    "duration": 36,
    "start_time": "2021-11-21T13:37:15.972Z"
   },
   {
    "duration": 247,
    "start_time": "2021-11-21T13:37:23.368Z"
   },
   {
    "duration": 235,
    "start_time": "2021-11-21T13:38:11.517Z"
   },
   {
    "duration": 242,
    "start_time": "2021-11-21T13:38:13.468Z"
   },
   {
    "duration": 6679,
    "start_time": "2021-11-21T13:40:47.349Z"
   },
   {
    "duration": 24,
    "start_time": "2021-11-21T13:41:16.636Z"
   },
   {
    "duration": 9,
    "start_time": "2021-11-21T13:41:38.648Z"
   },
   {
    "duration": 26,
    "start_time": "2021-11-21T13:43:06.889Z"
   },
   {
    "duration": 22,
    "start_time": "2021-11-21T13:43:57.424Z"
   },
   {
    "duration": 27,
    "start_time": "2021-11-21T13:50:55.798Z"
   },
   {
    "duration": 21,
    "start_time": "2021-11-21T14:00:03.726Z"
   },
   {
    "duration": 21,
    "start_time": "2021-11-21T14:20:36.845Z"
   },
   {
    "duration": 18,
    "start_time": "2021-11-21T14:20:50.767Z"
   },
   {
    "duration": 387,
    "start_time": "2021-11-21T14:21:13.604Z"
   },
   {
    "duration": 18,
    "start_time": "2021-11-21T14:21:51.630Z"
   },
   {
    "duration": 17,
    "start_time": "2021-11-21T14:22:37.936Z"
   },
   {
    "duration": 74,
    "start_time": "2021-11-21T14:23:38.642Z"
   },
   {
    "duration": 21,
    "start_time": "2021-11-21T14:23:48.196Z"
   }
  ],
  "kernelspec": {
   "display_name": "Python 3 (ipykernel)",
   "language": "python",
   "name": "python3"
  },
  "language_info": {
   "codemirror_mode": {
    "name": "ipython",
    "version": 3
   },
   "file_extension": ".py",
   "mimetype": "text/x-python",
   "name": "python",
   "nbconvert_exporter": "python",
   "pygments_lexer": "ipython3",
   "version": "3.9.7"
  },
  "toc": {
   "base_numbering": 1,
   "nav_menu": {},
   "number_sections": false,
   "sideBar": true,
   "skip_h1_title": true,
   "title_cell": "Table of Contents",
   "title_sidebar": "Contents",
   "toc_cell": false,
   "toc_position": {
    "height": "calc(100% - 180px)",
    "left": "10px",
    "top": "150px",
    "width": "343.807px"
   },
   "toc_section_display": true,
   "toc_window_display": true
  },
  "varInspector": {
   "cols": {
    "lenName": 16,
    "lenType": 16,
    "lenVar": 40
   },
   "kernels_config": {
    "python": {
     "delete_cmd_postfix": "",
     "delete_cmd_prefix": "del ",
     "library": "var_list.py",
     "varRefreshCmd": "print(var_dic_list())"
    },
    "r": {
     "delete_cmd_postfix": ") ",
     "delete_cmd_prefix": "rm(",
     "library": "var_list.r",
     "varRefreshCmd": "cat(var_dic_list()) "
    }
   },
   "oldHeight": 122.84136400000001,
   "position": {
    "height": "469.844px",
    "left": "1081.09px",
    "right": "20px",
    "top": "75px",
    "width": "553.011px"
   },
   "types_to_exclude": [
    "module",
    "function",
    "builtin_function_or_method",
    "instance",
    "_Feature"
   ],
   "varInspector_section_display": "block",
   "window_display": false
  }
 },
 "nbformat": 4,
 "nbformat_minor": 2
}
